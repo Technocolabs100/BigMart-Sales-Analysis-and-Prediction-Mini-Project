{
  "cells": [
    {
      "cell_type": "markdown",
      "metadata": {
        "id": "4e4eCk6m87Lb"
      },
      "source": [
        "# **BIG MART**"
      ]
    },
    {
      "cell_type": "markdown",
      "metadata": {
        "id": "p39m_82e97tH"
      },
      "source": [
        "---\n",
        "# **Table of Contents**\n",
        "---\n",
        "\n",
        "1. [**Introduction**](#Section1)<br>\n",
        "2. [**Data Id**](#Section2)<br>\n",
        "3. [**Libraries**](#Section3)<br>\n",
        "4. [**File path**](#Section4)<br>\n",
        "5. [**Preprocessing and Data Analysis**](#Section5)<br>\n",
        "6. [**Machine learning models**](#Section6)<br>\n",
        "7. [**Conclusion**](#Section7)<br>\n"
      ]
    },
    {
      "cell_type": "markdown",
      "metadata": {
        "id": "1XjvcZwCBcYw"
      },
      "source": [
        "\n",
        "# **Introduction**\n",
        "\n",
        "\n",
        "\n",
        "### Problem Statement:\n",
        "The data scientists at BigMart have collected sales data for 1559 products across 10 stores in different cities for the year 2013. Now each product has certain attributes that sets it apart from other products.\n",
        "\n",
        "### Breakdown of the Problem Statement:\n",
        "* Supervised machine learning problem.\n",
        "* The target value will be `Item_Outlet_Sales`.\n",
        "\n",
        "### Aim of the NoteBook:\n",
        "The objective is to create a model that can predict the sales per product for each store. Using this model, BigMart will try to understand the properties of products and stores which play a key role in increasing sales."
      ]
    },
    {
      "cell_type": "markdown",
      "metadata": {
        "id": "AGbzVHQKCRx_"
      },
      "source": [
        "---\n",
        "<a name = Section2></a>\n",
        "# **2.Data Id**\n",
        "---\n",
        "\n",
        "This dataset is named [BigMart Sales]. The dataset contains a set of **8,523 records** under **12 attributes**:\n",
        "\n",
        "\n",
        "| Column Name                         | Description                                                    |\n",
        "|------------------                   |----------------------------------------------------------------|\n",
        "| `Item_Identifier`                   | Unique product ID                                              |\n",
        "| `Item_Weight`                       | Weight of product                                              |\n",
        "| `Item_Fat_Content`                  | Checks the Concentration of fat in the product                 |\n",
        "| `Item_Visibility`                   | The % of total display area of all similar products in a store |\n",
        "| `Item_Type`                         | Product Category                                               |\n",
        "| `Item_MRP`                          | Maximum Retail Price for a Product                             |\n",
        "| `Outlet_Identifier`                 | Store ID                                                       |\n",
        "| `Outlet_Establishment_Year`         | The year in which store was established                        |\n",
        "| `Outlet_Size`                       | The size of the store (Area Size Category)                     |\n",
        "| `Outlet_Location_Type`              | In Terms of city Tiers (Size)                                  |\n",
        "| `Outlet_Type`                       | Grocery store or a type of    supermarket                      |\n",
        "| `Item_Outlet_Sales`                 | Sales of the product In the Specific outlet                    |"
      ]
    },
    {
      "cell_type": "markdown",
      "metadata": {
        "id": "gsctpdacEtr0"
      },
      "source": [
        "---\n",
        "<a name = Section2></a>\n",
        "# **3.Libraries**\n",
        "---\n"
      ]
    },
    {
      "cell_type": "code",
      "execution_count": 1,
      "metadata": {
        "id": "6WDsxjeMFC8R"
      },
      "outputs": [],
      "source": [
        "import numpy as np # linear algebra\n",
        "import pandas as pd # data processing\n",
        "import warnings# warning filter\n",
        "\n",
        "\n",
        "#ploting libraries\n",
        "import matplotlib.pyplot as plt\n",
        "import seaborn as sns\n",
        "#feature engineering\n",
        "from sklearn.preprocessing import OneHotEncoder\n",
        "from sklearn.preprocessing import LabelEncoder\n",
        "\n",
        "#train test split\n",
        "from sklearn.model_selection import train_test_split\n",
        "\n",
        "#metrics\n",
        "from sklearn.metrics import mean_absolute_error as MAE\n",
        "from sklearn.metrics import mean_squared_error as MSE\n",
        "from sklearn.metrics import r2_score as R2\n",
        "from sklearn.model_selection  import cross_val_score as CVS\n",
        "\n",
        "\n",
        "#ML models\n",
        "from sklearn.linear_model import LinearRegression\n",
        "from sklearn.ensemble import RandomForestRegressor\n",
        "from sklearn.linear_model import Lasso\n",
        "\n",
        "\n"
      ]
    },
    {
      "cell_type": "markdown",
      "source": [],
      "metadata": {
        "id": "rWP1AYf6PVag"
      }
    },
    {
      "cell_type": "code",
      "execution_count": 3,
      "metadata": {
        "id": "p4t20-o4GLm7"
      },
      "outputs": [],
      "source": [
        "import zipfile\n",
        "with zipfile.ZipFile('/content/Bigmart.zip', 'r') as file:\n",
        "    file.extractall()"
      ]
    },
    {
      "cell_type": "markdown",
      "metadata": {
        "id": "tsFuXe0nJtBJ"
      },
      "source": [
        "---\n",
        "<a name = Section2></a>\n",
        "# **4.File path**\n",
        "---"
      ]
    },
    {
      "cell_type": "code",
      "execution_count": 4,
      "metadata": {
        "id": "jlPislBVHkAx"
      },
      "outputs": [],
      "source": [
        " train = pd.read_csv('/content/train_v9rqX0R.csv')\n",
        " test= pd.read_csv('/content/test_AbJTz2l.csv')"
      ]
    },
    {
      "cell_type": "markdown",
      "metadata": {
        "id": "x90z8tGG1cHa"
      },
      "source": [
        "---\n",
        "<a name = Section2></a>\n",
        "# **5.Preprocessing and Data Analysis**\n",
        "---"
      ]
    },
    {
      "cell_type": "markdown",
      "metadata": {
        "id": "yVGKHXE2J5qn"
      },
      "source": [
        "**First look at the data:**"
      ]
    },
    {
      "cell_type": "markdown",
      "metadata": {
        "id": "lwfBCKnjK8cg"
      },
      "source": [
        "**Train Dataset**"
      ]
    },
    {
      "cell_type": "code",
      "execution_count": 5,
      "metadata": {
        "colab": {
          "base_uri": "https://localhost:8080/"
        },
        "id": "8G6dU32-Jz0m",
        "outputId": "93acf465-072d-4ec2-be6d-5234e8e8d604"
      },
      "outputs": [
        {
          "output_type": "stream",
          "name": "stdout",
          "text": [
            "<class 'pandas.core.frame.DataFrame'>\n",
            "RangeIndex: 8523 entries, 0 to 8522\n",
            "Data columns (total 12 columns):\n",
            " #   Column                     Non-Null Count  Dtype  \n",
            "---  ------                     --------------  -----  \n",
            " 0   Item_Identifier            8523 non-null   object \n",
            " 1   Item_Weight                7060 non-null   float64\n",
            " 2   Item_Fat_Content           8523 non-null   object \n",
            " 3   Item_Visibility            8523 non-null   float64\n",
            " 4   Item_Type                  8523 non-null   object \n",
            " 5   Item_MRP                   8523 non-null   float64\n",
            " 6   Outlet_Identifier          8523 non-null   object \n",
            " 7   Outlet_Establishment_Year  8523 non-null   int64  \n",
            " 8   Outlet_Size                6113 non-null   object \n",
            " 9   Outlet_Location_Type       8523 non-null   object \n",
            " 10  Outlet_Type                8523 non-null   object \n",
            " 11  Item_Outlet_Sales          8523 non-null   float64\n",
            "dtypes: float64(4), int64(1), object(7)\n",
            "memory usage: 799.2+ KB\n"
          ]
        }
      ],
      "source": [
        "train.info()"
      ]
    },
    {
      "cell_type": "markdown",
      "metadata": {
        "id": "e1in3ZkkKZLL"
      },
      "source": [
        "* 8523 entries in the dataset\n",
        "* Item_Weight and Outlet_Size  have Missing  Values\n"
      ]
    },
    {
      "cell_type": "code",
      "execution_count": null,
      "metadata": {
        "colab": {
          "base_uri": "https://localhost:8080/",
          "height": 313
        },
        "id": "IUuolkQmK6pG",
        "outputId": "80daa3d0-4616-4bed-c0e7-f6a10c01e20a"
      },
      "outputs": [
        {
          "data": {
            "text/html": [
              "\n",
              "  <div id=\"df-2ebf277f-117c-4cc2-bc17-b2d252da6c18\" class=\"colab-df-container\">\n",
              "    <div>\n",
              "<style scoped>\n",
              "    .dataframe tbody tr th:only-of-type {\n",
              "        vertical-align: middle;\n",
              "    }\n",
              "\n",
              "    .dataframe tbody tr th {\n",
              "        vertical-align: top;\n",
              "    }\n",
              "\n",
              "    .dataframe thead th {\n",
              "        text-align: right;\n",
              "    }\n",
              "</style>\n",
              "<table border=\"1\" class=\"dataframe\">\n",
              "  <thead>\n",
              "    <tr style=\"text-align: right;\">\n",
              "      <th></th>\n",
              "      <th>Item_Identifier</th>\n",
              "      <th>Item_Weight</th>\n",
              "      <th>Item_Fat_Content</th>\n",
              "      <th>Item_Visibility</th>\n",
              "      <th>Item_Type</th>\n",
              "      <th>Item_MRP</th>\n",
              "      <th>Outlet_Identifier</th>\n",
              "      <th>Outlet_Establishment_Year</th>\n",
              "      <th>Outlet_Size</th>\n",
              "      <th>Outlet_Location_Type</th>\n",
              "      <th>Outlet_Type</th>\n",
              "      <th>Item_Outlet_Sales</th>\n",
              "    </tr>\n",
              "  </thead>\n",
              "  <tbody>\n",
              "    <tr>\n",
              "      <th>0</th>\n",
              "      <td>FDA15</td>\n",
              "      <td>9.30</td>\n",
              "      <td>Low Fat</td>\n",
              "      <td>0.016047</td>\n",
              "      <td>Dairy</td>\n",
              "      <td>249.8092</td>\n",
              "      <td>OUT049</td>\n",
              "      <td>1999</td>\n",
              "      <td>Medium</td>\n",
              "      <td>Tier 1</td>\n",
              "      <td>Supermarket Type1</td>\n",
              "      <td>3735.1380</td>\n",
              "    </tr>\n",
              "    <tr>\n",
              "      <th>1</th>\n",
              "      <td>DRC01</td>\n",
              "      <td>5.92</td>\n",
              "      <td>Regular</td>\n",
              "      <td>0.019278</td>\n",
              "      <td>Soft Drinks</td>\n",
              "      <td>48.2692</td>\n",
              "      <td>OUT018</td>\n",
              "      <td>2009</td>\n",
              "      <td>Medium</td>\n",
              "      <td>Tier 3</td>\n",
              "      <td>Supermarket Type2</td>\n",
              "      <td>443.4228</td>\n",
              "    </tr>\n",
              "    <tr>\n",
              "      <th>2</th>\n",
              "      <td>FDN15</td>\n",
              "      <td>17.50</td>\n",
              "      <td>Low Fat</td>\n",
              "      <td>0.016760</td>\n",
              "      <td>Meat</td>\n",
              "      <td>141.6180</td>\n",
              "      <td>OUT049</td>\n",
              "      <td>1999</td>\n",
              "      <td>Medium</td>\n",
              "      <td>Tier 1</td>\n",
              "      <td>Supermarket Type1</td>\n",
              "      <td>2097.2700</td>\n",
              "    </tr>\n",
              "    <tr>\n",
              "      <th>3</th>\n",
              "      <td>FDX07</td>\n",
              "      <td>19.20</td>\n",
              "      <td>Regular</td>\n",
              "      <td>0.000000</td>\n",
              "      <td>Fruits and Vegetables</td>\n",
              "      <td>182.0950</td>\n",
              "      <td>OUT010</td>\n",
              "      <td>1998</td>\n",
              "      <td>NaN</td>\n",
              "      <td>Tier 3</td>\n",
              "      <td>Grocery Store</td>\n",
              "      <td>732.3800</td>\n",
              "    </tr>\n",
              "    <tr>\n",
              "      <th>4</th>\n",
              "      <td>NCD19</td>\n",
              "      <td>8.93</td>\n",
              "      <td>Low Fat</td>\n",
              "      <td>0.000000</td>\n",
              "      <td>Household</td>\n",
              "      <td>53.8614</td>\n",
              "      <td>OUT013</td>\n",
              "      <td>1987</td>\n",
              "      <td>High</td>\n",
              "      <td>Tier 3</td>\n",
              "      <td>Supermarket Type1</td>\n",
              "      <td>994.7052</td>\n",
              "    </tr>\n",
              "  </tbody>\n",
              "</table>\n",
              "</div>\n",
              "    <div class=\"colab-df-buttons\">\n",
              "\n",
              "  <div class=\"colab-df-container\">\n",
              "    <button class=\"colab-df-convert\" onclick=\"convertToInteractive('df-2ebf277f-117c-4cc2-bc17-b2d252da6c18')\"\n",
              "            title=\"Convert this dataframe to an interactive table.\"\n",
              "            style=\"display:none;\">\n",
              "\n",
              "  <svg xmlns=\"http://www.w3.org/2000/svg\" height=\"24px\" viewBox=\"0 -960 960 960\">\n",
              "    <path d=\"M120-120v-720h720v720H120Zm60-500h600v-160H180v160Zm220 220h160v-160H400v160Zm0 220h160v-160H400v160ZM180-400h160v-160H180v160Zm440 0h160v-160H620v160ZM180-180h160v-160H180v160Zm440 0h160v-160H620v160Z\"/>\n",
              "  </svg>\n",
              "    </button>\n",
              "\n",
              "  <style>\n",
              "    .colab-df-container {\n",
              "      display:flex;\n",
              "      gap: 12px;\n",
              "    }\n",
              "\n",
              "    .colab-df-convert {\n",
              "      background-color: #E8F0FE;\n",
              "      border: none;\n",
              "      border-radius: 50%;\n",
              "      cursor: pointer;\n",
              "      display: none;\n",
              "      fill: #1967D2;\n",
              "      height: 32px;\n",
              "      padding: 0 0 0 0;\n",
              "      width: 32px;\n",
              "    }\n",
              "\n",
              "    .colab-df-convert:hover {\n",
              "      background-color: #E2EBFA;\n",
              "      box-shadow: 0px 1px 2px rgba(60, 64, 67, 0.3), 0px 1px 3px 1px rgba(60, 64, 67, 0.15);\n",
              "      fill: #174EA6;\n",
              "    }\n",
              "\n",
              "    .colab-df-buttons div {\n",
              "      margin-bottom: 4px;\n",
              "    }\n",
              "\n",
              "    [theme=dark] .colab-df-convert {\n",
              "      background-color: #3B4455;\n",
              "      fill: #D2E3FC;\n",
              "    }\n",
              "\n",
              "    [theme=dark] .colab-df-convert:hover {\n",
              "      background-color: #434B5C;\n",
              "      box-shadow: 0px 1px 3px 1px rgba(0, 0, 0, 0.15);\n",
              "      filter: drop-shadow(0px 1px 2px rgba(0, 0, 0, 0.3));\n",
              "      fill: #FFFFFF;\n",
              "    }\n",
              "  </style>\n",
              "\n",
              "    <script>\n",
              "      const buttonEl =\n",
              "        document.querySelector('#df-2ebf277f-117c-4cc2-bc17-b2d252da6c18 button.colab-df-convert');\n",
              "      buttonEl.style.display =\n",
              "        google.colab.kernel.accessAllowed ? 'block' : 'none';\n",
              "\n",
              "      async function convertToInteractive(key) {\n",
              "        const element = document.querySelector('#df-2ebf277f-117c-4cc2-bc17-b2d252da6c18');\n",
              "        const dataTable =\n",
              "          await google.colab.kernel.invokeFunction('convertToInteractive',\n",
              "                                                    [key], {});\n",
              "        if (!dataTable) return;\n",
              "\n",
              "        const docLinkHtml = 'Like what you see? Visit the ' +\n",
              "          '<a target=\"_blank\" href=https://colab.research.google.com/notebooks/data_table.ipynb>data table notebook</a>'\n",
              "          + ' to learn more about interactive tables.';\n",
              "        element.innerHTML = '';\n",
              "        dataTable['output_type'] = 'display_data';\n",
              "        await google.colab.output.renderOutput(dataTable, element);\n",
              "        const docLink = document.createElement('div');\n",
              "        docLink.innerHTML = docLinkHtml;\n",
              "        element.appendChild(docLink);\n",
              "      }\n",
              "    </script>\n",
              "  </div>\n",
              "\n",
              "\n",
              "<div id=\"df-8a5a91ae-7f3c-4e4d-a19f-f57c044e4bd0\">\n",
              "  <button class=\"colab-df-quickchart\" onclick=\"quickchart('df-8a5a91ae-7f3c-4e4d-a19f-f57c044e4bd0')\"\n",
              "            title=\"Suggest charts.\"\n",
              "            style=\"display:none;\">\n",
              "\n",
              "<svg xmlns=\"http://www.w3.org/2000/svg\" height=\"24px\"viewBox=\"0 0 24 24\"\n",
              "     width=\"24px\">\n",
              "    <g>\n",
              "        <path d=\"M19 3H5c-1.1 0-2 .9-2 2v14c0 1.1.9 2 2 2h14c1.1 0 2-.9 2-2V5c0-1.1-.9-2-2-2zM9 17H7v-7h2v7zm4 0h-2V7h2v10zm4 0h-2v-4h2v4z\"/>\n",
              "    </g>\n",
              "</svg>\n",
              "  </button>\n",
              "\n",
              "<style>\n",
              "  .colab-df-quickchart {\n",
              "      --bg-color: #E8F0FE;\n",
              "      --fill-color: #1967D2;\n",
              "      --hover-bg-color: #E2EBFA;\n",
              "      --hover-fill-color: #174EA6;\n",
              "      --disabled-fill-color: #AAA;\n",
              "      --disabled-bg-color: #DDD;\n",
              "  }\n",
              "\n",
              "  [theme=dark] .colab-df-quickchart {\n",
              "      --bg-color: #3B4455;\n",
              "      --fill-color: #D2E3FC;\n",
              "      --hover-bg-color: #434B5C;\n",
              "      --hover-fill-color: #FFFFFF;\n",
              "      --disabled-bg-color: #3B4455;\n",
              "      --disabled-fill-color: #666;\n",
              "  }\n",
              "\n",
              "  .colab-df-quickchart {\n",
              "    background-color: var(--bg-color);\n",
              "    border: none;\n",
              "    border-radius: 50%;\n",
              "    cursor: pointer;\n",
              "    display: none;\n",
              "    fill: var(--fill-color);\n",
              "    height: 32px;\n",
              "    padding: 0;\n",
              "    width: 32px;\n",
              "  }\n",
              "\n",
              "  .colab-df-quickchart:hover {\n",
              "    background-color: var(--hover-bg-color);\n",
              "    box-shadow: 0 1px 2px rgba(60, 64, 67, 0.3), 0 1px 3px 1px rgba(60, 64, 67, 0.15);\n",
              "    fill: var(--button-hover-fill-color);\n",
              "  }\n",
              "\n",
              "  .colab-df-quickchart-complete:disabled,\n",
              "  .colab-df-quickchart-complete:disabled:hover {\n",
              "    background-color: var(--disabled-bg-color);\n",
              "    fill: var(--disabled-fill-color);\n",
              "    box-shadow: none;\n",
              "  }\n",
              "\n",
              "  .colab-df-spinner {\n",
              "    border: 2px solid var(--fill-color);\n",
              "    border-color: transparent;\n",
              "    border-bottom-color: var(--fill-color);\n",
              "    animation:\n",
              "      spin 1s steps(1) infinite;\n",
              "  }\n",
              "\n",
              "  @keyframes spin {\n",
              "    0% {\n",
              "      border-color: transparent;\n",
              "      border-bottom-color: var(--fill-color);\n",
              "      border-left-color: var(--fill-color);\n",
              "    }\n",
              "    20% {\n",
              "      border-color: transparent;\n",
              "      border-left-color: var(--fill-color);\n",
              "      border-top-color: var(--fill-color);\n",
              "    }\n",
              "    30% {\n",
              "      border-color: transparent;\n",
              "      border-left-color: var(--fill-color);\n",
              "      border-top-color: var(--fill-color);\n",
              "      border-right-color: var(--fill-color);\n",
              "    }\n",
              "    40% {\n",
              "      border-color: transparent;\n",
              "      border-right-color: var(--fill-color);\n",
              "      border-top-color: var(--fill-color);\n",
              "    }\n",
              "    60% {\n",
              "      border-color: transparent;\n",
              "      border-right-color: var(--fill-color);\n",
              "    }\n",
              "    80% {\n",
              "      border-color: transparent;\n",
              "      border-right-color: var(--fill-color);\n",
              "      border-bottom-color: var(--fill-color);\n",
              "    }\n",
              "    90% {\n",
              "      border-color: transparent;\n",
              "      border-bottom-color: var(--fill-color);\n",
              "    }\n",
              "  }\n",
              "</style>\n",
              "\n",
              "  <script>\n",
              "    async function quickchart(key) {\n",
              "      const quickchartButtonEl =\n",
              "        document.querySelector('#' + key + ' button');\n",
              "      quickchartButtonEl.disabled = true;  // To prevent multiple clicks.\n",
              "      quickchartButtonEl.classList.add('colab-df-spinner');\n",
              "      try {\n",
              "        const charts = await google.colab.kernel.invokeFunction(\n",
              "            'suggestCharts', [key], {});\n",
              "      } catch (error) {\n",
              "        console.error('Error during call to suggestCharts:', error);\n",
              "      }\n",
              "      quickchartButtonEl.classList.remove('colab-df-spinner');\n",
              "      quickchartButtonEl.classList.add('colab-df-quickchart-complete');\n",
              "    }\n",
              "    (() => {\n",
              "      let quickchartButtonEl =\n",
              "        document.querySelector('#df-8a5a91ae-7f3c-4e4d-a19f-f57c044e4bd0 button');\n",
              "      quickchartButtonEl.style.display =\n",
              "        google.colab.kernel.accessAllowed ? 'block' : 'none';\n",
              "    })();\n",
              "  </script>\n",
              "</div>\n",
              "    </div>\n",
              "  </div>\n"
            ],
            "text/plain": [
              "  Item_Identifier  Item_Weight Item_Fat_Content  Item_Visibility  \\\n",
              "0           FDA15         9.30          Low Fat         0.016047   \n",
              "1           DRC01         5.92          Regular         0.019278   \n",
              "2           FDN15        17.50          Low Fat         0.016760   \n",
              "3           FDX07        19.20          Regular         0.000000   \n",
              "4           NCD19         8.93          Low Fat         0.000000   \n",
              "\n",
              "               Item_Type  Item_MRP Outlet_Identifier  \\\n",
              "0                  Dairy  249.8092            OUT049   \n",
              "1            Soft Drinks   48.2692            OUT018   \n",
              "2                   Meat  141.6180            OUT049   \n",
              "3  Fruits and Vegetables  182.0950            OUT010   \n",
              "4              Household   53.8614            OUT013   \n",
              "\n",
              "   Outlet_Establishment_Year Outlet_Size Outlet_Location_Type  \\\n",
              "0                       1999      Medium               Tier 1   \n",
              "1                       2009      Medium               Tier 3   \n",
              "2                       1999      Medium               Tier 1   \n",
              "3                       1998         NaN               Tier 3   \n",
              "4                       1987        High               Tier 3   \n",
              "\n",
              "         Outlet_Type  Item_Outlet_Sales  \n",
              "0  Supermarket Type1          3735.1380  \n",
              "1  Supermarket Type2           443.4228  \n",
              "2  Supermarket Type1          2097.2700  \n",
              "3      Grocery Store           732.3800  \n",
              "4  Supermarket Type1           994.7052  "
            ]
          },
          "execution_count": 165,
          "metadata": {},
          "output_type": "execute_result"
        }
      ],
      "source": [
        "train.head()"
      ]
    },
    {
      "cell_type": "markdown",
      "metadata": {
        "id": "ryG3-qDdz9fS"
      },
      "source": [
        "**Test Dataset**"
      ]
    },
    {
      "cell_type": "code",
      "execution_count": null,
      "metadata": {
        "colab": {
          "base_uri": "https://localhost:8080/"
        },
        "id": "lYHkqeHv0FUE",
        "outputId": "5ad58ef4-33fd-4ced-bf3d-218b25e279fc"
      },
      "outputs": [
        {
          "name": "stdout",
          "output_type": "stream",
          "text": [
            "<class 'pandas.core.frame.DataFrame'>\n",
            "RangeIndex: 5681 entries, 0 to 5680\n",
            "Data columns (total 11 columns):\n",
            " #   Column                     Non-Null Count  Dtype  \n",
            "---  ------                     --------------  -----  \n",
            " 0   Item_Identifier            5681 non-null   object \n",
            " 1   Item_Weight                4705 non-null   float64\n",
            " 2   Item_Fat_Content           5681 non-null   object \n",
            " 3   Item_Visibility            5681 non-null   float64\n",
            " 4   Item_Type                  5681 non-null   object \n",
            " 5   Item_MRP                   5681 non-null   float64\n",
            " 6   Outlet_Identifier          5681 non-null   object \n",
            " 7   Outlet_Establishment_Year  5681 non-null   int64  \n",
            " 8   Outlet_Size                4075 non-null   object \n",
            " 9   Outlet_Location_Type       5681 non-null   object \n",
            " 10  Outlet_Type                5681 non-null   object \n",
            "dtypes: float64(3), int64(1), object(7)\n",
            "memory usage: 488.3+ KB\n"
          ]
        }
      ],
      "source": [
        "test.info()"
      ]
    },
    {
      "cell_type": "markdown",
      "metadata": {
        "id": "knp6Iiag0sR5"
      },
      "source": [
        "* 5681 entries in test dataset\n",
        "* Item_Weight\tand Outlet_Size have missing values"
      ]
    },
    {
      "cell_type": "code",
      "execution_count": null,
      "metadata": {
        "colab": {
          "base_uri": "https://localhost:8080/",
          "height": 313
        },
        "id": "vxOloBVc0Mre",
        "outputId": "42d60c83-9072-424b-8dee-00a72acff6a4"
      },
      "outputs": [
        {
          "data": {
            "text/html": [
              "\n",
              "  <div id=\"df-c39c71af-0ef0-40ac-93e1-831f7e492198\" class=\"colab-df-container\">\n",
              "    <div>\n",
              "<style scoped>\n",
              "    .dataframe tbody tr th:only-of-type {\n",
              "        vertical-align: middle;\n",
              "    }\n",
              "\n",
              "    .dataframe tbody tr th {\n",
              "        vertical-align: top;\n",
              "    }\n",
              "\n",
              "    .dataframe thead th {\n",
              "        text-align: right;\n",
              "    }\n",
              "</style>\n",
              "<table border=\"1\" class=\"dataframe\">\n",
              "  <thead>\n",
              "    <tr style=\"text-align: right;\">\n",
              "      <th></th>\n",
              "      <th>Item_Identifier</th>\n",
              "      <th>Item_Weight</th>\n",
              "      <th>Item_Fat_Content</th>\n",
              "      <th>Item_Visibility</th>\n",
              "      <th>Item_Type</th>\n",
              "      <th>Item_MRP</th>\n",
              "      <th>Outlet_Identifier</th>\n",
              "      <th>Outlet_Establishment_Year</th>\n",
              "      <th>Outlet_Size</th>\n",
              "      <th>Outlet_Location_Type</th>\n",
              "      <th>Outlet_Type</th>\n",
              "    </tr>\n",
              "  </thead>\n",
              "  <tbody>\n",
              "    <tr>\n",
              "      <th>0</th>\n",
              "      <td>FDW58</td>\n",
              "      <td>20.750</td>\n",
              "      <td>Low Fat</td>\n",
              "      <td>0.007565</td>\n",
              "      <td>Snack Foods</td>\n",
              "      <td>107.8622</td>\n",
              "      <td>OUT049</td>\n",
              "      <td>1999</td>\n",
              "      <td>Medium</td>\n",
              "      <td>Tier 1</td>\n",
              "      <td>Supermarket Type1</td>\n",
              "    </tr>\n",
              "    <tr>\n",
              "      <th>1</th>\n",
              "      <td>FDW14</td>\n",
              "      <td>8.300</td>\n",
              "      <td>reg</td>\n",
              "      <td>0.038428</td>\n",
              "      <td>Dairy</td>\n",
              "      <td>87.3198</td>\n",
              "      <td>OUT017</td>\n",
              "      <td>2007</td>\n",
              "      <td>NaN</td>\n",
              "      <td>Tier 2</td>\n",
              "      <td>Supermarket Type1</td>\n",
              "    </tr>\n",
              "    <tr>\n",
              "      <th>2</th>\n",
              "      <td>NCN55</td>\n",
              "      <td>14.600</td>\n",
              "      <td>Low Fat</td>\n",
              "      <td>0.099575</td>\n",
              "      <td>Others</td>\n",
              "      <td>241.7538</td>\n",
              "      <td>OUT010</td>\n",
              "      <td>1998</td>\n",
              "      <td>NaN</td>\n",
              "      <td>Tier 3</td>\n",
              "      <td>Grocery Store</td>\n",
              "    </tr>\n",
              "    <tr>\n",
              "      <th>3</th>\n",
              "      <td>FDQ58</td>\n",
              "      <td>7.315</td>\n",
              "      <td>Low Fat</td>\n",
              "      <td>0.015388</td>\n",
              "      <td>Snack Foods</td>\n",
              "      <td>155.0340</td>\n",
              "      <td>OUT017</td>\n",
              "      <td>2007</td>\n",
              "      <td>NaN</td>\n",
              "      <td>Tier 2</td>\n",
              "      <td>Supermarket Type1</td>\n",
              "    </tr>\n",
              "    <tr>\n",
              "      <th>4</th>\n",
              "      <td>FDY38</td>\n",
              "      <td>NaN</td>\n",
              "      <td>Regular</td>\n",
              "      <td>0.118599</td>\n",
              "      <td>Dairy</td>\n",
              "      <td>234.2300</td>\n",
              "      <td>OUT027</td>\n",
              "      <td>1985</td>\n",
              "      <td>Medium</td>\n",
              "      <td>Tier 3</td>\n",
              "      <td>Supermarket Type3</td>\n",
              "    </tr>\n",
              "  </tbody>\n",
              "</table>\n",
              "</div>\n",
              "    <div class=\"colab-df-buttons\">\n",
              "\n",
              "  <div class=\"colab-df-container\">\n",
              "    <button class=\"colab-df-convert\" onclick=\"convertToInteractive('df-c39c71af-0ef0-40ac-93e1-831f7e492198')\"\n",
              "            title=\"Convert this dataframe to an interactive table.\"\n",
              "            style=\"display:none;\">\n",
              "\n",
              "  <svg xmlns=\"http://www.w3.org/2000/svg\" height=\"24px\" viewBox=\"0 -960 960 960\">\n",
              "    <path d=\"M120-120v-720h720v720H120Zm60-500h600v-160H180v160Zm220 220h160v-160H400v160Zm0 220h160v-160H400v160ZM180-400h160v-160H180v160Zm440 0h160v-160H620v160ZM180-180h160v-160H180v160Zm440 0h160v-160H620v160Z\"/>\n",
              "  </svg>\n",
              "    </button>\n",
              "\n",
              "  <style>\n",
              "    .colab-df-container {\n",
              "      display:flex;\n",
              "      gap: 12px;\n",
              "    }\n",
              "\n",
              "    .colab-df-convert {\n",
              "      background-color: #E8F0FE;\n",
              "      border: none;\n",
              "      border-radius: 50%;\n",
              "      cursor: pointer;\n",
              "      display: none;\n",
              "      fill: #1967D2;\n",
              "      height: 32px;\n",
              "      padding: 0 0 0 0;\n",
              "      width: 32px;\n",
              "    }\n",
              "\n",
              "    .colab-df-convert:hover {\n",
              "      background-color: #E2EBFA;\n",
              "      box-shadow: 0px 1px 2px rgba(60, 64, 67, 0.3), 0px 1px 3px 1px rgba(60, 64, 67, 0.15);\n",
              "      fill: #174EA6;\n",
              "    }\n",
              "\n",
              "    .colab-df-buttons div {\n",
              "      margin-bottom: 4px;\n",
              "    }\n",
              "\n",
              "    [theme=dark] .colab-df-convert {\n",
              "      background-color: #3B4455;\n",
              "      fill: #D2E3FC;\n",
              "    }\n",
              "\n",
              "    [theme=dark] .colab-df-convert:hover {\n",
              "      background-color: #434B5C;\n",
              "      box-shadow: 0px 1px 3px 1px rgba(0, 0, 0, 0.15);\n",
              "      filter: drop-shadow(0px 1px 2px rgba(0, 0, 0, 0.3));\n",
              "      fill: #FFFFFF;\n",
              "    }\n",
              "  </style>\n",
              "\n",
              "    <script>\n",
              "      const buttonEl =\n",
              "        document.querySelector('#df-c39c71af-0ef0-40ac-93e1-831f7e492198 button.colab-df-convert');\n",
              "      buttonEl.style.display =\n",
              "        google.colab.kernel.accessAllowed ? 'block' : 'none';\n",
              "\n",
              "      async function convertToInteractive(key) {\n",
              "        const element = document.querySelector('#df-c39c71af-0ef0-40ac-93e1-831f7e492198');\n",
              "        const dataTable =\n",
              "          await google.colab.kernel.invokeFunction('convertToInteractive',\n",
              "                                                    [key], {});\n",
              "        if (!dataTable) return;\n",
              "\n",
              "        const docLinkHtml = 'Like what you see? Visit the ' +\n",
              "          '<a target=\"_blank\" href=https://colab.research.google.com/notebooks/data_table.ipynb>data table notebook</a>'\n",
              "          + ' to learn more about interactive tables.';\n",
              "        element.innerHTML = '';\n",
              "        dataTable['output_type'] = 'display_data';\n",
              "        await google.colab.output.renderOutput(dataTable, element);\n",
              "        const docLink = document.createElement('div');\n",
              "        docLink.innerHTML = docLinkHtml;\n",
              "        element.appendChild(docLink);\n",
              "      }\n",
              "    </script>\n",
              "  </div>\n",
              "\n",
              "\n",
              "<div id=\"df-315d71f8-27d0-4bc6-a4de-ba4d974abcfe\">\n",
              "  <button class=\"colab-df-quickchart\" onclick=\"quickchart('df-315d71f8-27d0-4bc6-a4de-ba4d974abcfe')\"\n",
              "            title=\"Suggest charts.\"\n",
              "            style=\"display:none;\">\n",
              "\n",
              "<svg xmlns=\"http://www.w3.org/2000/svg\" height=\"24px\"viewBox=\"0 0 24 24\"\n",
              "     width=\"24px\">\n",
              "    <g>\n",
              "        <path d=\"M19 3H5c-1.1 0-2 .9-2 2v14c0 1.1.9 2 2 2h14c1.1 0 2-.9 2-2V5c0-1.1-.9-2-2-2zM9 17H7v-7h2v7zm4 0h-2V7h2v10zm4 0h-2v-4h2v4z\"/>\n",
              "    </g>\n",
              "</svg>\n",
              "  </button>\n",
              "\n",
              "<style>\n",
              "  .colab-df-quickchart {\n",
              "      --bg-color: #E8F0FE;\n",
              "      --fill-color: #1967D2;\n",
              "      --hover-bg-color: #E2EBFA;\n",
              "      --hover-fill-color: #174EA6;\n",
              "      --disabled-fill-color: #AAA;\n",
              "      --disabled-bg-color: #DDD;\n",
              "  }\n",
              "\n",
              "  [theme=dark] .colab-df-quickchart {\n",
              "      --bg-color: #3B4455;\n",
              "      --fill-color: #D2E3FC;\n",
              "      --hover-bg-color: #434B5C;\n",
              "      --hover-fill-color: #FFFFFF;\n",
              "      --disabled-bg-color: #3B4455;\n",
              "      --disabled-fill-color: #666;\n",
              "  }\n",
              "\n",
              "  .colab-df-quickchart {\n",
              "    background-color: var(--bg-color);\n",
              "    border: none;\n",
              "    border-radius: 50%;\n",
              "    cursor: pointer;\n",
              "    display: none;\n",
              "    fill: var(--fill-color);\n",
              "    height: 32px;\n",
              "    padding: 0;\n",
              "    width: 32px;\n",
              "  }\n",
              "\n",
              "  .colab-df-quickchart:hover {\n",
              "    background-color: var(--hover-bg-color);\n",
              "    box-shadow: 0 1px 2px rgba(60, 64, 67, 0.3), 0 1px 3px 1px rgba(60, 64, 67, 0.15);\n",
              "    fill: var(--button-hover-fill-color);\n",
              "  }\n",
              "\n",
              "  .colab-df-quickchart-complete:disabled,\n",
              "  .colab-df-quickchart-complete:disabled:hover {\n",
              "    background-color: var(--disabled-bg-color);\n",
              "    fill: var(--disabled-fill-color);\n",
              "    box-shadow: none;\n",
              "  }\n",
              "\n",
              "  .colab-df-spinner {\n",
              "    border: 2px solid var(--fill-color);\n",
              "    border-color: transparent;\n",
              "    border-bottom-color: var(--fill-color);\n",
              "    animation:\n",
              "      spin 1s steps(1) infinite;\n",
              "  }\n",
              "\n",
              "  @keyframes spin {\n",
              "    0% {\n",
              "      border-color: transparent;\n",
              "      border-bottom-color: var(--fill-color);\n",
              "      border-left-color: var(--fill-color);\n",
              "    }\n",
              "    20% {\n",
              "      border-color: transparent;\n",
              "      border-left-color: var(--fill-color);\n",
              "      border-top-color: var(--fill-color);\n",
              "    }\n",
              "    30% {\n",
              "      border-color: transparent;\n",
              "      border-left-color: var(--fill-color);\n",
              "      border-top-color: var(--fill-color);\n",
              "      border-right-color: var(--fill-color);\n",
              "    }\n",
              "    40% {\n",
              "      border-color: transparent;\n",
              "      border-right-color: var(--fill-color);\n",
              "      border-top-color: var(--fill-color);\n",
              "    }\n",
              "    60% {\n",
              "      border-color: transparent;\n",
              "      border-right-color: var(--fill-color);\n",
              "    }\n",
              "    80% {\n",
              "      border-color: transparent;\n",
              "      border-right-color: var(--fill-color);\n",
              "      border-bottom-color: var(--fill-color);\n",
              "    }\n",
              "    90% {\n",
              "      border-color: transparent;\n",
              "      border-bottom-color: var(--fill-color);\n",
              "    }\n",
              "  }\n",
              "</style>\n",
              "\n",
              "  <script>\n",
              "    async function quickchart(key) {\n",
              "      const quickchartButtonEl =\n",
              "        document.querySelector('#' + key + ' button');\n",
              "      quickchartButtonEl.disabled = true;  // To prevent multiple clicks.\n",
              "      quickchartButtonEl.classList.add('colab-df-spinner');\n",
              "      try {\n",
              "        const charts = await google.colab.kernel.invokeFunction(\n",
              "            'suggestCharts', [key], {});\n",
              "      } catch (error) {\n",
              "        console.error('Error during call to suggestCharts:', error);\n",
              "      }\n",
              "      quickchartButtonEl.classList.remove('colab-df-spinner');\n",
              "      quickchartButtonEl.classList.add('colab-df-quickchart-complete');\n",
              "    }\n",
              "    (() => {\n",
              "      let quickchartButtonEl =\n",
              "        document.querySelector('#df-315d71f8-27d0-4bc6-a4de-ba4d974abcfe button');\n",
              "      quickchartButtonEl.style.display =\n",
              "        google.colab.kernel.accessAllowed ? 'block' : 'none';\n",
              "    })();\n",
              "  </script>\n",
              "</div>\n",
              "    </div>\n",
              "  </div>\n"
            ],
            "text/plain": [
              "  Item_Identifier  Item_Weight Item_Fat_Content  Item_Visibility    Item_Type  \\\n",
              "0           FDW58       20.750          Low Fat         0.007565  Snack Foods   \n",
              "1           FDW14        8.300              reg         0.038428        Dairy   \n",
              "2           NCN55       14.600          Low Fat         0.099575       Others   \n",
              "3           FDQ58        7.315          Low Fat         0.015388  Snack Foods   \n",
              "4           FDY38          NaN          Regular         0.118599        Dairy   \n",
              "\n",
              "   Item_MRP Outlet_Identifier  Outlet_Establishment_Year Outlet_Size  \\\n",
              "0  107.8622            OUT049                       1999      Medium   \n",
              "1   87.3198            OUT017                       2007         NaN   \n",
              "2  241.7538            OUT010                       1998         NaN   \n",
              "3  155.0340            OUT017                       2007         NaN   \n",
              "4  234.2300            OUT027                       1985      Medium   \n",
              "\n",
              "  Outlet_Location_Type        Outlet_Type  \n",
              "0               Tier 1  Supermarket Type1  \n",
              "1               Tier 2  Supermarket Type1  \n",
              "2               Tier 3      Grocery Store  \n",
              "3               Tier 2  Supermarket Type1  \n",
              "4               Tier 3  Supermarket Type3  "
            ]
          },
          "execution_count": 170,
          "metadata": {},
          "output_type": "execute_result"
        }
      ],
      "source": [
        "test.head()"
      ]
    },
    {
      "cell_type": "code",
      "source": [
        "print(f\"training set (row, col): {train.shape}\\n\\ntesting set (row, col): {test.shape}\")"
      ],
      "metadata": {
        "colab": {
          "base_uri": "https://localhost:8080/"
        },
        "id": "yOuGTStPQRMz",
        "outputId": "eba530cb-69c3-447d-be20-2c76dcc81fe2"
      },
      "execution_count": 6,
      "outputs": [
        {
          "output_type": "stream",
          "name": "stdout",
          "text": [
            "training set (row, col): (8523, 12)\n",
            "\n",
            "testing set (row, col): (5681, 11)\n"
          ]
        }
      ]
    },
    {
      "cell_type": "markdown",
      "source": [
        "**preprocessing of the training dataset**"
      ],
      "metadata": {
        "id": "LFQGGBlsQmMJ"
      }
    },
    {
      "cell_type": "code",
      "source": [
        "#summary statistics test\n",
        "train.describe()"
      ],
      "metadata": {
        "colab": {
          "base_uri": "https://localhost:8080/",
          "height": 300
        },
        "id": "WEozrkZHQj7z",
        "outputId": "29083303-7aaf-45d1-b3e0-233053258078"
      },
      "execution_count": 7,
      "outputs": [
        {
          "output_type": "execute_result",
          "data": {
            "text/plain": [
              "       Item_Weight  Item_Visibility     Item_MRP  Outlet_Establishment_Year  \\\n",
              "count  7060.000000      8523.000000  8523.000000                8523.000000   \n",
              "mean     12.857645         0.066132   140.992782                1997.831867   \n",
              "std       4.643456         0.051598    62.275067                   8.371760   \n",
              "min       4.555000         0.000000    31.290000                1985.000000   \n",
              "25%       8.773750         0.026989    93.826500                1987.000000   \n",
              "50%      12.600000         0.053931   143.012800                1999.000000   \n",
              "75%      16.850000         0.094585   185.643700                2004.000000   \n",
              "max      21.350000         0.328391   266.888400                2009.000000   \n",
              "\n",
              "       Item_Outlet_Sales  \n",
              "count        8523.000000  \n",
              "mean         2181.288914  \n",
              "std          1706.499616  \n",
              "min            33.290000  \n",
              "25%           834.247400  \n",
              "50%          1794.331000  \n",
              "75%          3101.296400  \n",
              "max         13086.964800  "
            ],
            "text/html": [
              "\n",
              "  <div id=\"df-12581459-896b-4bad-a0f4-86281ef53ec2\" class=\"colab-df-container\">\n",
              "    <div>\n",
              "<style scoped>\n",
              "    .dataframe tbody tr th:only-of-type {\n",
              "        vertical-align: middle;\n",
              "    }\n",
              "\n",
              "    .dataframe tbody tr th {\n",
              "        vertical-align: top;\n",
              "    }\n",
              "\n",
              "    .dataframe thead th {\n",
              "        text-align: right;\n",
              "    }\n",
              "</style>\n",
              "<table border=\"1\" class=\"dataframe\">\n",
              "  <thead>\n",
              "    <tr style=\"text-align: right;\">\n",
              "      <th></th>\n",
              "      <th>Item_Weight</th>\n",
              "      <th>Item_Visibility</th>\n",
              "      <th>Item_MRP</th>\n",
              "      <th>Outlet_Establishment_Year</th>\n",
              "      <th>Item_Outlet_Sales</th>\n",
              "    </tr>\n",
              "  </thead>\n",
              "  <tbody>\n",
              "    <tr>\n",
              "      <th>count</th>\n",
              "      <td>7060.000000</td>\n",
              "      <td>8523.000000</td>\n",
              "      <td>8523.000000</td>\n",
              "      <td>8523.000000</td>\n",
              "      <td>8523.000000</td>\n",
              "    </tr>\n",
              "    <tr>\n",
              "      <th>mean</th>\n",
              "      <td>12.857645</td>\n",
              "      <td>0.066132</td>\n",
              "      <td>140.992782</td>\n",
              "      <td>1997.831867</td>\n",
              "      <td>2181.288914</td>\n",
              "    </tr>\n",
              "    <tr>\n",
              "      <th>std</th>\n",
              "      <td>4.643456</td>\n",
              "      <td>0.051598</td>\n",
              "      <td>62.275067</td>\n",
              "      <td>8.371760</td>\n",
              "      <td>1706.499616</td>\n",
              "    </tr>\n",
              "    <tr>\n",
              "      <th>min</th>\n",
              "      <td>4.555000</td>\n",
              "      <td>0.000000</td>\n",
              "      <td>31.290000</td>\n",
              "      <td>1985.000000</td>\n",
              "      <td>33.290000</td>\n",
              "    </tr>\n",
              "    <tr>\n",
              "      <th>25%</th>\n",
              "      <td>8.773750</td>\n",
              "      <td>0.026989</td>\n",
              "      <td>93.826500</td>\n",
              "      <td>1987.000000</td>\n",
              "      <td>834.247400</td>\n",
              "    </tr>\n",
              "    <tr>\n",
              "      <th>50%</th>\n",
              "      <td>12.600000</td>\n",
              "      <td>0.053931</td>\n",
              "      <td>143.012800</td>\n",
              "      <td>1999.000000</td>\n",
              "      <td>1794.331000</td>\n",
              "    </tr>\n",
              "    <tr>\n",
              "      <th>75%</th>\n",
              "      <td>16.850000</td>\n",
              "      <td>0.094585</td>\n",
              "      <td>185.643700</td>\n",
              "      <td>2004.000000</td>\n",
              "      <td>3101.296400</td>\n",
              "    </tr>\n",
              "    <tr>\n",
              "      <th>max</th>\n",
              "      <td>21.350000</td>\n",
              "      <td>0.328391</td>\n",
              "      <td>266.888400</td>\n",
              "      <td>2009.000000</td>\n",
              "      <td>13086.964800</td>\n",
              "    </tr>\n",
              "  </tbody>\n",
              "</table>\n",
              "</div>\n",
              "    <div class=\"colab-df-buttons\">\n",
              "\n",
              "  <div class=\"colab-df-container\">\n",
              "    <button class=\"colab-df-convert\" onclick=\"convertToInteractive('df-12581459-896b-4bad-a0f4-86281ef53ec2')\"\n",
              "            title=\"Convert this dataframe to an interactive table.\"\n",
              "            style=\"display:none;\">\n",
              "\n",
              "  <svg xmlns=\"http://www.w3.org/2000/svg\" height=\"24px\" viewBox=\"0 -960 960 960\">\n",
              "    <path d=\"M120-120v-720h720v720H120Zm60-500h600v-160H180v160Zm220 220h160v-160H400v160Zm0 220h160v-160H400v160ZM180-400h160v-160H180v160Zm440 0h160v-160H620v160ZM180-180h160v-160H180v160Zm440 0h160v-160H620v160Z\"/>\n",
              "  </svg>\n",
              "    </button>\n",
              "\n",
              "  <style>\n",
              "    .colab-df-container {\n",
              "      display:flex;\n",
              "      gap: 12px;\n",
              "    }\n",
              "\n",
              "    .colab-df-convert {\n",
              "      background-color: #E8F0FE;\n",
              "      border: none;\n",
              "      border-radius: 50%;\n",
              "      cursor: pointer;\n",
              "      display: none;\n",
              "      fill: #1967D2;\n",
              "      height: 32px;\n",
              "      padding: 0 0 0 0;\n",
              "      width: 32px;\n",
              "    }\n",
              "\n",
              "    .colab-df-convert:hover {\n",
              "      background-color: #E2EBFA;\n",
              "      box-shadow: 0px 1px 2px rgba(60, 64, 67, 0.3), 0px 1px 3px 1px rgba(60, 64, 67, 0.15);\n",
              "      fill: #174EA6;\n",
              "    }\n",
              "\n",
              "    .colab-df-buttons div {\n",
              "      margin-bottom: 4px;\n",
              "    }\n",
              "\n",
              "    [theme=dark] .colab-df-convert {\n",
              "      background-color: #3B4455;\n",
              "      fill: #D2E3FC;\n",
              "    }\n",
              "\n",
              "    [theme=dark] .colab-df-convert:hover {\n",
              "      background-color: #434B5C;\n",
              "      box-shadow: 0px 1px 3px 1px rgba(0, 0, 0, 0.15);\n",
              "      filter: drop-shadow(0px 1px 2px rgba(0, 0, 0, 0.3));\n",
              "      fill: #FFFFFF;\n",
              "    }\n",
              "  </style>\n",
              "\n",
              "    <script>\n",
              "      const buttonEl =\n",
              "        document.querySelector('#df-12581459-896b-4bad-a0f4-86281ef53ec2 button.colab-df-convert');\n",
              "      buttonEl.style.display =\n",
              "        google.colab.kernel.accessAllowed ? 'block' : 'none';\n",
              "\n",
              "      async function convertToInteractive(key) {\n",
              "        const element = document.querySelector('#df-12581459-896b-4bad-a0f4-86281ef53ec2');\n",
              "        const dataTable =\n",
              "          await google.colab.kernel.invokeFunction('convertToInteractive',\n",
              "                                                    [key], {});\n",
              "        if (!dataTable) return;\n",
              "\n",
              "        const docLinkHtml = 'Like what you see? Visit the ' +\n",
              "          '<a target=\"_blank\" href=https://colab.research.google.com/notebooks/data_table.ipynb>data table notebook</a>'\n",
              "          + ' to learn more about interactive tables.';\n",
              "        element.innerHTML = '';\n",
              "        dataTable['output_type'] = 'display_data';\n",
              "        await google.colab.output.renderOutput(dataTable, element);\n",
              "        const docLink = document.createElement('div');\n",
              "        docLink.innerHTML = docLinkHtml;\n",
              "        element.appendChild(docLink);\n",
              "      }\n",
              "    </script>\n",
              "  </div>\n",
              "\n",
              "\n",
              "<div id=\"df-9726d397-7ae3-45bd-9535-d638651b6f51\">\n",
              "  <button class=\"colab-df-quickchart\" onclick=\"quickchart('df-9726d397-7ae3-45bd-9535-d638651b6f51')\"\n",
              "            title=\"Suggest charts.\"\n",
              "            style=\"display:none;\">\n",
              "\n",
              "<svg xmlns=\"http://www.w3.org/2000/svg\" height=\"24px\"viewBox=\"0 0 24 24\"\n",
              "     width=\"24px\">\n",
              "    <g>\n",
              "        <path d=\"M19 3H5c-1.1 0-2 .9-2 2v14c0 1.1.9 2 2 2h14c1.1 0 2-.9 2-2V5c0-1.1-.9-2-2-2zM9 17H7v-7h2v7zm4 0h-2V7h2v10zm4 0h-2v-4h2v4z\"/>\n",
              "    </g>\n",
              "</svg>\n",
              "  </button>\n",
              "\n",
              "<style>\n",
              "  .colab-df-quickchart {\n",
              "      --bg-color: #E8F0FE;\n",
              "      --fill-color: #1967D2;\n",
              "      --hover-bg-color: #E2EBFA;\n",
              "      --hover-fill-color: #174EA6;\n",
              "      --disabled-fill-color: #AAA;\n",
              "      --disabled-bg-color: #DDD;\n",
              "  }\n",
              "\n",
              "  [theme=dark] .colab-df-quickchart {\n",
              "      --bg-color: #3B4455;\n",
              "      --fill-color: #D2E3FC;\n",
              "      --hover-bg-color: #434B5C;\n",
              "      --hover-fill-color: #FFFFFF;\n",
              "      --disabled-bg-color: #3B4455;\n",
              "      --disabled-fill-color: #666;\n",
              "  }\n",
              "\n",
              "  .colab-df-quickchart {\n",
              "    background-color: var(--bg-color);\n",
              "    border: none;\n",
              "    border-radius: 50%;\n",
              "    cursor: pointer;\n",
              "    display: none;\n",
              "    fill: var(--fill-color);\n",
              "    height: 32px;\n",
              "    padding: 0;\n",
              "    width: 32px;\n",
              "  }\n",
              "\n",
              "  .colab-df-quickchart:hover {\n",
              "    background-color: var(--hover-bg-color);\n",
              "    box-shadow: 0 1px 2px rgba(60, 64, 67, 0.3), 0 1px 3px 1px rgba(60, 64, 67, 0.15);\n",
              "    fill: var(--button-hover-fill-color);\n",
              "  }\n",
              "\n",
              "  .colab-df-quickchart-complete:disabled,\n",
              "  .colab-df-quickchart-complete:disabled:hover {\n",
              "    background-color: var(--disabled-bg-color);\n",
              "    fill: var(--disabled-fill-color);\n",
              "    box-shadow: none;\n",
              "  }\n",
              "\n",
              "  .colab-df-spinner {\n",
              "    border: 2px solid var(--fill-color);\n",
              "    border-color: transparent;\n",
              "    border-bottom-color: var(--fill-color);\n",
              "    animation:\n",
              "      spin 1s steps(1) infinite;\n",
              "  }\n",
              "\n",
              "  @keyframes spin {\n",
              "    0% {\n",
              "      border-color: transparent;\n",
              "      border-bottom-color: var(--fill-color);\n",
              "      border-left-color: var(--fill-color);\n",
              "    }\n",
              "    20% {\n",
              "      border-color: transparent;\n",
              "      border-left-color: var(--fill-color);\n",
              "      border-top-color: var(--fill-color);\n",
              "    }\n",
              "    30% {\n",
              "      border-color: transparent;\n",
              "      border-left-color: var(--fill-color);\n",
              "      border-top-color: var(--fill-color);\n",
              "      border-right-color: var(--fill-color);\n",
              "    }\n",
              "    40% {\n",
              "      border-color: transparent;\n",
              "      border-right-color: var(--fill-color);\n",
              "      border-top-color: var(--fill-color);\n",
              "    }\n",
              "    60% {\n",
              "      border-color: transparent;\n",
              "      border-right-color: var(--fill-color);\n",
              "    }\n",
              "    80% {\n",
              "      border-color: transparent;\n",
              "      border-right-color: var(--fill-color);\n",
              "      border-bottom-color: var(--fill-color);\n",
              "    }\n",
              "    90% {\n",
              "      border-color: transparent;\n",
              "      border-bottom-color: var(--fill-color);\n",
              "    }\n",
              "  }\n",
              "</style>\n",
              "\n",
              "  <script>\n",
              "    async function quickchart(key) {\n",
              "      const quickchartButtonEl =\n",
              "        document.querySelector('#' + key + ' button');\n",
              "      quickchartButtonEl.disabled = true;  // To prevent multiple clicks.\n",
              "      quickchartButtonEl.classList.add('colab-df-spinner');\n",
              "      try {\n",
              "        const charts = await google.colab.kernel.invokeFunction(\n",
              "            'suggestCharts', [key], {});\n",
              "      } catch (error) {\n",
              "        console.error('Error during call to suggestCharts:', error);\n",
              "      }\n",
              "      quickchartButtonEl.classList.remove('colab-df-spinner');\n",
              "      quickchartButtonEl.classList.add('colab-df-quickchart-complete');\n",
              "    }\n",
              "    (() => {\n",
              "      let quickchartButtonEl =\n",
              "        document.querySelector('#df-9726d397-7ae3-45bd-9535-d638651b6f51 button');\n",
              "      quickchartButtonEl.style.display =\n",
              "        google.colab.kernel.accessAllowed ? 'block' : 'none';\n",
              "    })();\n",
              "  </script>\n",
              "</div>\n",
              "    </div>\n",
              "  </div>\n"
            ]
          },
          "metadata": {},
          "execution_count": 7
        }
      ]
    },
    {
      "cell_type": "code",
      "source": [
        "#summary statistics test\n",
        "test.describe()"
      ],
      "metadata": {
        "colab": {
          "base_uri": "https://localhost:8080/",
          "height": 300
        },
        "id": "AU7za634Q6Pc",
        "outputId": "ffa011d2-bb05-46b4-de3a-f50035570f6f"
      },
      "execution_count": 8,
      "outputs": [
        {
          "output_type": "execute_result",
          "data": {
            "text/plain": [
              "       Item_Weight  Item_Visibility     Item_MRP  Outlet_Establishment_Year\n",
              "count  4705.000000      5681.000000  5681.000000                5681.000000\n",
              "mean     12.695633         0.065684   141.023273                1997.828903\n",
              "std       4.664849         0.051252    61.809091                   8.372256\n",
              "min       4.555000         0.000000    31.990000                1985.000000\n",
              "25%       8.645000         0.027047    94.412000                1987.000000\n",
              "50%      12.500000         0.054154   141.415400                1999.000000\n",
              "75%      16.700000         0.093463   186.026600                2004.000000\n",
              "max      21.350000         0.323637   266.588400                2009.000000"
            ],
            "text/html": [
              "\n",
              "  <div id=\"df-b0ed54c3-965b-434e-81f4-5028ca14586a\" class=\"colab-df-container\">\n",
              "    <div>\n",
              "<style scoped>\n",
              "    .dataframe tbody tr th:only-of-type {\n",
              "        vertical-align: middle;\n",
              "    }\n",
              "\n",
              "    .dataframe tbody tr th {\n",
              "        vertical-align: top;\n",
              "    }\n",
              "\n",
              "    .dataframe thead th {\n",
              "        text-align: right;\n",
              "    }\n",
              "</style>\n",
              "<table border=\"1\" class=\"dataframe\">\n",
              "  <thead>\n",
              "    <tr style=\"text-align: right;\">\n",
              "      <th></th>\n",
              "      <th>Item_Weight</th>\n",
              "      <th>Item_Visibility</th>\n",
              "      <th>Item_MRP</th>\n",
              "      <th>Outlet_Establishment_Year</th>\n",
              "    </tr>\n",
              "  </thead>\n",
              "  <tbody>\n",
              "    <tr>\n",
              "      <th>count</th>\n",
              "      <td>4705.000000</td>\n",
              "      <td>5681.000000</td>\n",
              "      <td>5681.000000</td>\n",
              "      <td>5681.000000</td>\n",
              "    </tr>\n",
              "    <tr>\n",
              "      <th>mean</th>\n",
              "      <td>12.695633</td>\n",
              "      <td>0.065684</td>\n",
              "      <td>141.023273</td>\n",
              "      <td>1997.828903</td>\n",
              "    </tr>\n",
              "    <tr>\n",
              "      <th>std</th>\n",
              "      <td>4.664849</td>\n",
              "      <td>0.051252</td>\n",
              "      <td>61.809091</td>\n",
              "      <td>8.372256</td>\n",
              "    </tr>\n",
              "    <tr>\n",
              "      <th>min</th>\n",
              "      <td>4.555000</td>\n",
              "      <td>0.000000</td>\n",
              "      <td>31.990000</td>\n",
              "      <td>1985.000000</td>\n",
              "    </tr>\n",
              "    <tr>\n",
              "      <th>25%</th>\n",
              "      <td>8.645000</td>\n",
              "      <td>0.027047</td>\n",
              "      <td>94.412000</td>\n",
              "      <td>1987.000000</td>\n",
              "    </tr>\n",
              "    <tr>\n",
              "      <th>50%</th>\n",
              "      <td>12.500000</td>\n",
              "      <td>0.054154</td>\n",
              "      <td>141.415400</td>\n",
              "      <td>1999.000000</td>\n",
              "    </tr>\n",
              "    <tr>\n",
              "      <th>75%</th>\n",
              "      <td>16.700000</td>\n",
              "      <td>0.093463</td>\n",
              "      <td>186.026600</td>\n",
              "      <td>2004.000000</td>\n",
              "    </tr>\n",
              "    <tr>\n",
              "      <th>max</th>\n",
              "      <td>21.350000</td>\n",
              "      <td>0.323637</td>\n",
              "      <td>266.588400</td>\n",
              "      <td>2009.000000</td>\n",
              "    </tr>\n",
              "  </tbody>\n",
              "</table>\n",
              "</div>\n",
              "    <div class=\"colab-df-buttons\">\n",
              "\n",
              "  <div class=\"colab-df-container\">\n",
              "    <button class=\"colab-df-convert\" onclick=\"convertToInteractive('df-b0ed54c3-965b-434e-81f4-5028ca14586a')\"\n",
              "            title=\"Convert this dataframe to an interactive table.\"\n",
              "            style=\"display:none;\">\n",
              "\n",
              "  <svg xmlns=\"http://www.w3.org/2000/svg\" height=\"24px\" viewBox=\"0 -960 960 960\">\n",
              "    <path d=\"M120-120v-720h720v720H120Zm60-500h600v-160H180v160Zm220 220h160v-160H400v160Zm0 220h160v-160H400v160ZM180-400h160v-160H180v160Zm440 0h160v-160H620v160ZM180-180h160v-160H180v160Zm440 0h160v-160H620v160Z\"/>\n",
              "  </svg>\n",
              "    </button>\n",
              "\n",
              "  <style>\n",
              "    .colab-df-container {\n",
              "      display:flex;\n",
              "      gap: 12px;\n",
              "    }\n",
              "\n",
              "    .colab-df-convert {\n",
              "      background-color: #E8F0FE;\n",
              "      border: none;\n",
              "      border-radius: 50%;\n",
              "      cursor: pointer;\n",
              "      display: none;\n",
              "      fill: #1967D2;\n",
              "      height: 32px;\n",
              "      padding: 0 0 0 0;\n",
              "      width: 32px;\n",
              "    }\n",
              "\n",
              "    .colab-df-convert:hover {\n",
              "      background-color: #E2EBFA;\n",
              "      box-shadow: 0px 1px 2px rgba(60, 64, 67, 0.3), 0px 1px 3px 1px rgba(60, 64, 67, 0.15);\n",
              "      fill: #174EA6;\n",
              "    }\n",
              "\n",
              "    .colab-df-buttons div {\n",
              "      margin-bottom: 4px;\n",
              "    }\n",
              "\n",
              "    [theme=dark] .colab-df-convert {\n",
              "      background-color: #3B4455;\n",
              "      fill: #D2E3FC;\n",
              "    }\n",
              "\n",
              "    [theme=dark] .colab-df-convert:hover {\n",
              "      background-color: #434B5C;\n",
              "      box-shadow: 0px 1px 3px 1px rgba(0, 0, 0, 0.15);\n",
              "      filter: drop-shadow(0px 1px 2px rgba(0, 0, 0, 0.3));\n",
              "      fill: #FFFFFF;\n",
              "    }\n",
              "  </style>\n",
              "\n",
              "    <script>\n",
              "      const buttonEl =\n",
              "        document.querySelector('#df-b0ed54c3-965b-434e-81f4-5028ca14586a button.colab-df-convert');\n",
              "      buttonEl.style.display =\n",
              "        google.colab.kernel.accessAllowed ? 'block' : 'none';\n",
              "\n",
              "      async function convertToInteractive(key) {\n",
              "        const element = document.querySelector('#df-b0ed54c3-965b-434e-81f4-5028ca14586a');\n",
              "        const dataTable =\n",
              "          await google.colab.kernel.invokeFunction('convertToInteractive',\n",
              "                                                    [key], {});\n",
              "        if (!dataTable) return;\n",
              "\n",
              "        const docLinkHtml = 'Like what you see? Visit the ' +\n",
              "          '<a target=\"_blank\" href=https://colab.research.google.com/notebooks/data_table.ipynb>data table notebook</a>'\n",
              "          + ' to learn more about interactive tables.';\n",
              "        element.innerHTML = '';\n",
              "        dataTable['output_type'] = 'display_data';\n",
              "        await google.colab.output.renderOutput(dataTable, element);\n",
              "        const docLink = document.createElement('div');\n",
              "        docLink.innerHTML = docLinkHtml;\n",
              "        element.appendChild(docLink);\n",
              "      }\n",
              "    </script>\n",
              "  </div>\n",
              "\n",
              "\n",
              "<div id=\"df-89ebc3c6-3c1f-4ce1-b246-387b8ba45c55\">\n",
              "  <button class=\"colab-df-quickchart\" onclick=\"quickchart('df-89ebc3c6-3c1f-4ce1-b246-387b8ba45c55')\"\n",
              "            title=\"Suggest charts.\"\n",
              "            style=\"display:none;\">\n",
              "\n",
              "<svg xmlns=\"http://www.w3.org/2000/svg\" height=\"24px\"viewBox=\"0 0 24 24\"\n",
              "     width=\"24px\">\n",
              "    <g>\n",
              "        <path d=\"M19 3H5c-1.1 0-2 .9-2 2v14c0 1.1.9 2 2 2h14c1.1 0 2-.9 2-2V5c0-1.1-.9-2-2-2zM9 17H7v-7h2v7zm4 0h-2V7h2v10zm4 0h-2v-4h2v4z\"/>\n",
              "    </g>\n",
              "</svg>\n",
              "  </button>\n",
              "\n",
              "<style>\n",
              "  .colab-df-quickchart {\n",
              "      --bg-color: #E8F0FE;\n",
              "      --fill-color: #1967D2;\n",
              "      --hover-bg-color: #E2EBFA;\n",
              "      --hover-fill-color: #174EA6;\n",
              "      --disabled-fill-color: #AAA;\n",
              "      --disabled-bg-color: #DDD;\n",
              "  }\n",
              "\n",
              "  [theme=dark] .colab-df-quickchart {\n",
              "      --bg-color: #3B4455;\n",
              "      --fill-color: #D2E3FC;\n",
              "      --hover-bg-color: #434B5C;\n",
              "      --hover-fill-color: #FFFFFF;\n",
              "      --disabled-bg-color: #3B4455;\n",
              "      --disabled-fill-color: #666;\n",
              "  }\n",
              "\n",
              "  .colab-df-quickchart {\n",
              "    background-color: var(--bg-color);\n",
              "    border: none;\n",
              "    border-radius: 50%;\n",
              "    cursor: pointer;\n",
              "    display: none;\n",
              "    fill: var(--fill-color);\n",
              "    height: 32px;\n",
              "    padding: 0;\n",
              "    width: 32px;\n",
              "  }\n",
              "\n",
              "  .colab-df-quickchart:hover {\n",
              "    background-color: var(--hover-bg-color);\n",
              "    box-shadow: 0 1px 2px rgba(60, 64, 67, 0.3), 0 1px 3px 1px rgba(60, 64, 67, 0.15);\n",
              "    fill: var(--button-hover-fill-color);\n",
              "  }\n",
              "\n",
              "  .colab-df-quickchart-complete:disabled,\n",
              "  .colab-df-quickchart-complete:disabled:hover {\n",
              "    background-color: var(--disabled-bg-color);\n",
              "    fill: var(--disabled-fill-color);\n",
              "    box-shadow: none;\n",
              "  }\n",
              "\n",
              "  .colab-df-spinner {\n",
              "    border: 2px solid var(--fill-color);\n",
              "    border-color: transparent;\n",
              "    border-bottom-color: var(--fill-color);\n",
              "    animation:\n",
              "      spin 1s steps(1) infinite;\n",
              "  }\n",
              "\n",
              "  @keyframes spin {\n",
              "    0% {\n",
              "      border-color: transparent;\n",
              "      border-bottom-color: var(--fill-color);\n",
              "      border-left-color: var(--fill-color);\n",
              "    }\n",
              "    20% {\n",
              "      border-color: transparent;\n",
              "      border-left-color: var(--fill-color);\n",
              "      border-top-color: var(--fill-color);\n",
              "    }\n",
              "    30% {\n",
              "      border-color: transparent;\n",
              "      border-left-color: var(--fill-color);\n",
              "      border-top-color: var(--fill-color);\n",
              "      border-right-color: var(--fill-color);\n",
              "    }\n",
              "    40% {\n",
              "      border-color: transparent;\n",
              "      border-right-color: var(--fill-color);\n",
              "      border-top-color: var(--fill-color);\n",
              "    }\n",
              "    60% {\n",
              "      border-color: transparent;\n",
              "      border-right-color: var(--fill-color);\n",
              "    }\n",
              "    80% {\n",
              "      border-color: transparent;\n",
              "      border-right-color: var(--fill-color);\n",
              "      border-bottom-color: var(--fill-color);\n",
              "    }\n",
              "    90% {\n",
              "      border-color: transparent;\n",
              "      border-bottom-color: var(--fill-color);\n",
              "    }\n",
              "  }\n",
              "</style>\n",
              "\n",
              "  <script>\n",
              "    async function quickchart(key) {\n",
              "      const quickchartButtonEl =\n",
              "        document.querySelector('#' + key + ' button');\n",
              "      quickchartButtonEl.disabled = true;  // To prevent multiple clicks.\n",
              "      quickchartButtonEl.classList.add('colab-df-spinner');\n",
              "      try {\n",
              "        const charts = await google.colab.kernel.invokeFunction(\n",
              "            'suggestCharts', [key], {});\n",
              "      } catch (error) {\n",
              "        console.error('Error during call to suggestCharts:', error);\n",
              "      }\n",
              "      quickchartButtonEl.classList.remove('colab-df-spinner');\n",
              "      quickchartButtonEl.classList.add('colab-df-quickchart-complete');\n",
              "    }\n",
              "    (() => {\n",
              "      let quickchartButtonEl =\n",
              "        document.querySelector('#df-89ebc3c6-3c1f-4ce1-b246-387b8ba45c55 button');\n",
              "      quickchartButtonEl.style.display =\n",
              "        google.colab.kernel.accessAllowed ? 'block' : 'none';\n",
              "    })();\n",
              "  </script>\n",
              "</div>\n",
              "    </div>\n",
              "  </div>\n"
            ]
          },
          "metadata": {},
          "execution_count": 8
        }
      ]
    },
    {
      "cell_type": "markdown",
      "source": [
        "**Missing Values**"
      ],
      "metadata": {
        "id": "9-q3Dt2iRKND"
      }
    },
    {
      "cell_type": "code",
      "source": [
        "#missing values in decsending order\n",
        "print(\"Train:\\n\")\n",
        "print(train.isnull().sum().sort_values(ascending=False),\"\\n\\n\",train.isnull().sum()/train.shape[0] *100,\"\\n\\n\")\n",
        "print(\"Test:\\n\")\n",
        "print(test.isnull().sum().sort_values(ascending=False),\"\\n\\n\",test.isnull().sum()/test.shape[0] *100,\"\\n\\n\")"
      ],
      "metadata": {
        "colab": {
          "base_uri": "https://localhost:8080/"
        },
        "id": "59pafBCERQ93",
        "outputId": "548db3f7-8fc0-455e-dfe3-7b8ad27f8e29"
      },
      "execution_count": 9,
      "outputs": [
        {
          "output_type": "stream",
          "name": "stdout",
          "text": [
            "Train:\n",
            "\n",
            "Outlet_Size                  2410\n",
            "Item_Weight                  1463\n",
            "Item_Identifier                 0\n",
            "Item_Fat_Content                0\n",
            "Item_Visibility                 0\n",
            "Item_Type                       0\n",
            "Item_MRP                        0\n",
            "Outlet_Identifier               0\n",
            "Outlet_Establishment_Year       0\n",
            "Outlet_Location_Type            0\n",
            "Outlet_Type                     0\n",
            "Item_Outlet_Sales               0\n",
            "dtype: int64 \n",
            "\n",
            " Item_Identifier               0.000000\n",
            "Item_Weight                  17.165317\n",
            "Item_Fat_Content              0.000000\n",
            "Item_Visibility               0.000000\n",
            "Item_Type                     0.000000\n",
            "Item_MRP                      0.000000\n",
            "Outlet_Identifier             0.000000\n",
            "Outlet_Establishment_Year     0.000000\n",
            "Outlet_Size                  28.276428\n",
            "Outlet_Location_Type          0.000000\n",
            "Outlet_Type                   0.000000\n",
            "Item_Outlet_Sales             0.000000\n",
            "dtype: float64 \n",
            "\n",
            "\n",
            "Test:\n",
            "\n",
            "Outlet_Size                  1606\n",
            "Item_Weight                   976\n",
            "Item_Identifier                 0\n",
            "Item_Fat_Content                0\n",
            "Item_Visibility                 0\n",
            "Item_Type                       0\n",
            "Item_MRP                        0\n",
            "Outlet_Identifier               0\n",
            "Outlet_Establishment_Year       0\n",
            "Outlet_Location_Type            0\n",
            "Outlet_Type                     0\n",
            "dtype: int64 \n",
            "\n",
            " Item_Identifier               0.000000\n",
            "Item_Weight                  17.180074\n",
            "Item_Fat_Content              0.000000\n",
            "Item_Visibility               0.000000\n",
            "Item_Type                     0.000000\n",
            "Item_MRP                      0.000000\n",
            "Outlet_Identifier             0.000000\n",
            "Outlet_Establishment_Year     0.000000\n",
            "Outlet_Size                  28.269671\n",
            "Outlet_Location_Type          0.000000\n",
            "Outlet_Type                   0.000000\n",
            "dtype: float64 \n",
            "\n",
            "\n"
          ]
        }
      ]
    },
    {
      "cell_type": "markdown",
      "source": [
        "We can see the % of each missing Values per columns is almost identical!\n",
        "\n",
        "| column           | size |\n",
        "|------------------|------|\n",
        "| `Outlet_Size`    | 28%  |\n",
        "| `Item_Weight`    | 17%  |"
      ],
      "metadata": {
        "id": "6jH8-0TWRuyM"
      }
    },
    {
      "cell_type": "code",
      "source": [
        "print(\"Outlet_Size:\\n\", train.Outlet_Size.value_counts(), \"\\n\\n\")\n",
        "print(\"Item_Weight:\\n\", train.Item_Weight.value_counts(), \"\\n\\n\")"
      ],
      "metadata": {
        "colab": {
          "base_uri": "https://localhost:8080/"
        },
        "id": "Gq_sbo33R2p6",
        "outputId": "a80cc3ff-f87d-451d-b4d8-4453bbea8c23"
      },
      "execution_count": 10,
      "outputs": [
        {
          "output_type": "stream",
          "name": "stdout",
          "text": [
            "Outlet_Size:\n",
            " Medium    2793\n",
            "Small     2388\n",
            "High       932\n",
            "Name: Outlet_Size, dtype: int64 \n",
            "\n",
            "\n",
            "Item_Weight:\n",
            " 12.150    86\n",
            "17.600    82\n",
            "13.650    77\n",
            "11.800    76\n",
            "15.100    68\n",
            "          ..\n",
            "7.275      2\n",
            "7.685      1\n",
            "9.420      1\n",
            "6.520      1\n",
            "5.400      1\n",
            "Name: Item_Weight, Length: 415, dtype: int64 \n",
            "\n",
            "\n"
          ]
        }
      ]
    },
    {
      "cell_type": "markdown",
      "source": [
        "`Outlet_Size` is a categorical column, therefore we will impute missing values with `Medium` the **mode value**"
      ],
      "metadata": {
        "id": "0sCesqD5TRXv"
      }
    },
    {
      "cell_type": "code",
      "source": [
        "print(\"test mode, train mode\\n\",[train['Outlet_Size'].mode().values[0], test['Outlet_Size'].mode().values[0]])"
      ],
      "metadata": {
        "colab": {
          "base_uri": "https://localhost:8080/"
        },
        "id": "LkIHan9iTQtc",
        "outputId": "cbcd92da-ff4c-4d6e-96a9-d604dba641dd"
      },
      "execution_count": 11,
      "outputs": [
        {
          "output_type": "stream",
          "name": "stdout",
          "text": [
            "test mode, train mode\n",
            " ['Medium', 'Medium']\n"
          ]
        }
      ]
    },
    {
      "cell_type": "code",
      "source": [
        "#train\n",
        "train['Outlet_Size'] = train['Outlet_Size'].fillna(train['Outlet_Size'].dropna().mode().values[0])\n",
        "\n",
        "#test\n",
        "test['Outlet_Size'] = test['Outlet_Size'].fillna(test['Outlet_Size'].dropna().mode().values[0])\n",
        "\n",
        "#checking if we filled missing values\n",
        "train['Outlet_Size'].isnull().sum(),test['Outlet_Size'].isnull().sum()"
      ],
      "metadata": {
        "colab": {
          "base_uri": "https://localhost:8080/"
        },
        "id": "yJrqln9ETqBy",
        "outputId": "0b77212e-d509-433e-9dca-623723739fa5"
      },
      "execution_count": 13,
      "outputs": [
        {
          "output_type": "execute_result",
          "data": {
            "text/plain": [
              "(0, 0)"
            ]
          },
          "metadata": {},
          "execution_count": 13
        }
      ]
    },
    {
      "cell_type": "markdown",
      "source": [
        "`item_weight`  is a numerical column therefore we need to visualize it's distribution for a clearer display"
      ],
      "metadata": {
        "id": "w8_zqsksUHc7"
      }
    },
    {
      "cell_type": "code",
      "execution_count": 15,
      "metadata": {
        "colab": {
          "base_uri": "https://localhost:8080/",
          "height": 469
        },
        "id": "HNPXct0W5a7W",
        "outputId": "d95db493-b8e5-42c5-8284-63fc9b972213"
      },
      "outputs": [
        {
          "output_type": "execute_result",
          "data": {
            "text/plain": [
              "Text(0.5, 1.0, 'Item_Weight Boxplot')"
            ]
          },
          "metadata": {},
          "execution_count": 15
        },
        {
          "output_type": "display_data",
          "data": {
            "text/plain": [
              "<Figure size 640x480 with 1 Axes>"
            ],
            "image/png": "[encoded data removed]"
          },
          "metadata": {}
        }
      ],
      "source": [
        "train['Item_MRP'].plot.box()\n",
        "plt.title(\"Item_Weight Boxplot\")"
      ]
    },
    {
      "cell_type": "markdown",
      "source": [
        "There are no outliers so we will fill the missing data with the mean value for maximum efficiency"
      ],
      "metadata": {
        "id": "UKFyzlwpUoVI"
      }
    },
    {
      "cell_type": "code",
      "source": [
        "#train\n",
        "train['Item_Weight'] = train['Item_Weight'].fillna(train['Item_Weight'].dropna().mean())\n",
        "\n",
        "#test\n",
        "test['Item_Weight'] = test['Item_Weight'].fillna(test['Item_Weight'].dropna().mean())\n",
        "\n",
        "#checking if we filled missing values\n",
        "train['Item_Weight'].isnull().sum(),test['Item_Weight'].isnull().sum()"
      ],
      "metadata": {
        "colab": {
          "base_uri": "https://localhost:8080/"
        },
        "id": "As6a0E_7Uvyx",
        "outputId": "9c89988e-f518-46ec-a6f4-2080db028894"
      },
      "execution_count": 17,
      "outputs": [
        {
          "output_type": "execute_result",
          "data": {
            "text/plain": [
              "(0, 0)"
            ]
          },
          "metadata": {},
          "execution_count": 17
        }
      ]
    },
    {
      "cell_type": "markdown",
      "source": [
        "### Now we can see using the `.info()` method we can see we have filled succesfully all mising the missing data for both sets:"
      ],
      "metadata": {
        "id": "HCNIZlwaVMoQ"
      }
    },
    {
      "cell_type": "code",
      "source": [
        "print(\"train:\\n\")\n",
        "print(train.info())\n",
        "print(\"\\n\\ntest:\\n\")\n",
        "print(test.info())"
      ],
      "metadata": {
        "colab": {
          "base_uri": "https://localhost:8080/"
        },
        "id": "Ug4JEN-cVUuT",
        "outputId": "6a8c63d9-309c-4eb2-f145-708d2b564eb0"
      },
      "execution_count": 18,
      "outputs": [
        {
          "output_type": "stream",
          "name": "stdout",
          "text": [
            "train:\n",
            "\n",
            "<class 'pandas.core.frame.DataFrame'>\n",
            "RangeIndex: 8523 entries, 0 to 8522\n",
            "Data columns (total 12 columns):\n",
            " #   Column                     Non-Null Count  Dtype  \n",
            "---  ------                     --------------  -----  \n",
            " 0   Item_Identifier            8523 non-null   object \n",
            " 1   Item_Weight                8523 non-null   float64\n",
            " 2   Item_Fat_Content           8523 non-null   object \n",
            " 3   Item_Visibility            8523 non-null   float64\n",
            " 4   Item_Type                  8523 non-null   object \n",
            " 5   Item_MRP                   8523 non-null   float64\n",
            " 6   Outlet_Identifier          8523 non-null   object \n",
            " 7   Outlet_Establishment_Year  8523 non-null   int64  \n",
            " 8   Outlet_Size                8523 non-null   object \n",
            " 9   Outlet_Location_Type       8523 non-null   object \n",
            " 10  Outlet_Type                8523 non-null   object \n",
            " 11  Item_Outlet_Sales          8523 non-null   float64\n",
            "dtypes: float64(4), int64(1), object(7)\n",
            "memory usage: 799.2+ KB\n",
            "None\n",
            "\n",
            "\n",
            "test:\n",
            "\n",
            "<class 'pandas.core.frame.DataFrame'>\n",
            "RangeIndex: 5681 entries, 0 to 5680\n",
            "Data columns (total 11 columns):\n",
            " #   Column                     Non-Null Count  Dtype  \n",
            "---  ------                     --------------  -----  \n",
            " 0   Item_Identifier            5681 non-null   object \n",
            " 1   Item_Weight                5681 non-null   float64\n",
            " 2   Item_Fat_Content           5681 non-null   object \n",
            " 3   Item_Visibility            5681 non-null   float64\n",
            " 4   Item_Type                  5681 non-null   object \n",
            " 5   Item_MRP                   5681 non-null   float64\n",
            " 6   Outlet_Identifier          5681 non-null   object \n",
            " 7   Outlet_Establishment_Year  5681 non-null   int64  \n",
            " 8   Outlet_Size                5681 non-null   object \n",
            " 9   Outlet_Location_Type       5681 non-null   object \n",
            " 10  Outlet_Type                5681 non-null   object \n",
            "dtypes: float64(3), int64(1), object(7)\n",
            "memory usage: 488.3+ KB\n",
            "None\n"
          ]
        }
      ]
    },
    {
      "cell_type": "markdown",
      "metadata": {
        "id": "_lOi3Dy51zjS"
      },
      "source": [
        "---\n",
        "<a name = Section2></a>\n",
        "# **6.Data Exploration**\n",
        "---"
      ]
    },
    {
      "cell_type": "markdown",
      "source": [
        "We can See we have Repeating values with different names in the Item_Fat_Content column, we will correct them using the using the .replace() method"
      ],
      "metadata": {
        "id": "UhISN-QbXBIu"
      }
    },
    {
      "cell_type": "code",
      "execution_count": 22,
      "metadata": {
        "id": "trsZRhWu-_5J",
        "colab": {
          "base_uri": "https://localhost:8080/"
        },
        "outputId": "f226db43-7e6a-46c3-92d0-0e918734e6ff"
      },
      "outputs": [
        {
          "output_type": "execute_result",
          "data": {
            "text/plain": [
              "Low Fat    5517\n",
              "Regular    3006\n",
              "Name: Item_Fat_Content, dtype: int64"
            ]
          },
          "metadata": {},
          "execution_count": 22
        }
      ],
      "source": [
        "#train\n",
        "train['Item_Fat_Content'].replace(['LF', 'low fat', 'reg'],\n",
        "                                  ['Low Fat','Low Fat','Regular'],inplace = True)\n",
        "#test\n",
        "test['Item_Fat_Content'].replace(['LF', 'low fat', 'reg'],\n",
        "                                  ['Low Fat','Low Fat','Regular'],inplace = True)\n",
        "#check result\n",
        "train.Item_Fat_Content.value_counts()"
      ]
    },
    {
      "cell_type": "markdown",
      "source": [
        "`Outlet_Establishment_Year` is quite useless as it is, making a new column with the age the new name will be `Outlet_Age`"
      ],
      "metadata": {
        "id": "hgQI1f7hZV5W"
      }
    },
    {
      "cell_type": "code",
      "source": [
        "#creating our new column for both datasets\n",
        "train['Outlet_Age'], test['Outlet_Age']= train['Outlet_Establishment_Year'].apply(lambda year: 2023 - year), test['Outlet_Establishment_Year'].apply(lambda year: 2023 - year)"
      ],
      "metadata": {
        "id": "Rn0yVCMsXAf4"
      },
      "execution_count": 23,
      "outputs": []
    },
    {
      "cell_type": "markdown",
      "source": [
        "## Data Visualization\n",
        "\n",
        "### Univariate Plots"
      ],
      "metadata": {
        "id": "GLk7wUdkb4qe"
      }
    },
    {
      "cell_type": "code",
      "source": [
        "#categorical columns:\n",
        "['Item_Identifier', 'Item_Fat_Content', 'Item_Type', 'Outlet_Identifier',\n",
        " 'Outlet_Size', 'Outlet_Location_Type', 'Outlet_Type']\n",
        "plt.figure(figsize=(6,4))\n",
        "sns.countplot(x='Item_Fat_Content' , data=train ,palette='mako')\n",
        "plt.xlabel('Item_Fat_Content', fontsize=14)\n",
        "plt.show()"
      ],
      "metadata": {
        "colab": {
          "base_uri": "https://localhost:8080/",
          "height": 393
        },
        "id": "Bw3nlnt3a-w-",
        "outputId": "ab92e997-bcec-4129-dfd4-43d1bf17a481"
      },
      "execution_count": 25,
      "outputs": [
        {
          "output_type": "display_data",
          "data": {
            "text/plain": [
              "<Figure size 600x400 with 1 Axes>"
            ],
            "image/png": "[encoded data removed]"
          },
          "metadata": {}
        }
      ]
    },
    {
      "cell_type": "code",
      "execution_count": 27,
      "metadata": {
        "colab": {
          "base_uri": "https://localhost:8080/",
          "height": 380
        },
        "id": "pYS9Tdja-fzA",
        "outputId": "efb34aab-f0b4-4b58-b7a0-54868d4b06d3"
      },
      "outputs": [
        {
          "output_type": "display_data",
          "data": {
            "text/plain": [
              "<Figure size 2700x1000 with 1 Axes>"
            ],
            "image/png": "[encoded data removed]"
          },
          "metadata": {}
        }
      ],
      "source": [
        "plt.figure(figsize=(27,10))\n",
        "sns.countplot(x='Item_Type' , data=train ,palette='summer')\n",
        "plt.xlabel('Item_Type', fontsize=14)\n",
        "plt.show()"
      ]
    },
    {
      "cell_type": "code",
      "execution_count": 28,
      "metadata": {
        "colab": {
          "base_uri": "https://localhost:8080/",
          "height": 304
        },
        "id": "-Zn40GRd-Psx",
        "outputId": "3980c13a-8c58-4c33-d59d-9312dd24316c"
      },
      "outputs": [
        {
          "output_type": "display_data",
          "data": {
            "text/plain": [
              "<Figure size 1500x400 with 1 Axes>"
            ],
            "image/png": "[encoded data removed]"
          },
          "metadata": {}
        }
      ],
      "source": [
        "plt.figure(figsize=(15,4))\n",
        "sns.countplot(x='Outlet_Identifier' , data=train ,palette='winter')\n",
        "plt.xlabel('Outlet_Identifier', fontsize=14)\n",
        "plt.show()"
      ]
    },
    {
      "cell_type": "code",
      "execution_count": 29,
      "metadata": {
        "colab": {
          "base_uri": "https://localhost:8080/",
          "height": 394
        },
        "id": "aKWawCvG-BAi",
        "outputId": "0b612f9b-cf24-4bdd-a57a-205d524c3044"
      },
      "outputs": [
        {
          "output_type": "display_data",
          "data": {
            "text/plain": [
              "<Figure size 1000x400 with 1 Axes>"
            ],
            "image/png": "[encoded data removed]"
          },
          "metadata": {}
        }
      ],
      "source": [
        "plt.figure(figsize=(10,4))\n",
        "sns.countplot(x='Outlet_Size' , data=train ,palette='autumn')\n",
        "plt.xlabel('Outlet_Size', fontsize=14)\n",
        "plt.show()"
      ]
    },
    {
      "cell_type": "code",
      "execution_count": 30,
      "metadata": {
        "colab": {
          "base_uri": "https://localhost:8080/",
          "height": 398
        },
        "id": "EGehwcGw5t01",
        "outputId": "4a933818-1914-45d1-8b32-1eaa64e16e24"
      },
      "outputs": [
        {
          "output_type": "display_data",
          "data": {
            "text/plain": [
              "<Figure size 1000x400 with 1 Axes>"
            ],
            "image/png": "[encoded data removed]"
          },
          "metadata": {}
        }
      ],
      "source": [
        "plt.figure(figsize=(10,4))\n",
        "sns.countplot(x='Outlet_Location_Type' , data=train ,palette='twilight_shifted')\n",
        "plt.xlabel('Outlet_Location_Type', fontsize=14)\n",
        "plt.show()"
      ]
    },
    {
      "cell_type": "code",
      "execution_count": 31,
      "metadata": {
        "colab": {
          "base_uri": "https://localhost:8080/",
          "height": 394
        },
        "id": "NK3xSAhE53Tr",
        "outputId": "060dba87-24e2-432b-9acd-dc6fe8142329"
      },
      "outputs": [
        {
          "output_type": "display_data",
          "data": {
            "text/plain": [
              "<Figure size 1000x400 with 1 Axes>"
            ],
            "image/png": "[encoded data removed]"
          },
          "metadata": {}
        }
      ],
      "source": [
        "plt.figure(figsize=(10,4))\n",
        "sns.countplot(x='Outlet_Type' , data=train ,palette='rocket')\n",
        "plt.xlabel('Outlet_Type', fontsize=14)\n",
        "plt.show()"
      ]
    },
    {
      "cell_type": "markdown",
      "metadata": {
        "id": "RVqcik0G87rK"
      },
      "source": [
        "#### Categoric columns realizations\n",
        "\n",
        "* `Item_Fat_Content` - Most items sold are low fat.\n",
        "* `Item_Type` - Item types that are distictly popular are `fruits and vegetables` and `snack foods`.\n",
        "* `Outlet_Identifier` - Sold items are ditributed evenly among outlets excluding `OUT010` and `OUT019` that are significanly lower.\n",
        "* `Outlet_Size` - Bigmart outlets are mostly medium sized in our data.\n",
        "* `Outlet_Location_Type` - The most common type is `Tier3`.\n",
        "* `Outlet_Type` - By a wide margin the mode outlet type is `Supermarket Type1`.\n",
        "\n",
        "Now for the numerical columns:"
      ]
    },
    {
      "cell_type": "code",
      "execution_count": 32,
      "metadata": {
        "colab": {
          "base_uri": "https://localhost:8080/",
          "height": 452
        },
        "id": "HWTYz-ob59uq",
        "outputId": "2c452416-b617-46a9-845c-92566fc42d7d"
      },
      "outputs": [
        {
          "output_type": "display_data",
          "data": {
            "text/plain": [
              "<Figure size 640x480 with 1 Axes>"
            ],
            "image/png": "[encoded data removed]"
          },
          "metadata": {}
        }
      ],
      "source": [
        "#list of all the numeric columns\n",
        "num = train.select_dtypes('number').columns.to_list()\n",
        "#numeric df\n",
        "BM_num =  train[num]\n",
        "\n",
        "plt.hist(train['Outlet_Age'])\n",
        "plt.title(\"Outlet_Age\")\n",
        "plt.show()"
      ]
    },
    {
      "cell_type": "code",
      "execution_count": 33,
      "metadata": {
        "colab": {
          "base_uri": "https://localhost:8080/",
          "height": 1000
        },
        "id": "C-9q8Hnw9irN",
        "outputId": "e55357bb-11a0-44cd-da5e-a40493c4d017"
      },
      "outputs": [
        {
          "output_type": "display_data",
          "data": {
            "text/plain": [
              "<Figure size 640x480 with 1 Axes>"
            ],
            "image/png": "[encoded data removed]"
          },
          "metadata": {}
        },
        {
          "output_type": "display_data",
          "data": {
            "text/plain": [
              "<Figure size 640x480 with 1 Axes>"
            ],
            "image/png": "[encoded data removed]"
          },
          "metadata": {}
        },
        {
          "output_type": "display_data",
          "data": {
            "text/plain": [
              "<Figure size 640x480 with 1 Axes>"
            ],
            "image/png": "[encoded data removed]"
          },
          "metadata": {}
        }
      ],
      "source": [
        "#because of the variability of the unique values of the numeric columns a scatter plot with the target value will be of use\n",
        "for numeric in BM_num[num[:3]]:\n",
        "    plt.scatter(BM_num[numeric], BM_num['Item_Outlet_Sales'])\n",
        "    plt.title(numeric)\n",
        "    plt.ylabel('Item_Outlet_Sales')\n",
        "    plt.show()"
      ]
    },
    {
      "cell_type": "markdown",
      "source": [
        "### numeric columns realizations\n",
        "\n",
        "* `Outlet_Age` - The most common outlets are 35 years old.\n",
        "* `Item_Weight` - The data is very spreaded, no specific pattern.\n",
        "* `Item_Visibility` - Appears to be spreaded as well but some concentration around the (0,0) indicate small visibility items are not selling well is some cases.\n",
        "* `Item_MRP` - Items with higher MRP tend to sell better in most cases.\n"
      ],
      "metadata": {
        "id": "mdoJ4s6Hdw2s"
      }
    },
    {
      "cell_type": "markdown",
      "source": [
        "### multivariate plots\n",
        "I want to check the following relationships with `Item_Outlet_Sales`:\n",
        "* Sales per item type\n",
        "* Sales per outlet\n",
        "* Sales per outlet type\n",
        "* Sales per outlet size\n",
        "* Sales per location type"
      ],
      "metadata": {
        "id": "No3wJ0xkd-Ar"
      }
    },
    {
      "cell_type": "code",
      "source": [
        "plt.figure(figsize=(25,8))\n",
        "sns.barplot(x='Item_Type' ,y='Item_Outlet_Sales', data=train,palette='gist_rainbow_r')\n",
        "#sns.barplot(x='Item_Type' ,y='Item_Outlet_Sales', data=train,palette='gist_rainbow_r',dodge=True)\n",
        "plt.xlabel('Item_Type', fontsize=14)\n",
        "plt.legend()\n",
        "plt.show()"
      ],
      "metadata": {
        "colab": {
          "base_uri": "https://localhost:8080/",
          "height": 373
        },
        "id": "i-7PlKXoePps",
        "outputId": "ac1bd764-a5f7-4c15-b1a2-53f9f931a9f1"
      },
      "execution_count": 40,
      "outputs": [
        {
          "output_type": "stream",
          "name": "stderr",
          "text": [
            "WARNING:matplotlib.legend:No artists with labels found to put in legend.  Note that artists whose label start with an underscore are ignored when legend() is called with no argument.\n"
          ]
        },
        {
          "output_type": "display_data",
          "data": {
            "text/plain": [
              "<Figure size 2500x800 with 1 Axes>"
            ],
            "image/png": "[encoded data removed]"
          },
          "metadata": {}
        }
      ]
    },
    {
      "cell_type": "code",
      "source": [
        "plt.figure(figsize=(27,10))\n",
        "sns.barplot(x='Outlet_Identifier' ,y='Item_Outlet_Sales', data=train ,palette='gist_rainbow')\n",
        "plt.xlabel('Outlet_Identifier', fontsize=14)\n",
        "plt.legend()\n",
        "plt.show()"
      ],
      "metadata": {
        "colab": {
          "base_uri": "https://localhost:8080/",
          "height": 418
        },
        "id": "3yApxQuRypJd",
        "outputId": "b21e2540-f1c8-4a0d-f018-e3a74a2a8d59"
      },
      "execution_count": 42,
      "outputs": [
        {
          "output_type": "stream",
          "name": "stderr",
          "text": [
            "WARNING:matplotlib.legend:No artists with labels found to put in legend.  Note that artists whose label start with an underscore are ignored when legend() is called with no argument.\n"
          ]
        },
        {
          "output_type": "display_data",
          "data": {
            "text/plain": [
              "<Figure size 2700x1000 with 1 Axes>"
            ],
            "image/png": "[encoded data removed]"
          },
          "metadata": {}
        }
      ]
    },
    {
      "cell_type": "code",
      "source": [
        "plt.figure(figsize=(10,5))\n",
        "sns.barplot(x='Outlet_Type' ,y='Item_Outlet_Sales', data=train ,palette='nipy_spectral')\n",
        "plt.xlabel('Outlet_Type', fontsize=14)\n",
        "plt.legend()\n",
        "plt.show()"
      ],
      "metadata": {
        "colab": {
          "base_uri": "https://localhost:8080/",
          "height": 511
        },
        "id": "Wa4BNYoYy-6W",
        "outputId": "bcb9d5c0-35e1-4d66-d465-421f8f5e2008"
      },
      "execution_count": 43,
      "outputs": [
        {
          "output_type": "stream",
          "name": "stderr",
          "text": [
            "WARNING:matplotlib.legend:No artists with labels found to put in legend.  Note that artists whose label start with an underscore are ignored when legend() is called with no argument.\n"
          ]
        },
        {
          "output_type": "display_data",
          "data": {
            "text/plain": [
              "<Figure size 1000x500 with 1 Axes>"
            ],
            "image/png": "[encoded data removed]"
          },
          "metadata": {}
        }
      ]
    },
    {
      "cell_type": "code",
      "source": [
        "plt.figure(figsize=(10,5))\n",
        "sns.barplot(x='Outlet_Size' ,y='Item_Outlet_Sales', data=train ,palette='YlOrRd')\n",
        "plt.xlabel('Outlet_Size', fontsize=14)\n",
        "plt.legend()\n",
        "plt.show()"
      ],
      "metadata": {
        "colab": {
          "base_uri": "https://localhost:8080/",
          "height": 511
        },
        "id": "e0zLsizkzJ_e",
        "outputId": "7465fe83-791b-4df0-b1a7-39ec421b0a0e"
      },
      "execution_count": 44,
      "outputs": [
        {
          "output_type": "stream",
          "name": "stderr",
          "text": [
            "WARNING:matplotlib.legend:No artists with labels found to put in legend.  Note that artists whose label start with an underscore are ignored when legend() is called with no argument.\n"
          ]
        },
        {
          "output_type": "display_data",
          "data": {
            "text/plain": [
              "<Figure size 1000x500 with 1 Axes>"
            ],
            "image/png": "[encoded data removed]"
          },
          "metadata": {}
        }
      ]
    },
    {
      "cell_type": "code",
      "source": [
        "plt.figure(figsize=(10,5))\n",
        "sns.barplot(x='Outlet_Location_Type' ,y='Item_Outlet_Sales', data=train ,palette='Spectral')\n",
        "plt.xlabel('Outlet_Location_Type', fontsize=14)\n",
        "plt.legend()\n",
        "plt.show()"
      ],
      "metadata": {
        "colab": {
          "base_uri": "https://localhost:8080/",
          "height": 508
        },
        "id": "0f9OJrlwzW6Z",
        "outputId": "94126a5d-6c19-4d77-d426-86bc1289cdb2"
      },
      "execution_count": 45,
      "outputs": [
        {
          "output_type": "stream",
          "name": "stderr",
          "text": [
            "WARNING:matplotlib.legend:No artists with labels found to put in legend.  Note that artists whose label start with an underscore are ignored when legend() is called with no argument.\n"
          ]
        },
        {
          "output_type": "display_data",
          "data": {
            "text/plain": [
              "<Figure size 1000x500 with 1 Axes>"
            ],
            "image/png": "[encoded data removed]"
          },
          "metadata": {}
        }
      ]
    },
    {
      "cell_type": "markdown",
      "source": [
        "#### Realizations:\n",
        "\n",
        "* The difference in item types by sales is very small.\n",
        "* Outlet 27 is the most profitable and there is a big diffrence between each specific outlet sales.\n",
        "* Suprisingly supermarket type 3 is the most profitable and not type 1.\n",
        "* Medium and high outlet sizes are pretty much even in sales.\n",
        "* Tier 2 and 3 are almost even being the highest in sales (2 is slightly larger)."
      ],
      "metadata": {
        "id": "5v0ZffVNziLH"
      }
    },
    {
      "cell_type": "markdown",
      "source": [
        "Correlation Matrix"
      ],
      "metadata": {
        "id": "2nlHF1B-zn2a"
      }
    },
    {
      "cell_type": "code",
      "execution_count": null,
      "metadata": {
        "colab": {
          "base_uri": "https://localhost:8080/",
          "height": 623
        },
        "id": "8kDBlBpsDwOM",
        "outputId": "89b43469-556b-4493-fa0c-fe9cee7007d3"
      },
      "outputs": [
        {
          "data": {
            "text/plain": [
              "<Axes: >"
            ]
          },
          "execution_count": 199,
          "metadata": {},
          "output_type": "execute_result"
        },
        {
          "data": {
            "image/png": "[encoded data removed]",
            "text/plain": [
              "<Figure size 640x480 with 2 Axes>"
            ]
          },
          "metadata": {},
          "output_type": "display_data"
        }
      ],
      "source": [
        "sns.heatmap(data.corr(), annot = True)"
      ]
    },
    {
      "cell_type": "markdown",
      "source": [
        "**We can see `Item_Outlet_Sales` is highly correlated with `Item_MRP`**"
      ],
      "metadata": {
        "id": "R07k0onoz2jD"
      }
    },
    {
      "cell_type": "markdown",
      "source": [
        "### Feature Engineering\n",
        "\n",
        "**Categorical values**:\n",
        "\n",
        "We have 7 columns we need to delete or encode.\n",
        "\n",
        "* Ordinal variables:\n",
        "    * `Item_Fat_Content`  \n",
        "    * `Outlet_Size`  \n",
        "    * `Outlet_Location_Type`\n",
        "    \n",
        "* Nominal variables:\n",
        "    * `Item_Identifier `  \n",
        "    * `Item_Type`\n",
        "    * `Outlet_Identifier`\n",
        "    * `Outlet_Type`\n",
        "\n",
        "**Numeric values**:\n",
        "\n",
        "* From the numeric variables `Outlet_Establishment_Year` is no longer needed\n",
        "\n",
        "**Conclusion:**\n",
        "\n",
        "In my FE process i have decided:\n",
        "\n",
        "1. The columns `Outlet_Establishment_Year`, `Item_Identifier ` and `Outlet_Identifier` don't have significant values so we will drop them.\n",
        "2. All Ordinal variables will be Label encoded.\n",
        "3. The columns `Outlet_Type` and `Item_Type`  will be One Hot encoded.\n",
        "\n"
      ],
      "metadata": {
        "id": "E0rmbFTqz_2b"
      }
    },
    {
      "cell_type": "code",
      "source": [
        "#list of all the numeric columns\n",
        "num = train.select_dtypes('number').columns.to_list()\n",
        "#list of all the categoric columns\n",
        "cat = train.select_dtypes('object').columns.to_list()\n",
        "\n",
        "#numeric df\n",
        "BM_num =  train[num]\n",
        "#categoric df\n",
        "BM_cat = train[cat]\n",
        "\n",
        "#print(num)\n",
        "#print(cat)\n",
        "\n",
        "[train[category].value_counts() for category in cat[1:]]"
      ],
      "metadata": {
        "colab": {
          "base_uri": "https://localhost:8080/"
        },
        "id": "UsbbJxWD0fro",
        "outputId": "1e9a5930-25da-4cdb-a4fb-498516d0a5b9"
      },
      "execution_count": 46,
      "outputs": [
        {
          "output_type": "execute_result",
          "data": {
            "text/plain": [
              "[Low Fat    5517\n",
              " Regular    3006\n",
              " Name: Item_Fat_Content, dtype: int64,\n",
              " Fruits and Vegetables    1232\n",
              " Snack Foods              1200\n",
              " Household                 910\n",
              " Frozen Foods              856\n",
              " Dairy                     682\n",
              " Canned                    649\n",
              " Baking Goods              648\n",
              " Health and Hygiene        520\n",
              " Soft Drinks               445\n",
              " Meat                      425\n",
              " Breads                    251\n",
              " Hard Drinks               214\n",
              " Others                    169\n",
              " Starchy Foods             148\n",
              " Breakfast                 110\n",
              " Seafood                    64\n",
              " Name: Item_Type, dtype: int64,\n",
              " OUT027    935\n",
              " OUT013    932\n",
              " OUT049    930\n",
              " OUT046    930\n",
              " OUT035    930\n",
              " OUT045    929\n",
              " OUT018    928\n",
              " OUT017    926\n",
              " OUT010    555\n",
              " OUT019    528\n",
              " Name: Outlet_Identifier, dtype: int64,\n",
              " Medium    5203\n",
              " Small     2388\n",
              " High       932\n",
              " Name: Outlet_Size, dtype: int64,\n",
              " Tier 3    3350\n",
              " Tier 2    2785\n",
              " Tier 1    2388\n",
              " Name: Outlet_Location_Type, dtype: int64,\n",
              " Supermarket Type1    5577\n",
              " Grocery Store        1083\n",
              " Supermarket Type3     935\n",
              " Supermarket Type2     928\n",
              " Name: Outlet_Type, dtype: int64]"
            ]
          },
          "metadata": {},
          "execution_count": 46
        }
      ]
    },
    {
      "cell_type": "code",
      "source": [
        "BM_cat.apply(lambda x: x.nunique()) #checking the number of unique values in each column"
      ],
      "metadata": {
        "colab": {
          "base_uri": "https://localhost:8080/"
        },
        "id": "UiESV7uV0QFn",
        "outputId": "90afbdbc-d896-438c-958e-3947b094d150"
      },
      "execution_count": 47,
      "outputs": [
        {
          "output_type": "execute_result",
          "data": {
            "text/plain": [
              "Item_Identifier         1559\n",
              "Item_Fat_Content           2\n",
              "Item_Type                 16\n",
              "Outlet_Identifier         10\n",
              "Outlet_Size                3\n",
              "Outlet_Location_Type       3\n",
              "Outlet_Type                4\n",
              "dtype: int64"
            ]
          },
          "metadata": {},
          "execution_count": 47
        }
      ]
    },
    {
      "cell_type": "markdown",
      "metadata": {
        "id": "xzGEbGz5RDzl"
      },
      "source": [
        "**Label Encoder**"
      ]
    },
    {
      "cell_type": "code",
      "execution_count": 48,
      "metadata": {
        "id": "s9LdT05CQnsp",
        "colab": {
          "base_uri": "https://localhost:8080/",
          "height": 313
        },
        "outputId": "4ad37531-e4ce-4728-cbbf-98a90b16eb44"
      },
      "outputs": [
        {
          "output_type": "execute_result",
          "data": {
            "text/plain": [
              "  Item_Identifier  Item_Weight  Item_Fat_Content  Item_Visibility  \\\n",
              "0           FDA15         9.30                 0         0.016047   \n",
              "1           DRC01         5.92                 1         0.019278   \n",
              "2           FDN15        17.50                 0         0.016760   \n",
              "3           FDX07        19.20                 1         0.000000   \n",
              "4           NCD19         8.93                 0         0.000000   \n",
              "\n",
              "               Item_Type  Item_MRP Outlet_Identifier  \\\n",
              "0                  Dairy  249.8092            OUT049   \n",
              "1            Soft Drinks   48.2692            OUT018   \n",
              "2                   Meat  141.6180            OUT049   \n",
              "3  Fruits and Vegetables  182.0950            OUT010   \n",
              "4              Household   53.8614            OUT013   \n",
              "\n",
              "   Outlet_Establishment_Year  Outlet_Size  Outlet_Location_Type  \\\n",
              "0                       1999            1                     0   \n",
              "1                       2009            1                     2   \n",
              "2                       1999            1                     0   \n",
              "3                       1998            1                     2   \n",
              "4                       1987            0                     2   \n",
              "\n",
              "         Outlet_Type  Item_Outlet_Sales  Outlet_Age  \n",
              "0  Supermarket Type1          3735.1380          24  \n",
              "1  Supermarket Type2           443.4228          14  \n",
              "2  Supermarket Type1          2097.2700          24  \n",
              "3      Grocery Store           732.3800          25  \n",
              "4  Supermarket Type1           994.7052          36  "
            ],
            "text/html": [
              "\n",
              "  <div id=\"df-af3954b5-484b-44b2-9638-34465a1be0de\" class=\"colab-df-container\">\n",
              "    <div>\n",
              "<style scoped>\n",
              "    .dataframe tbody tr th:only-of-type {\n",
              "        vertical-align: middle;\n",
              "    }\n",
              "\n",
              "    .dataframe tbody tr th {\n",
              "        vertical-align: top;\n",
              "    }\n",
              "\n",
              "    .dataframe thead th {\n",
              "        text-align: right;\n",
              "    }\n",
              "</style>\n",
              "<table border=\"1\" class=\"dataframe\">\n",
              "  <thead>\n",
              "    <tr style=\"text-align: right;\">\n",
              "      <th></th>\n",
              "      <th>Item_Identifier</th>\n",
              "      <th>Item_Weight</th>\n",
              "      <th>Item_Fat_Content</th>\n",
              "      <th>Item_Visibility</th>\n",
              "      <th>Item_Type</th>\n",
              "      <th>Item_MRP</th>\n",
              "      <th>Outlet_Identifier</th>\n",
              "      <th>Outlet_Establishment_Year</th>\n",
              "      <th>Outlet_Size</th>\n",
              "      <th>Outlet_Location_Type</th>\n",
              "      <th>Outlet_Type</th>\n",
              "      <th>Item_Outlet_Sales</th>\n",
              "      <th>Outlet_Age</th>\n",
              "    </tr>\n",
              "  </thead>\n",
              "  <tbody>\n",
              "    <tr>\n",
              "      <th>0</th>\n",
              "      <td>FDA15</td>\n",
              "      <td>9.30</td>\n",
              "      <td>0</td>\n",
              "      <td>0.016047</td>\n",
              "      <td>Dairy</td>\n",
              "      <td>249.8092</td>\n",
              "      <td>OUT049</td>\n",
              "      <td>1999</td>\n",
              "      <td>1</td>\n",
              "      <td>0</td>\n",
              "      <td>Supermarket Type1</td>\n",
              "      <td>3735.1380</td>\n",
              "      <td>24</td>\n",
              "    </tr>\n",
              "    <tr>\n",
              "      <th>1</th>\n",
              "      <td>DRC01</td>\n",
              "      <td>5.92</td>\n",
              "      <td>1</td>\n",
              "      <td>0.019278</td>\n",
              "      <td>Soft Drinks</td>\n",
              "      <td>48.2692</td>\n",
              "      <td>OUT018</td>\n",
              "      <td>2009</td>\n",
              "      <td>1</td>\n",
              "      <td>2</td>\n",
              "      <td>Supermarket Type2</td>\n",
              "      <td>443.4228</td>\n",
              "      <td>14</td>\n",
              "    </tr>\n",
              "    <tr>\n",
              "      <th>2</th>\n",
              "      <td>FDN15</td>\n",
              "      <td>17.50</td>\n",
              "      <td>0</td>\n",
              "      <td>0.016760</td>\n",
              "      <td>Meat</td>\n",
              "      <td>141.6180</td>\n",
              "      <td>OUT049</td>\n",
              "      <td>1999</td>\n",
              "      <td>1</td>\n",
              "      <td>0</td>\n",
              "      <td>Supermarket Type1</td>\n",
              "      <td>2097.2700</td>\n",
              "      <td>24</td>\n",
              "    </tr>\n",
              "    <tr>\n",
              "      <th>3</th>\n",
              "      <td>FDX07</td>\n",
              "      <td>19.20</td>\n",
              "      <td>1</td>\n",
              "      <td>0.000000</td>\n",
              "      <td>Fruits and Vegetables</td>\n",
              "      <td>182.0950</td>\n",
              "      <td>OUT010</td>\n",
              "      <td>1998</td>\n",
              "      <td>1</td>\n",
              "      <td>2</td>\n",
              "      <td>Grocery Store</td>\n",
              "      <td>732.3800</td>\n",
              "      <td>25</td>\n",
              "    </tr>\n",
              "    <tr>\n",
              "      <th>4</th>\n",
              "      <td>NCD19</td>\n",
              "      <td>8.93</td>\n",
              "      <td>0</td>\n",
              "      <td>0.000000</td>\n",
              "      <td>Household</td>\n",
              "      <td>53.8614</td>\n",
              "      <td>OUT013</td>\n",
              "      <td>1987</td>\n",
              "      <td>0</td>\n",
              "      <td>2</td>\n",
              "      <td>Supermarket Type1</td>\n",
              "      <td>994.7052</td>\n",
              "      <td>36</td>\n",
              "    </tr>\n",
              "  </tbody>\n",
              "</table>\n",
              "</div>\n",
              "    <div class=\"colab-df-buttons\">\n",
              "\n",
              "  <div class=\"colab-df-container\">\n",
              "    <button class=\"colab-df-convert\" onclick=\"convertToInteractive('df-af3954b5-484b-44b2-9638-34465a1be0de')\"\n",
              "            title=\"Convert this dataframe to an interactive table.\"\n",
              "            style=\"display:none;\">\n",
              "\n",
              "  <svg xmlns=\"http://www.w3.org/2000/svg\" height=\"24px\" viewBox=\"0 -960 960 960\">\n",
              "    <path d=\"M120-120v-720h720v720H120Zm60-500h600v-160H180v160Zm220 220h160v-160H400v160Zm0 220h160v-160H400v160ZM180-400h160v-160H180v160Zm440 0h160v-160H620v160ZM180-180h160v-160H180v160Zm440 0h160v-160H620v160Z\"/>\n",
              "  </svg>\n",
              "    </button>\n",
              "\n",
              "  <style>\n",
              "    .colab-df-container {\n",
              "      display:flex;\n",
              "      gap: 12px;\n",
              "    }\n",
              "\n",
              "    .colab-df-convert {\n",
              "      background-color: #E8F0FE;\n",
              "      border: none;\n",
              "      border-radius: 50%;\n",
              "      cursor: pointer;\n",
              "      display: none;\n",
              "      fill: #1967D2;\n",
              "      height: 32px;\n",
              "      padding: 0 0 0 0;\n",
              "      width: 32px;\n",
              "    }\n",
              "\n",
              "    .colab-df-convert:hover {\n",
              "      background-color: #E2EBFA;\n",
              "      box-shadow: 0px 1px 2px rgba(60, 64, 67, 0.3), 0px 1px 3px 1px rgba(60, 64, 67, 0.15);\n",
              "      fill: #174EA6;\n",
              "    }\n",
              "\n",
              "    .colab-df-buttons div {\n",
              "      margin-bottom: 4px;\n",
              "    }\n",
              "\n",
              "    [theme=dark] .colab-df-convert {\n",
              "      background-color: #3B4455;\n",
              "      fill: #D2E3FC;\n",
              "    }\n",
              "\n",
              "    [theme=dark] .colab-df-convert:hover {\n",
              "      background-color: #434B5C;\n",
              "      box-shadow: 0px 1px 3px 1px rgba(0, 0, 0, 0.15);\n",
              "      filter: drop-shadow(0px 1px 2px rgba(0, 0, 0, 0.3));\n",
              "      fill: #FFFFFF;\n",
              "    }\n",
              "  </style>\n",
              "\n",
              "    <script>\n",
              "      const buttonEl =\n",
              "        document.querySelector('#df-af3954b5-484b-44b2-9638-34465a1be0de button.colab-df-convert');\n",
              "      buttonEl.style.display =\n",
              "        google.colab.kernel.accessAllowed ? 'block' : 'none';\n",
              "\n",
              "      async function convertToInteractive(key) {\n",
              "        const element = document.querySelector('#df-af3954b5-484b-44b2-9638-34465a1be0de');\n",
              "        const dataTable =\n",
              "          await google.colab.kernel.invokeFunction('convertToInteractive',\n",
              "                                                    [key], {});\n",
              "        if (!dataTable) return;\n",
              "\n",
              "        const docLinkHtml = 'Like what you see? Visit the ' +\n",
              "          '<a target=\"_blank\" href=https://colab.research.google.com/notebooks/data_table.ipynb>data table notebook</a>'\n",
              "          + ' to learn more about interactive tables.';\n",
              "        element.innerHTML = '';\n",
              "        dataTable['output_type'] = 'display_data';\n",
              "        await google.colab.output.renderOutput(dataTable, element);\n",
              "        const docLink = document.createElement('div');\n",
              "        docLink.innerHTML = docLinkHtml;\n",
              "        element.appendChild(docLink);\n",
              "      }\n",
              "    </script>\n",
              "  </div>\n",
              "\n",
              "\n",
              "<div id=\"df-ecc26eaf-33c3-43bd-9b1d-9ae141a81276\">\n",
              "  <button class=\"colab-df-quickchart\" onclick=\"quickchart('df-ecc26eaf-33c3-43bd-9b1d-9ae141a81276')\"\n",
              "            title=\"Suggest charts.\"\n",
              "            style=\"display:none;\">\n",
              "\n",
              "<svg xmlns=\"http://www.w3.org/2000/svg\" height=\"24px\"viewBox=\"0 0 24 24\"\n",
              "     width=\"24px\">\n",
              "    <g>\n",
              "        <path d=\"M19 3H5c-1.1 0-2 .9-2 2v14c0 1.1.9 2 2 2h14c1.1 0 2-.9 2-2V5c0-1.1-.9-2-2-2zM9 17H7v-7h2v7zm4 0h-2V7h2v10zm4 0h-2v-4h2v4z\"/>\n",
              "    </g>\n",
              "</svg>\n",
              "  </button>\n",
              "\n",
              "<style>\n",
              "  .colab-df-quickchart {\n",
              "      --bg-color: #E8F0FE;\n",
              "      --fill-color: #1967D2;\n",
              "      --hover-bg-color: #E2EBFA;\n",
              "      --hover-fill-color: #174EA6;\n",
              "      --disabled-fill-color: #AAA;\n",
              "      --disabled-bg-color: #DDD;\n",
              "  }\n",
              "\n",
              "  [theme=dark] .colab-df-quickchart {\n",
              "      --bg-color: #3B4455;\n",
              "      --fill-color: #D2E3FC;\n",
              "      --hover-bg-color: #434B5C;\n",
              "      --hover-fill-color: #FFFFFF;\n",
              "      --disabled-bg-color: #3B4455;\n",
              "      --disabled-fill-color: #666;\n",
              "  }\n",
              "\n",
              "  .colab-df-quickchart {\n",
              "    background-color: var(--bg-color);\n",
              "    border: none;\n",
              "    border-radius: 50%;\n",
              "    cursor: pointer;\n",
              "    display: none;\n",
              "    fill: var(--fill-color);\n",
              "    height: 32px;\n",
              "    padding: 0;\n",
              "    width: 32px;\n",
              "  }\n",
              "\n",
              "  .colab-df-quickchart:hover {\n",
              "    background-color: var(--hover-bg-color);\n",
              "    box-shadow: 0 1px 2px rgba(60, 64, 67, 0.3), 0 1px 3px 1px rgba(60, 64, 67, 0.15);\n",
              "    fill: var(--button-hover-fill-color);\n",
              "  }\n",
              "\n",
              "  .colab-df-quickchart-complete:disabled,\n",
              "  .colab-df-quickchart-complete:disabled:hover {\n",
              "    background-color: var(--disabled-bg-color);\n",
              "    fill: var(--disabled-fill-color);\n",
              "    box-shadow: none;\n",
              "  }\n",
              "\n",
              "  .colab-df-spinner {\n",
              "    border: 2px solid var(--fill-color);\n",
              "    border-color: transparent;\n",
              "    border-bottom-color: var(--fill-color);\n",
              "    animation:\n",
              "      spin 1s steps(1) infinite;\n",
              "  }\n",
              "\n",
              "  @keyframes spin {\n",
              "    0% {\n",
              "      border-color: transparent;\n",
              "      border-bottom-color: var(--fill-color);\n",
              "      border-left-color: var(--fill-color);\n",
              "    }\n",
              "    20% {\n",
              "      border-color: transparent;\n",
              "      border-left-color: var(--fill-color);\n",
              "      border-top-color: var(--fill-color);\n",
              "    }\n",
              "    30% {\n",
              "      border-color: transparent;\n",
              "      border-left-color: var(--fill-color);\n",
              "      border-top-color: var(--fill-color);\n",
              "      border-right-color: var(--fill-color);\n",
              "    }\n",
              "    40% {\n",
              "      border-color: transparent;\n",
              "      border-right-color: var(--fill-color);\n",
              "      border-top-color: var(--fill-color);\n",
              "    }\n",
              "    60% {\n",
              "      border-color: transparent;\n",
              "      border-right-color: var(--fill-color);\n",
              "    }\n",
              "    80% {\n",
              "      border-color: transparent;\n",
              "      border-right-color: var(--fill-color);\n",
              "      border-bottom-color: var(--fill-color);\n",
              "    }\n",
              "    90% {\n",
              "      border-color: transparent;\n",
              "      border-bottom-color: var(--fill-color);\n",
              "    }\n",
              "  }\n",
              "</style>\n",
              "\n",
              "  <script>\n",
              "    async function quickchart(key) {\n",
              "      const quickchartButtonEl =\n",
              "        document.querySelector('#' + key + ' button');\n",
              "      quickchartButtonEl.disabled = true;  // To prevent multiple clicks.\n",
              "      quickchartButtonEl.classList.add('colab-df-spinner');\n",
              "      try {\n",
              "        const charts = await google.colab.kernel.invokeFunction(\n",
              "            'suggestCharts', [key], {});\n",
              "      } catch (error) {\n",
              "        console.error('Error during call to suggestCharts:', error);\n",
              "      }\n",
              "      quickchartButtonEl.classList.remove('colab-df-spinner');\n",
              "      quickchartButtonEl.classList.add('colab-df-quickchart-complete');\n",
              "    }\n",
              "    (() => {\n",
              "      let quickchartButtonEl =\n",
              "        document.querySelector('#df-ecc26eaf-33c3-43bd-9b1d-9ae141a81276 button');\n",
              "      quickchartButtonEl.style.display =\n",
              "        google.colab.kernel.accessAllowed ? 'block' : 'none';\n",
              "    })();\n",
              "  </script>\n",
              "</div>\n",
              "    </div>\n",
              "  </div>\n"
            ]
          },
          "metadata": {},
          "execution_count": 48
        }
      ],
      "source": [
        "#lable encoding\n",
        "\n",
        "le = LabelEncoder()\n",
        "Label = ['Item_Fat_Content','Outlet_Size','Outlet_Location_Type']\n",
        "\n",
        "for i in Label:\n",
        "    train[i] = le.fit_transform(train[i])\n",
        "    test[i] = le.fit_transform(test[i])\n",
        "\n",
        "train.head()"
      ]
    },
    {
      "cell_type": "markdown",
      "metadata": {
        "id": "ONL2N1DbwQhd"
      },
      "source": [
        "**OneHotEncoding**"
      ]
    },
    {
      "cell_type": "code",
      "execution_count": 51,
      "metadata": {
        "id": "1g6R1PddPMTc",
        "colab": {
          "base_uri": "https://localhost:8080/"
        },
        "outputId": "03fa5b88-8f17-43e1-e821-9e2a5bac133a"
      },
      "outputs": [
        {
          "output_type": "stream",
          "name": "stderr",
          "text": [
            "/usr/local/lib/python3.10/dist-packages/sklearn/preprocessing/_encoders.py:868: FutureWarning: `sparse` was renamed to `sparse_output` in version 1.2 and will be removed in 1.4. `sparse_output` is ignored unless you leave `sparse` to its default value.\n",
            "  warnings.warn(\n",
            "/usr/local/lib/python3.10/dist-packages/sklearn/preprocessing/_encoders.py:868: FutureWarning: `sparse` was renamed to `sparse_output` in version 1.2 and will be removed in 1.4. `sparse_output` is ignored unless you leave `sparse` to its default value.\n",
            "  warnings.warn(\n"
          ]
        }
      ],
      "source": [
        "#one hot encoding\n",
        "cols = ['Item_Type','Outlet_Type']\n",
        "# Apply one-hot encoder\n",
        "OH_encoder = OneHotEncoder(handle_unknown='ignore', sparse=False)\n",
        "tr_oh = pd.DataFrame(OH_encoder.fit_transform(train[cols])).astype('int64')\n",
        "te_oh = pd.DataFrame(OH_encoder.fit_transform(test[cols])).astype('int64')\n",
        "\n",
        "\n",
        "#get feature columns\n",
        "tr_oh.columns = OH_encoder.get_feature_names_out(cols)\n",
        "te_oh.columns = OH_encoder.get_feature_names_out(cols)\n",
        "\n",
        "# One-hot encoding removed index; put it back\n",
        "tr_oh.index = train.index\n",
        "te_oh.index = test.index\n",
        "\n",
        "# Add one-hot encoded columns to our main df new name: tr_fe, te_fe (means feature engeenired)\n",
        "tr_fe = pd.concat([train, tr_oh], axis=1)\n",
        "te_fe = pd.concat([test, te_oh], axis=1)"
      ]
    },
    {
      "cell_type": "code",
      "execution_count": 52,
      "metadata": {
        "id": "H4B9nc8-PnJl"
      },
      "outputs": [],
      "source": [
        "# Dropping irrelevant columns\n",
        "\n",
        "tr_fe  = tr_fe.drop(['Item_Identifier','Outlet_Identifier','Outlet_Establishment_Year','Outlet_Type','Item_Type'],axis=1)\n",
        "te_fe = te_fe.drop(['Item_Identifier','Outlet_Identifier','Outlet_Establishment_Year','Outlet_Type','Item_Type'],axis=1)"
      ]
    },
    {
      "cell_type": "code",
      "execution_count": 53,
      "metadata": {
        "colab": {
          "base_uri": "https://localhost:8080/",
          "height": 273
        },
        "id": "HkQ0rZUwP4Ww",
        "outputId": "3e078bd9-bf03-4f61-e41c-8f63f3069f1e"
      },
      "outputs": [
        {
          "output_type": "execute_result",
          "data": {
            "text/plain": [
              "   Item_Weight  Item_Fat_Content  Item_Visibility  Item_MRP  Outlet_Size  \\\n",
              "0         9.30                 0         0.016047  249.8092            1   \n",
              "1         5.92                 1         0.019278   48.2692            1   \n",
              "2        17.50                 0         0.016760  141.6180            1   \n",
              "3        19.20                 1         0.000000  182.0950            1   \n",
              "4         8.93                 0         0.000000   53.8614            0   \n",
              "\n",
              "   Outlet_Location_Type  Item_Outlet_Sales  Outlet_Age  \\\n",
              "0                     0          3735.1380          24   \n",
              "1                     2           443.4228          14   \n",
              "2                     0          2097.2700          24   \n",
              "3                     2           732.3800          25   \n",
              "4                     2           994.7052          36   \n",
              "\n",
              "   Item_Type_Baking Goods  Item_Type_Breads  ...  Item_Type_Meat  \\\n",
              "0                       0                 0  ...               0   \n",
              "1                       0                 0  ...               0   \n",
              "2                       0                 0  ...               1   \n",
              "3                       0                 0  ...               0   \n",
              "4                       0                 0  ...               0   \n",
              "\n",
              "   Item_Type_Others  Item_Type_Seafood  Item_Type_Snack Foods  \\\n",
              "0                 0                  0                      0   \n",
              "1                 0                  0                      0   \n",
              "2                 0                  0                      0   \n",
              "3                 0                  0                      0   \n",
              "4                 0                  0                      0   \n",
              "\n",
              "   Item_Type_Soft Drinks  Item_Type_Starchy Foods  Outlet_Type_Grocery Store  \\\n",
              "0                      0                        0                          0   \n",
              "1                      1                        0                          0   \n",
              "2                      0                        0                          0   \n",
              "3                      0                        0                          1   \n",
              "4                      0                        0                          0   \n",
              "\n",
              "   Outlet_Type_Supermarket Type1  Outlet_Type_Supermarket Type2  \\\n",
              "0                              1                              0   \n",
              "1                              0                              1   \n",
              "2                              1                              0   \n",
              "3                              0                              0   \n",
              "4                              1                              0   \n",
              "\n",
              "   Outlet_Type_Supermarket Type3  \n",
              "0                              0  \n",
              "1                              0  \n",
              "2                              0  \n",
              "3                              0  \n",
              "4                              0  \n",
              "\n",
              "[5 rows x 28 columns]"
            ],
            "text/html": [
              "\n",
              "  <div id=\"df-f1599351-7fca-473d-9567-5b54a2b664cb\" class=\"colab-df-container\">\n",
              "    <div>\n",
              "<style scoped>\n",
              "    .dataframe tbody tr th:only-of-type {\n",
              "        vertical-align: middle;\n",
              "    }\n",
              "\n",
              "    .dataframe tbody tr th {\n",
              "        vertical-align: top;\n",
              "    }\n",
              "\n",
              "    .dataframe thead th {\n",
              "        text-align: right;\n",
              "    }\n",
              "</style>\n",
              "<table border=\"1\" class=\"dataframe\">\n",
              "  <thead>\n",
              "    <tr style=\"text-align: right;\">\n",
              "      <th></th>\n",
              "      <th>Item_Weight</th>\n",
              "      <th>Item_Fat_Content</th>\n",
              "      <th>Item_Visibility</th>\n",
              "      <th>Item_MRP</th>\n",
              "      <th>Outlet_Size</th>\n",
              "      <th>Outlet_Location_Type</th>\n",
              "      <th>Item_Outlet_Sales</th>\n",
              "      <th>Outlet_Age</th>\n",
              "      <th>Item_Type_Baking Goods</th>\n",
              "      <th>Item_Type_Breads</th>\n",
              "      <th>...</th>\n",
              "      <th>Item_Type_Meat</th>\n",
              "      <th>Item_Type_Others</th>\n",
              "      <th>Item_Type_Seafood</th>\n",
              "      <th>Item_Type_Snack Foods</th>\n",
              "      <th>Item_Type_Soft Drinks</th>\n",
              "      <th>Item_Type_Starchy Foods</th>\n",
              "      <th>Outlet_Type_Grocery Store</th>\n",
              "      <th>Outlet_Type_Supermarket Type1</th>\n",
              "      <th>Outlet_Type_Supermarket Type2</th>\n",
              "      <th>Outlet_Type_Supermarket Type3</th>\n",
              "    </tr>\n",
              "  </thead>\n",
              "  <tbody>\n",
              "    <tr>\n",
              "      <th>0</th>\n",
              "      <td>9.30</td>\n",
              "      <td>0</td>\n",
              "      <td>0.016047</td>\n",
              "      <td>249.8092</td>\n",
              "      <td>1</td>\n",
              "      <td>0</td>\n",
              "      <td>3735.1380</td>\n",
              "      <td>24</td>\n",
              "      <td>0</td>\n",
              "      <td>0</td>\n",
              "      <td>...</td>\n",
              "      <td>0</td>\n",
              "      <td>0</td>\n",
              "      <td>0</td>\n",
              "      <td>0</td>\n",
              "      <td>0</td>\n",
              "      <td>0</td>\n",
              "      <td>0</td>\n",
              "      <td>1</td>\n",
              "      <td>0</td>\n",
              "      <td>0</td>\n",
              "    </tr>\n",
              "    <tr>\n",
              "      <th>1</th>\n",
              "      <td>5.92</td>\n",
              "      <td>1</td>\n",
              "      <td>0.019278</td>\n",
              "      <td>48.2692</td>\n",
              "      <td>1</td>\n",
              "      <td>2</td>\n",
              "      <td>443.4228</td>\n",
              "      <td>14</td>\n",
              "      <td>0</td>\n",
              "      <td>0</td>\n",
              "      <td>...</td>\n",
              "      <td>0</td>\n",
              "      <td>0</td>\n",
              "      <td>0</td>\n",
              "      <td>0</td>\n",
              "      <td>1</td>\n",
              "      <td>0</td>\n",
              "      <td>0</td>\n",
              "      <td>0</td>\n",
              "      <td>1</td>\n",
              "      <td>0</td>\n",
              "    </tr>\n",
              "    <tr>\n",
              "      <th>2</th>\n",
              "      <td>17.50</td>\n",
              "      <td>0</td>\n",
              "      <td>0.016760</td>\n",
              "      <td>141.6180</td>\n",
              "      <td>1</td>\n",
              "      <td>0</td>\n",
              "      <td>2097.2700</td>\n",
              "      <td>24</td>\n",
              "      <td>0</td>\n",
              "      <td>0</td>\n",
              "      <td>...</td>\n",
              "      <td>1</td>\n",
              "      <td>0</td>\n",
              "      <td>0</td>\n",
              "      <td>0</td>\n",
              "      <td>0</td>\n",
              "      <td>0</td>\n",
              "      <td>0</td>\n",
              "      <td>1</td>\n",
              "      <td>0</td>\n",
              "      <td>0</td>\n",
              "    </tr>\n",
              "    <tr>\n",
              "      <th>3</th>\n",
              "      <td>19.20</td>\n",
              "      <td>1</td>\n",
              "      <td>0.000000</td>\n",
              "      <td>182.0950</td>\n",
              "      <td>1</td>\n",
              "      <td>2</td>\n",
              "      <td>732.3800</td>\n",
              "      <td>25</td>\n",
              "      <td>0</td>\n",
              "      <td>0</td>\n",
              "      <td>...</td>\n",
              "      <td>0</td>\n",
              "      <td>0</td>\n",
              "      <td>0</td>\n",
              "      <td>0</td>\n",
              "      <td>0</td>\n",
              "      <td>0</td>\n",
              "      <td>1</td>\n",
              "      <td>0</td>\n",
              "      <td>0</td>\n",
              "      <td>0</td>\n",
              "    </tr>\n",
              "    <tr>\n",
              "      <th>4</th>\n",
              "      <td>8.93</td>\n",
              "      <td>0</td>\n",
              "      <td>0.000000</td>\n",
              "      <td>53.8614</td>\n",
              "      <td>0</td>\n",
              "      <td>2</td>\n",
              "      <td>994.7052</td>\n",
              "      <td>36</td>\n",
              "      <td>0</td>\n",
              "      <td>0</td>\n",
              "      <td>...</td>\n",
              "      <td>0</td>\n",
              "      <td>0</td>\n",
              "      <td>0</td>\n",
              "      <td>0</td>\n",
              "      <td>0</td>\n",
              "      <td>0</td>\n",
              "      <td>0</td>\n",
              "      <td>1</td>\n",
              "      <td>0</td>\n",
              "      <td>0</td>\n",
              "    </tr>\n",
              "  </tbody>\n",
              "</table>\n",
              "<p>5 rows × 28 columns</p>\n",
              "</div>\n",
              "    <div class=\"colab-df-buttons\">\n",
              "\n",
              "  <div class=\"colab-df-container\">\n",
              "    <button class=\"colab-df-convert\" onclick=\"convertToInteractive('df-f1599351-7fca-473d-9567-5b54a2b664cb')\"\n",
              "            title=\"Convert this dataframe to an interactive table.\"\n",
              "            style=\"display:none;\">\n",
              "\n",
              "  <svg xmlns=\"http://www.w3.org/2000/svg\" height=\"24px\" viewBox=\"0 -960 960 960\">\n",
              "    <path d=\"M120-120v-720h720v720H120Zm60-500h600v-160H180v160Zm220 220h160v-160H400v160Zm0 220h160v-160H400v160ZM180-400h160v-160H180v160Zm440 0h160v-160H620v160ZM180-180h160v-160H180v160Zm440 0h160v-160H620v160Z\"/>\n",
              "  </svg>\n",
              "    </button>\n",
              "\n",
              "  <style>\n",
              "    .colab-df-container {\n",
              "      display:flex;\n",
              "      gap: 12px;\n",
              "    }\n",
              "\n",
              "    .colab-df-convert {\n",
              "      background-color: #E8F0FE;\n",
              "      border: none;\n",
              "      border-radius: 50%;\n",
              "      cursor: pointer;\n",
              "      display: none;\n",
              "      fill: #1967D2;\n",
              "      height: 32px;\n",
              "      padding: 0 0 0 0;\n",
              "      width: 32px;\n",
              "    }\n",
              "\n",
              "    .colab-df-convert:hover {\n",
              "      background-color: #E2EBFA;\n",
              "      box-shadow: 0px 1px 2px rgba(60, 64, 67, 0.3), 0px 1px 3px 1px rgba(60, 64, 67, 0.15);\n",
              "      fill: #174EA6;\n",
              "    }\n",
              "\n",
              "    .colab-df-buttons div {\n",
              "      margin-bottom: 4px;\n",
              "    }\n",
              "\n",
              "    [theme=dark] .colab-df-convert {\n",
              "      background-color: #3B4455;\n",
              "      fill: #D2E3FC;\n",
              "    }\n",
              "\n",
              "    [theme=dark] .colab-df-convert:hover {\n",
              "      background-color: #434B5C;\n",
              "      box-shadow: 0px 1px 3px 1px rgba(0, 0, 0, 0.15);\n",
              "      filter: drop-shadow(0px 1px 2px rgba(0, 0, 0, 0.3));\n",
              "      fill: #FFFFFF;\n",
              "    }\n",
              "  </style>\n",
              "\n",
              "    <script>\n",
              "      const buttonEl =\n",
              "        document.querySelector('#df-f1599351-7fca-473d-9567-5b54a2b664cb button.colab-df-convert');\n",
              "      buttonEl.style.display =\n",
              "        google.colab.kernel.accessAllowed ? 'block' : 'none';\n",
              "\n",
              "      async function convertToInteractive(key) {\n",
              "        const element = document.querySelector('#df-f1599351-7fca-473d-9567-5b54a2b664cb');\n",
              "        const dataTable =\n",
              "          await google.colab.kernel.invokeFunction('convertToInteractive',\n",
              "                                                    [key], {});\n",
              "        if (!dataTable) return;\n",
              "\n",
              "        const docLinkHtml = 'Like what you see? Visit the ' +\n",
              "          '<a target=\"_blank\" href=https://colab.research.google.com/notebooks/data_table.ipynb>data table notebook</a>'\n",
              "          + ' to learn more about interactive tables.';\n",
              "        element.innerHTML = '';\n",
              "        dataTable['output_type'] = 'display_data';\n",
              "        await google.colab.output.renderOutput(dataTable, element);\n",
              "        const docLink = document.createElement('div');\n",
              "        docLink.innerHTML = docLinkHtml;\n",
              "        element.appendChild(docLink);\n",
              "      }\n",
              "    </script>\n",
              "  </div>\n",
              "\n",
              "\n",
              "<div id=\"df-257b6b44-6797-438c-b973-10b95fc93c3e\">\n",
              "  <button class=\"colab-df-quickchart\" onclick=\"quickchart('df-257b6b44-6797-438c-b973-10b95fc93c3e')\"\n",
              "            title=\"Suggest charts.\"\n",
              "            style=\"display:none;\">\n",
              "\n",
              "<svg xmlns=\"http://www.w3.org/2000/svg\" height=\"24px\"viewBox=\"0 0 24 24\"\n",
              "     width=\"24px\">\n",
              "    <g>\n",
              "        <path d=\"M19 3H5c-1.1 0-2 .9-2 2v14c0 1.1.9 2 2 2h14c1.1 0 2-.9 2-2V5c0-1.1-.9-2-2-2zM9 17H7v-7h2v7zm4 0h-2V7h2v10zm4 0h-2v-4h2v4z\"/>\n",
              "    </g>\n",
              "</svg>\n",
              "  </button>\n",
              "\n",
              "<style>\n",
              "  .colab-df-quickchart {\n",
              "      --bg-color: #E8F0FE;\n",
              "      --fill-color: #1967D2;\n",
              "      --hover-bg-color: #E2EBFA;\n",
              "      --hover-fill-color: #174EA6;\n",
              "      --disabled-fill-color: #AAA;\n",
              "      --disabled-bg-color: #DDD;\n",
              "  }\n",
              "\n",
              "  [theme=dark] .colab-df-quickchart {\n",
              "      --bg-color: #3B4455;\n",
              "      --fill-color: #D2E3FC;\n",
              "      --hover-bg-color: #434B5C;\n",
              "      --hover-fill-color: #FFFFFF;\n",
              "      --disabled-bg-color: #3B4455;\n",
              "      --disabled-fill-color: #666;\n",
              "  }\n",
              "\n",
              "  .colab-df-quickchart {\n",
              "    background-color: var(--bg-color);\n",
              "    border: none;\n",
              "    border-radius: 50%;\n",
              "    cursor: pointer;\n",
              "    display: none;\n",
              "    fill: var(--fill-color);\n",
              "    height: 32px;\n",
              "    padding: 0;\n",
              "    width: 32px;\n",
              "  }\n",
              "\n",
              "  .colab-df-quickchart:hover {\n",
              "    background-color: var(--hover-bg-color);\n",
              "    box-shadow: 0 1px 2px rgba(60, 64, 67, 0.3), 0 1px 3px 1px rgba(60, 64, 67, 0.15);\n",
              "    fill: var(--button-hover-fill-color);\n",
              "  }\n",
              "\n",
              "  .colab-df-quickchart-complete:disabled,\n",
              "  .colab-df-quickchart-complete:disabled:hover {\n",
              "    background-color: var(--disabled-bg-color);\n",
              "    fill: var(--disabled-fill-color);\n",
              "    box-shadow: none;\n",
              "  }\n",
              "\n",
              "  .colab-df-spinner {\n",
              "    border: 2px solid var(--fill-color);\n",
              "    border-color: transparent;\n",
              "    border-bottom-color: var(--fill-color);\n",
              "    animation:\n",
              "      spin 1s steps(1) infinite;\n",
              "  }\n",
              "\n",
              "  @keyframes spin {\n",
              "    0% {\n",
              "      border-color: transparent;\n",
              "      border-bottom-color: var(--fill-color);\n",
              "      border-left-color: var(--fill-color);\n",
              "    }\n",
              "    20% {\n",
              "      border-color: transparent;\n",
              "      border-left-color: var(--fill-color);\n",
              "      border-top-color: var(--fill-color);\n",
              "    }\n",
              "    30% {\n",
              "      border-color: transparent;\n",
              "      border-left-color: var(--fill-color);\n",
              "      border-top-color: var(--fill-color);\n",
              "      border-right-color: var(--fill-color);\n",
              "    }\n",
              "    40% {\n",
              "      border-color: transparent;\n",
              "      border-right-color: var(--fill-color);\n",
              "      border-top-color: var(--fill-color);\n",
              "    }\n",
              "    60% {\n",
              "      border-color: transparent;\n",
              "      border-right-color: var(--fill-color);\n",
              "    }\n",
              "    80% {\n",
              "      border-color: transparent;\n",
              "      border-right-color: var(--fill-color);\n",
              "      border-bottom-color: var(--fill-color);\n",
              "    }\n",
              "    90% {\n",
              "      border-color: transparent;\n",
              "      border-bottom-color: var(--fill-color);\n",
              "    }\n",
              "  }\n",
              "</style>\n",
              "\n",
              "  <script>\n",
              "    async function quickchart(key) {\n",
              "      const quickchartButtonEl =\n",
              "        document.querySelector('#' + key + ' button');\n",
              "      quickchartButtonEl.disabled = true;  // To prevent multiple clicks.\n",
              "      quickchartButtonEl.classList.add('colab-df-spinner');\n",
              "      try {\n",
              "        const charts = await google.colab.kernel.invokeFunction(\n",
              "            'suggestCharts', [key], {});\n",
              "      } catch (error) {\n",
              "        console.error('Error during call to suggestCharts:', error);\n",
              "      }\n",
              "      quickchartButtonEl.classList.remove('colab-df-spinner');\n",
              "      quickchartButtonEl.classList.add('colab-df-quickchart-complete');\n",
              "    }\n",
              "    (() => {\n",
              "      let quickchartButtonEl =\n",
              "        document.querySelector('#df-257b6b44-6797-438c-b973-10b95fc93c3e button');\n",
              "      quickchartButtonEl.style.display =\n",
              "        google.colab.kernel.accessAllowed ? 'block' : 'none';\n",
              "    })();\n",
              "  </script>\n",
              "</div>\n",
              "    </div>\n",
              "  </div>\n"
            ]
          },
          "metadata": {},
          "execution_count": 53
        }
      ],
      "source": [
        "tr_fe.head()\n"
      ]
    },
    {
      "cell_type": "markdown",
      "metadata": {
        "id": "8SY11eJJRL1g"
      },
      "source": [
        "**Machine learning models**\n",
        "\n",
        "First of all we will divide our dataset into two variables `X` as the features we defined earlier and `y` as the `\tItem_Outlet_Sales` the target value we want to predict.\n",
        "\n",
        "**Assumptions:**\n",
        "\n",
        "* This is a regression problem so we will use Regression methods.\n",
        "\n",
        "* Train test split will be a 8:2 ratio respectively.\n",
        "\n",
        "## Models we will use:\n",
        "\n",
        "* **Linear Regression**\n",
        "* **Random Forest Regressor**\n",
        "* **Lasso Regressor**\n",
        "\n",
        "## The Process of Modeling the Data:\n",
        "\n",
        "1. Importing the model\n",
        "\n",
        "2. Fitting the model\n",
        "\n",
        "3. Predicting Item Outlet Sales\n",
        "\n",
        "4. Regression metrics\n",
        "\n",
        "### Score Metrics for Regression:\n",
        "\n",
        "* **Mean Absolute Error (MAE)**  -  Mean of the absolute value of errors (absolute distance from true value):\n",
        "![](data:image/jpeg;base64,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)\n",
        "\n",
        "* **Mean Squared Error (MSE)**  -  Mean of the squared value of errors (squared distance from true value):\n",
        "![](data:image/png;base64,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)\n",
        "\n",
        "* **R^2 (coefficient of determination)**  -  Regression score function.:\n",
        "![](data:image/png;base64,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)"
      ]
    },
    {
      "cell_type": "code",
      "execution_count": 54,
      "metadata": {
        "id": "vDIObja6k-xO"
      },
      "outputs": [],
      "source": [
        "y = tr_fe['Item_Outlet_Sales']\n",
        "X = tr_fe.drop('Item_Outlet_Sales', axis = 1)\n",
        "X_train, X_test, y_train, y_test = train_test_split(X, y, test_size = 0.8, random_state = 0)"
      ]
    },
    {
      "cell_type": "code",
      "source": [
        "def cross_val(model_name,model,X,y,cv):\n",
        "\n",
        "    scores = CVS(model, X, y, cv=cv)\n",
        "    print(f'{model_name} Scores:')\n",
        "    for i in scores:\n",
        "        print(round(i,2))\n",
        "    print(f'Average {model_name} score: {round(scores.mean(),4)}')"
      ],
      "metadata": {
        "id": "G1goLVFH3gvQ"
      },
      "execution_count": 55,
      "outputs": []
    },
    {
      "cell_type": "markdown",
      "source": [
        "**Linear Regression Model**"
      ],
      "metadata": {
        "id": "SmHwZh2U3o9p"
      }
    },
    {
      "cell_type": "code",
      "source": [
        "#model\n",
        "LR = LinearRegression()\n",
        "\n",
        "#fit\n",
        "LR.fit(X_train, y_train)\n",
        "\n",
        "#predict\n",
        "y_predict = LR.predict(X_test)\n",
        "\n",
        "#score variables\n",
        "LR_MAE = round(MAE(y_test, y_predict),2)\n",
        "LR_MSE = round(MSE(y_test, y_predict),2)\n",
        "LR_R_2 = round(R2(y_test, y_predict),4)\n",
        "LR_CS  = round(CVS(LR, X, y, cv=5).mean(),4)\n",
        "\n",
        "print(f\" Mean Absolute Error: {LR_MAE}\\n\")\n",
        "print(f\" Mean Squared Error: {LR_MSE}\\n\")\n",
        "print(f\" R^2 Score: {LR_R_2}\\n\")\n",
        "cross_val(LR,LinearRegression(),X,y,5)"
      ],
      "metadata": {
        "colab": {
          "base_uri": "https://localhost:8080/"
        },
        "id": "3z1aBhye3oiT",
        "outputId": "e0e387cb-5e11-4572-e0eb-a87ef97dc5a8"
      },
      "execution_count": 57,
      "outputs": [
        {
          "output_type": "stream",
          "name": "stdout",
          "text": [
            " Mean Absolute Error: 838.19\n",
            "\n",
            " Mean Squared Error: 1285793.54\n",
            "\n",
            " R^2 Score: 0.5593\n",
            "\n",
            "LinearRegression() Scores:\n",
            "0.57\n",
            "0.55\n",
            "0.55\n",
            "0.56\n",
            "0.56\n",
            "Average LinearRegression() score: 0.558\n"
          ]
        }
      ]
    },
    {
      "cell_type": "markdown",
      "source": [
        "### Csv results of the test for our model:"
      ],
      "metadata": {
        "id": "-Af4EK6a4ELz"
      }
    },
    {
      "cell_type": "code",
      "source": [
        "Linear_Regression=pd.DataFrame({'y_test':y_test,'prediction':y_predict})\n",
        "Linear_Regression.to_csv(\"Linear Regression.csv\")"
      ],
      "metadata": {
        "id": "eOpve82-4F-4"
      },
      "execution_count": 58,
      "outputs": []
    },
    {
      "cell_type": "markdown",
      "metadata": {
        "id": "fgt_E9dKM5S5"
      },
      "source": [
        "**Random Forest Model**"
      ]
    },
    {
      "cell_type": "code",
      "execution_count": 59,
      "metadata": {
        "colab": {
          "base_uri": "https://localhost:8080/"
        },
        "id": "5CGApDr3Kv34",
        "outputId": "2549cec6-2854-4fe9-d6a3-b98b5aaa7aa2"
      },
      "outputs": [
        {
          "output_type": "stream",
          "name": "stdout",
          "text": [
            " Mean Absolute Error: 1030.27\n",
            "\n",
            " Mean Squared Error: 1964025.66\n",
            "\n",
            " R^2 Score: 0.3268\n",
            "\n",
            "RandomForestRegressor(max_depth=5, min_samples_leaf=100, n_estimators=200,\n",
            "                      n_jobs=4, random_state=101) Scores:\n",
            "0.57\n",
            "0.53\n",
            "0.52\n",
            "0.55\n",
            "0.57\n",
            "Average RandomForestRegressor(max_depth=5, min_samples_leaf=100, n_estimators=200,\n",
            "                      n_jobs=4, random_state=101) score: 0.5489\n"
          ]
        }
      ],
      "source": [
        "#model\n",
        "RFR= RandomForestRegressor(n_estimators=200,max_depth=5, min_samples_leaf=100,n_jobs=4,random_state=101)\n",
        "#fit\n",
        "RFR.fit(X_train, y_train)\n",
        "#predict\n",
        "y_predict = RFR.predict(X_test)\n",
        "\n",
        "#score variables\n",
        "RFR_MAE = round(MAE(y_test, y_predict),2)\n",
        "RFR_MSE = round(MSE(y_test, y_predict),2)\n",
        "RFR_R_2 = round(R2(y_test, y_predict),4)\n",
        "RFR_CS  = round(CVS(RFR, X, y, cv=5).mean(),4)\n",
        "\n",
        "\n",
        "\n",
        "print(f\" Mean Absolute Error: {RFR_MAE}\\n\")\n",
        "print(f\" Mean Squared Error: {RFR_MSE}\\n\")\n",
        "print(f\" R^2 Score: {RFR_R_2}\\n\")\n",
        "cross_val(RFR,RandomForestRegressor(),X,y,5)"
      ]
    },
    {
      "cell_type": "markdown",
      "source": [
        "**Csv results of the test for our model:**"
      ],
      "metadata": {
        "id": "Djr0JTCB4eKN"
      }
    },
    {
      "cell_type": "code",
      "source": [
        "Random_Forest_Regressor=pd.DataFrame({'y_test':y_test,'prediction':y_predict})\n",
        "Random_Forest_Regressor.to_csv(\"Random Forest Regressor.csv\")"
      ],
      "metadata": {
        "id": "L0CojOYE4gbi"
      },
      "execution_count": 60,
      "outputs": []
    },
    {
      "cell_type": "markdown",
      "source": [
        "**Lasso Regressor**"
      ],
      "metadata": {
        "id": "e6i-e-k84noR"
      }
    },
    {
      "cell_type": "code",
      "source": [
        "#model\n",
        "LS = Lasso(alpha = 0.05)\n",
        "#fit\n",
        "LS.fit(X_train,y_train)\n",
        "\n",
        "#predict\n",
        "y_predict = LS.predict(X_test)\n",
        "\n",
        "#score variables\n",
        "LS_MAE = round(MAE(y_test, y_predict),2)\n",
        "LS_MSE = round(MSE(y_test, y_predict),2)\n",
        "LS_R_2 = round(R2(y_test, y_predict),4)\n",
        "LS_CS  = round(CVS(LS, X, y, cv=5).mean(),4)\n",
        "\n",
        "print(f\" Mean Absolute Error: {LS_MAE}\\n\")\n",
        "print(f\" Mean Squared Error: {LS_MSE}\\n\")\n",
        "print(f\" R^2 Score: {LS_R_2}\\n\")\n",
        "cross_val(LS,Lasso(alpha = 0.05),X,y,5)"
      ],
      "metadata": {
        "colab": {
          "base_uri": "https://localhost:8080/"
        },
        "id": "_rdE1ITk4ppc",
        "outputId": "faa73611-3fcc-4b31-9865-61f2ee5fc51b"
      },
      "execution_count": 62,
      "outputs": [
        {
          "output_type": "stream",
          "name": "stdout",
          "text": [
            " Mean Absolute Error: 838.07\n",
            "\n",
            " Mean Squared Error: 1285554.86\n",
            "\n",
            " R^2 Score: 0.5594\n",
            "\n",
            "Lasso(alpha=0.05) Scores:\n",
            "0.57\n",
            "0.55\n",
            "0.55\n",
            "0.56\n",
            "0.56\n",
            "Average Lasso(alpha=0.05) score: 0.5581\n"
          ]
        }
      ]
    },
    {
      "cell_type": "markdown",
      "source": [
        "**Csv results of the test for our model:**"
      ],
      "metadata": {
        "id": "84W8xNpy46pU"
      }
    },
    {
      "cell_type": "code",
      "source": [
        "Lasso_Regressor=pd.DataFrame({'y_test':y_test,'prediction':y_predict})\n",
        "Lasso_Regressor.to_csv(\"Lasso Regressor.csv\")"
      ],
      "metadata": {
        "id": "U9M-L_wu5ACa"
      },
      "execution_count": 63,
      "outputs": []
    },
    {
      "cell_type": "markdown",
      "source": [
        "# Conclusion"
      ],
      "metadata": {
        "id": "Q0OXKf3p5Hxx"
      }
    },
    {
      "cell_type": "code",
      "source": [
        "MAE= [LR_MAE,RFR_MAE,LS_MAE]\n",
        "MSE= [LR_MSE,RFR_MSE,LS_MSE]\n",
        "R_2= [LR_R_2,RFR_R_2,LS_R_2]\n",
        "Cross_score= [LR_CS,RFR_CS,LS_CS]\n",
        "\n",
        "Models = pd.DataFrame({\n",
        "    'models': [\"Linear Regression\",\"Random Forest Regressor\",\"Lasso Regressor\"],\n",
        "    'MAE': MAE, 'MSE': MSE, 'R^2':R_2, 'Cross Validation Score':Cross_score})\n",
        "Models.sort_values(by='MAE', ascending=True)"
      ],
      "metadata": {
        "colab": {
          "base_uri": "https://localhost:8080/",
          "height": 143
        },
        "id": "ZgfXsNGB5MjA",
        "outputId": "a5abebba-dc90-45c1-935f-ec9d40d08011"
      },
      "execution_count": 64,
      "outputs": [
        {
          "output_type": "execute_result",
          "data": {
            "text/plain": [
              "                    models      MAE         MSE     R^2  \\\n",
              "2          Lasso Regressor   838.07  1285554.86  0.5594   \n",
              "0        Linear Regression   838.19  1285793.54  0.5593   \n",
              "1  Random Forest Regressor  1030.27  1964025.66  0.3268   \n",
              "\n",
              "   Cross Validation Score  \n",
              "2                  0.5581  \n",
              "0                  0.5580  \n",
              "1                  0.5920  "
            ],
            "text/html": [
              "\n",
              "  <div id=\"df-2797a1b3-2fa6-4c3c-b386-362760270b30\" class=\"colab-df-container\">\n",
              "    <div>\n",
              "<style scoped>\n",
              "    .dataframe tbody tr th:only-of-type {\n",
              "        vertical-align: middle;\n",
              "    }\n",
              "\n",
              "    .dataframe tbody tr th {\n",
              "        vertical-align: top;\n",
              "    }\n",
              "\n",
              "    .dataframe thead th {\n",
              "        text-align: right;\n",
              "    }\n",
              "</style>\n",
              "<table border=\"1\" class=\"dataframe\">\n",
              "  <thead>\n",
              "    <tr style=\"text-align: right;\">\n",
              "      <th></th>\n",
              "      <th>models</th>\n",
              "      <th>MAE</th>\n",
              "      <th>MSE</th>\n",
              "      <th>R^2</th>\n",
              "      <th>Cross Validation Score</th>\n",
              "    </tr>\n",
              "  </thead>\n",
              "  <tbody>\n",
              "    <tr>\n",
              "      <th>2</th>\n",
              "      <td>Lasso Regressor</td>\n",
              "      <td>838.07</td>\n",
              "      <td>1285554.86</td>\n",
              "      <td>0.5594</td>\n",
              "      <td>0.5581</td>\n",
              "    </tr>\n",
              "    <tr>\n",
              "      <th>0</th>\n",
              "      <td>Linear Regression</td>\n",
              "      <td>838.19</td>\n",
              "      <td>1285793.54</td>\n",
              "      <td>0.5593</td>\n",
              "      <td>0.5580</td>\n",
              "    </tr>\n",
              "    <tr>\n",
              "      <th>1</th>\n",
              "      <td>Random Forest Regressor</td>\n",
              "      <td>1030.27</td>\n",
              "      <td>1964025.66</td>\n",
              "      <td>0.3268</td>\n",
              "      <td>0.5920</td>\n",
              "    </tr>\n",
              "  </tbody>\n",
              "</table>\n",
              "</div>\n",
              "    <div class=\"colab-df-buttons\">\n",
              "\n",
              "  <div class=\"colab-df-container\">\n",
              "    <button class=\"colab-df-convert\" onclick=\"convertToInteractive('df-2797a1b3-2fa6-4c3c-b386-362760270b30')\"\n",
              "            title=\"Convert this dataframe to an interactive table.\"\n",
              "            style=\"display:none;\">\n",
              "\n",
              "  <svg xmlns=\"http://www.w3.org/2000/svg\" height=\"24px\" viewBox=\"0 -960 960 960\">\n",
              "    <path d=\"M120-120v-720h720v720H120Zm60-500h600v-160H180v160Zm220 220h160v-160H400v160Zm0 220h160v-160H400v160ZM180-400h160v-160H180v160Zm440 0h160v-160H620v160ZM180-180h160v-160H180v160Zm440 0h160v-160H620v160Z\"/>\n",
              "  </svg>\n",
              "    </button>\n",
              "\n",
              "  <style>\n",
              "    .colab-df-container {\n",
              "      display:flex;\n",
              "      gap: 12px;\n",
              "    }\n",
              "\n",
              "    .colab-df-convert {\n",
              "      background-color: #E8F0FE;\n",
              "      border: none;\n",
              "      border-radius: 50%;\n",
              "      cursor: pointer;\n",
              "      display: none;\n",
              "      fill: #1967D2;\n",
              "      height: 32px;\n",
              "      padding: 0 0 0 0;\n",
              "      width: 32px;\n",
              "    }\n",
              "\n",
              "    .colab-df-convert:hover {\n",
              "      background-color: #E2EBFA;\n",
              "      box-shadow: 0px 1px 2px rgba(60, 64, 67, 0.3), 0px 1px 3px 1px rgba(60, 64, 67, 0.15);\n",
              "      fill: #174EA6;\n",
              "    }\n",
              "\n",
              "    .colab-df-buttons div {\n",
              "      margin-bottom: 4px;\n",
              "    }\n",
              "\n",
              "    [theme=dark] .colab-df-convert {\n",
              "      background-color: #3B4455;\n",
              "      fill: #D2E3FC;\n",
              "    }\n",
              "\n",
              "    [theme=dark] .colab-df-convert:hover {\n",
              "      background-color: #434B5C;\n",
              "      box-shadow: 0px 1px 3px 1px rgba(0, 0, 0, 0.15);\n",
              "      filter: drop-shadow(0px 1px 2px rgba(0, 0, 0, 0.3));\n",
              "      fill: #FFFFFF;\n",
              "    }\n",
              "  </style>\n",
              "\n",
              "    <script>\n",
              "      const buttonEl =\n",
              "        document.querySelector('#df-2797a1b3-2fa6-4c3c-b386-362760270b30 button.colab-df-convert');\n",
              "      buttonEl.style.display =\n",
              "        google.colab.kernel.accessAllowed ? 'block' : 'none';\n",
              "\n",
              "      async function convertToInteractive(key) {\n",
              "        const element = document.querySelector('#df-2797a1b3-2fa6-4c3c-b386-362760270b30');\n",
              "        const dataTable =\n",
              "          await google.colab.kernel.invokeFunction('convertToInteractive',\n",
              "                                                    [key], {});\n",
              "        if (!dataTable) return;\n",
              "\n",
              "        const docLinkHtml = 'Like what you see? Visit the ' +\n",
              "          '<a target=\"_blank\" href=https://colab.research.google.com/notebooks/data_table.ipynb>data table notebook</a>'\n",
              "          + ' to learn more about interactive tables.';\n",
              "        element.innerHTML = '';\n",
              "        dataTable['output_type'] = 'display_data';\n",
              "        await google.colab.output.renderOutput(dataTable, element);\n",
              "        const docLink = document.createElement('div');\n",
              "        docLink.innerHTML = docLinkHtml;\n",
              "        element.appendChild(docLink);\n",
              "      }\n",
              "    </script>\n",
              "  </div>\n",
              "\n",
              "\n",
              "<div id=\"df-b84a7993-e969-4708-a87e-c0deb7f19a1c\">\n",
              "  <button class=\"colab-df-quickchart\" onclick=\"quickchart('df-b84a7993-e969-4708-a87e-c0deb7f19a1c')\"\n",
              "            title=\"Suggest charts.\"\n",
              "            style=\"display:none;\">\n",
              "\n",
              "<svg xmlns=\"http://www.w3.org/2000/svg\" height=\"24px\"viewBox=\"0 0 24 24\"\n",
              "     width=\"24px\">\n",
              "    <g>\n",
              "        <path d=\"M19 3H5c-1.1 0-2 .9-2 2v14c0 1.1.9 2 2 2h14c1.1 0 2-.9 2-2V5c0-1.1-.9-2-2-2zM9 17H7v-7h2v7zm4 0h-2V7h2v10zm4 0h-2v-4h2v4z\"/>\n",
              "    </g>\n",
              "</svg>\n",
              "  </button>\n",
              "\n",
              "<style>\n",
              "  .colab-df-quickchart {\n",
              "      --bg-color: #E8F0FE;\n",
              "      --fill-color: #1967D2;\n",
              "      --hover-bg-color: #E2EBFA;\n",
              "      --hover-fill-color: #174EA6;\n",
              "      --disabled-fill-color: #AAA;\n",
              "      --disabled-bg-color: #DDD;\n",
              "  }\n",
              "\n",
              "  [theme=dark] .colab-df-quickchart {\n",
              "      --bg-color: #3B4455;\n",
              "      --fill-color: #D2E3FC;\n",
              "      --hover-bg-color: #434B5C;\n",
              "      --hover-fill-color: #FFFFFF;\n",
              "      --disabled-bg-color: #3B4455;\n",
              "      --disabled-fill-color: #666;\n",
              "  }\n",
              "\n",
              "  .colab-df-quickchart {\n",
              "    background-color: var(--bg-color);\n",
              "    border: none;\n",
              "    border-radius: 50%;\n",
              "    cursor: pointer;\n",
              "    display: none;\n",
              "    fill: var(--fill-color);\n",
              "    height: 32px;\n",
              "    padding: 0;\n",
              "    width: 32px;\n",
              "  }\n",
              "\n",
              "  .colab-df-quickchart:hover {\n",
              "    background-color: var(--hover-bg-color);\n",
              "    box-shadow: 0 1px 2px rgba(60, 64, 67, 0.3), 0 1px 3px 1px rgba(60, 64, 67, 0.15);\n",
              "    fill: var(--button-hover-fill-color);\n",
              "  }\n",
              "\n",
              "  .colab-df-quickchart-complete:disabled,\n",
              "  .colab-df-quickchart-complete:disabled:hover {\n",
              "    background-color: var(--disabled-bg-color);\n",
              "    fill: var(--disabled-fill-color);\n",
              "    box-shadow: none;\n",
              "  }\n",
              "\n",
              "  .colab-df-spinner {\n",
              "    border: 2px solid var(--fill-color);\n",
              "    border-color: transparent;\n",
              "    border-bottom-color: var(--fill-color);\n",
              "    animation:\n",
              "      spin 1s steps(1) infinite;\n",
              "  }\n",
              "\n",
              "  @keyframes spin {\n",
              "    0% {\n",
              "      border-color: transparent;\n",
              "      border-bottom-color: var(--fill-color);\n",
              "      border-left-color: var(--fill-color);\n",
              "    }\n",
              "    20% {\n",
              "      border-color: transparent;\n",
              "      border-left-color: var(--fill-color);\n",
              "      border-top-color: var(--fill-color);\n",
              "    }\n",
              "    30% {\n",
              "      border-color: transparent;\n",
              "      border-left-color: var(--fill-color);\n",
              "      border-top-color: var(--fill-color);\n",
              "      border-right-color: var(--fill-color);\n",
              "    }\n",
              "    40% {\n",
              "      border-color: transparent;\n",
              "      border-right-color: var(--fill-color);\n",
              "      border-top-color: var(--fill-color);\n",
              "    }\n",
              "    60% {\n",
              "      border-color: transparent;\n",
              "      border-right-color: var(--fill-color);\n",
              "    }\n",
              "    80% {\n",
              "      border-color: transparent;\n",
              "      border-right-color: var(--fill-color);\n",
              "      border-bottom-color: var(--fill-color);\n",
              "    }\n",
              "    90% {\n",
              "      border-color: transparent;\n",
              "      border-bottom-color: var(--fill-color);\n",
              "    }\n",
              "  }\n",
              "</style>\n",
              "\n",
              "  <script>\n",
              "    async function quickchart(key) {\n",
              "      const quickchartButtonEl =\n",
              "        document.querySelector('#' + key + ' button');\n",
              "      quickchartButtonEl.disabled = true;  // To prevent multiple clicks.\n",
              "      quickchartButtonEl.classList.add('colab-df-spinner');\n",
              "      try {\n",
              "        const charts = await google.colab.kernel.invokeFunction(\n",
              "            'suggestCharts', [key], {});\n",
              "      } catch (error) {\n",
              "        console.error('Error during call to suggestCharts:', error);\n",
              "      }\n",
              "      quickchartButtonEl.classList.remove('colab-df-spinner');\n",
              "      quickchartButtonEl.classList.add('colab-df-quickchart-complete');\n",
              "    }\n",
              "    (() => {\n",
              "      let quickchartButtonEl =\n",
              "        document.querySelector('#df-b84a7993-e969-4708-a87e-c0deb7f19a1c button');\n",
              "      quickchartButtonEl.style.display =\n",
              "        google.colab.kernel.accessAllowed ? 'block' : 'none';\n",
              "    })();\n",
              "  </script>\n",
              "</div>\n",
              "    </div>\n",
              "  </div>\n"
            ]
          },
          "metadata": {},
          "execution_count": 64
        }
      ]
    },
    {
      "cell_type": "markdown",
      "source": [
        "## Realizations\n",
        "\n",
        "* `Item_MRP`  optimizes Maximum Outlet sales (positive correlation with the target).\n",
        "* Linear Regression\tand Lasso Regressor have the best perfomance in most categories.\n",
        "* only a third of the observed variation can be explained by the model's inputs of Random Forest Regressor, there for it's performance is not optimal even though his cross validation is the highest.\n",
        "* For better peformance this models need tuning e.g. Grid Search."
      ],
      "metadata": {
        "id": "R8QxVAoF5XzZ"
      }
    }
  ],
  "metadata": {
    "colab": {
      "provenance": []
    },
    "kernelspec": {
      "display_name": "Python 3",
      "name": "python3"
    },
    "language_info": {
      "name": "python"
    }
  },
  "nbformat": 4,
  "nbformat_minor": 0
}