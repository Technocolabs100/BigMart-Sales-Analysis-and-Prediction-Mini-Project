{
 "cells": [
  {
   "cell_type": "markdown",
   "id": "fc56c9d8",
   "metadata": {},
   "source": [
    "## Hypothesis"
   ]
  },
  {
   "cell_type": "markdown",
   "id": "d213b1ad",
   "metadata": {},
   "source": [
    "Store Location Hypotheses:\n",
    "\n",
    "Hypothesis 1 (H0): The geographical location of a store has no significant impact on its sales.\n",
    "\n",
    "Alternative Hypothesis (H1): The geographical location of a store significantly influences its sales. Stores in certain cities or regions may have higher sales than others.\n",
    "\n",
    "Hypothesis 2 (H0): Store size does not affect sales.\n",
    "\n",
    "Alternative Hypothesis (H1): The size of a store significantly impacts sales. Larger stores may generate higher sales due to greater product variety and customer foot traffic.\n",
    "\n",
    "2. Product Attributes Hypotheses:\n",
    "\n",
    "Hypothesis 3 (H0): The attributes (e.g., weight, visibility, etc.) of a product have no significant effect on its sales.\n",
    "\n",
    "Alternative Hypothesis (H1): Certain product attributes significantly influence sales. For instance, products with higher visibility on store shelves may sell more.\n",
    "\n",
    "Hypothesis 4 (H0): The type of product (e.g., perishable, non-perishable) does not affect sales.\n",
    "\n",
    "Alternative Hypothesis (H1): Product type significantly impacts sales. Perishable products might have different sales patterns compared to non-perishables.\n",
    "\n",
    "3. Time-Based Hypotheses:\n",
    "\n",
    "Hypothesis 5 (H0): Seasonal variations do not have a significant effect on sales.\n",
    "\n",
    "Alternative Hypothesis (H1): Seasonal factors significantly impact sales. For example, sales may increase during holidays or special promotions.\n",
    "\n",
    "Hypothesis 6 (H0): Store performance remains consistent over the years.\n",
    "\n",
    "Alternative Hypothesis (H1): Store performance changes over time, and sales trends may vary from year to year.\n",
    "\n",
    "4. Interaction Hypotheses:\n",
    "\n",
    "Hypothesis 7 (H0): There is no interaction effect between store location and product attributes on sales.\n",
    "\n",
    "Alternative Hypothesis (H1): The combination of store location and specific product attributes can have a significant impact on sales.\n",
    "\n",
    "5. Pricing Hypotheses:\n",
    "\n",
    "Hypothesis 8 (H0): Price changes do not affect product sales significantly.\n",
    "\n",
    "Alternative Hypothesis (H1): Changes in product pricing can lead to variations in sales. For example, lower prices may boost sales, while higher prices may lead to reduced sales.\n",
    "\n",
    "6. Promotions and Advertising Hypotheses:\n",
    "\n",
    "Hypothesis 9 (H0): Promotional activities and advertising do not have a significant impact on sales.\n",
    "\n",
    "Alternative Hypothesis (H1): Effective promotions and advertising strategies can lead to increased product sales.\n",
    "\n",
    "    This is the probable hypothesis according to me"
   ]
  },
  {
   "cell_type": "code",
   "execution_count": 1,
   "id": "e09d5e52",
   "metadata": {},
   "outputs": [],
   "source": [
    "import os #paths to file\n",
    "import numpy as np # linear algebra\n",
    "import pandas as pd # data processing\n",
    "import warnings# warning filter\n",
    "\n",
    "\n",
    "#ploting libraries\n",
    "import matplotlib.pyplot as plt\n",
    "import seaborn as sns\n",
    "\n",
    "#feature engineering\n",
    "from sklearn.preprocessing import OneHotEncoder\n",
    "from sklearn.preprocessing import LabelEncoder\n",
    "\n",
    "#train test split\n",
    "from sklearn.model_selection import train_test_split\n",
    "\n",
    "#metrics\n",
    "from sklearn.metrics import mean_absolute_error as MAE\n",
    "from sklearn.metrics import mean_squared_error as MSE\n",
    "from sklearn.metrics import r2_score as R2\n",
    "from sklearn.model_selection  import cross_val_score as CVS\n",
    "\n",
    "\n",
    "#ML models\n",
    "from sklearn.linear_model import LinearRegression\n",
    "from sklearn.ensemble import RandomForestRegressor\n",
    "from sklearn.linear_model import Lasso\n",
    "\n",
    "\n",
    "#default theme and settings\n",
    "sns.set(context='notebook', style='darkgrid', palette='deep', font='sans-serif', font_scale=1, color_codes=False, rc=None)\n",
    "pd.options.display.max_columns\n",
    "\n",
    "#warning hadle\n",
    "warnings.filterwarnings(\"always\")\n",
    "warnings.filterwarnings(\"ignore\")"
   ]
  },
  {
   "cell_type": "code",
   "execution_count": 2,
   "id": "8a8eae1f",
   "metadata": {},
   "outputs": [
    {
     "name": "stdout",
     "output_type": "stream",
     "text": [
      "C:\\Users\\Narendra\\Documents\\DSS Excellfiles\n"
     ]
    }
   ],
   "source": [
    "import io\n",
    "%cd \"C:\\Users\\Narendra\\Documents\\DSS Excellfiles\""
   ]
  },
  {
   "cell_type": "code",
   "execution_count": 3,
   "id": "70ce8d7e",
   "metadata": {},
   "outputs": [],
   "source": [
    "naru=pd.read_csv(\"Test.csv\")"
   ]
  },
  {
   "cell_type": "code",
   "execution_count": 4,
   "id": "f26d296a",
   "metadata": {},
   "outputs": [],
   "source": [
    "ns=pd.read_csv(\"Train.csv\")"
   ]
  },
  {
   "cell_type": "code",
   "execution_count": 5,
   "id": "06d0e8b2",
   "metadata": {},
   "outputs": [
    {
     "name": "stdout",
     "output_type": "stream",
     "text": [
      "(5681, 11)\n",
      "(8523, 12)\n"
     ]
    }
   ],
   "source": [
    "print(naru.shape)\n",
    "print(ns.shape)"
   ]
  },
  {
   "cell_type": "code",
   "execution_count": 6,
   "id": "3cea2adc",
   "metadata": {},
   "outputs": [
    {
     "data": {
      "text/plain": [
       "Index(['Item_Identifier', 'Item_Weight', 'Item_Fat_Content', 'Item_Visibility',\n",
       "       'Item_Type', 'Item_MRP', 'Outlet_Identifier',\n",
       "       'Outlet_Establishment_Year', 'Outlet_Size', 'Outlet_Location_Type',\n",
       "       'Outlet_Type'],\n",
       "      dtype='object')"
      ]
     },
     "execution_count": 6,
     "metadata": {},
     "output_type": "execute_result"
    }
   ],
   "source": [
    "naru.columns"
   ]
  },
  {
   "cell_type": "code",
   "execution_count": 7,
   "id": "b53aea2a",
   "metadata": {},
   "outputs": [
    {
     "data": {
      "text/plain": [
       "Index(['Item_Identifier', 'Item_Weight', 'Item_Fat_Content', 'Item_Visibility',\n",
       "       'Item_Type', 'Item_MRP', 'Outlet_Identifier',\n",
       "       'Outlet_Establishment_Year', 'Outlet_Size', 'Outlet_Location_Type',\n",
       "       'Outlet_Type', 'Item_Outlet_Sales'],\n",
       "      dtype='object')"
      ]
     },
     "execution_count": 7,
     "metadata": {},
     "output_type": "execute_result"
    }
   ],
   "source": [
    "ns.columns"
   ]
  },
  {
   "cell_type": "code",
   "execution_count": 8,
   "id": "746ecc03",
   "metadata": {},
   "outputs": [
    {
     "name": "stdout",
     "output_type": "stream",
     "text": [
      "(5681, 11)\n",
      "(8523, 12)\n"
     ]
    }
   ],
   "source": [
    "print(naru.shape)\n",
    "print(ns.shape)"
   ]
  },
  {
   "cell_type": "code",
   "execution_count": 9,
   "id": "b2177533",
   "metadata": {},
   "outputs": [
    {
     "data": {
      "text/html": [
       "<div>\n",
       "<style scoped>\n",
       "    .dataframe tbody tr th:only-of-type {\n",
       "        vertical-align: middle;\n",
       "    }\n",
       "\n",
       "    .dataframe tbody tr th {\n",
       "        vertical-align: top;\n",
       "    }\n",
       "\n",
       "    .dataframe thead th {\n",
       "        text-align: right;\n",
       "    }\n",
       "</style>\n",
       "<table border=\"1\" class=\"dataframe\">\n",
       "  <thead>\n",
       "    <tr style=\"text-align: right;\">\n",
       "      <th></th>\n",
       "      <th>Item_Identifier</th>\n",
       "      <th>Item_Weight</th>\n",
       "      <th>Item_Fat_Content</th>\n",
       "      <th>Item_Visibility</th>\n",
       "      <th>Item_Type</th>\n",
       "      <th>Item_MRP</th>\n",
       "      <th>Outlet_Identifier</th>\n",
       "      <th>Outlet_Establishment_Year</th>\n",
       "      <th>Outlet_Size</th>\n",
       "      <th>Outlet_Location_Type</th>\n",
       "      <th>Outlet_Type</th>\n",
       "    </tr>\n",
       "  </thead>\n",
       "  <tbody>\n",
       "    <tr>\n",
       "      <th>0</th>\n",
       "      <td>FDW58</td>\n",
       "      <td>20.750</td>\n",
       "      <td>Low Fat</td>\n",
       "      <td>0.007565</td>\n",
       "      <td>Snack Foods</td>\n",
       "      <td>107.8622</td>\n",
       "      <td>OUT049</td>\n",
       "      <td>1999</td>\n",
       "      <td>Medium</td>\n",
       "      <td>Tier 1</td>\n",
       "      <td>Supermarket Type1</td>\n",
       "    </tr>\n",
       "    <tr>\n",
       "      <th>1</th>\n",
       "      <td>FDW14</td>\n",
       "      <td>8.300</td>\n",
       "      <td>Regular</td>\n",
       "      <td>0.038428</td>\n",
       "      <td>Dairy</td>\n",
       "      <td>87.3198</td>\n",
       "      <td>OUT017</td>\n",
       "      <td>2007</td>\n",
       "      <td>NaN</td>\n",
       "      <td>Tier 2</td>\n",
       "      <td>Supermarket Type1</td>\n",
       "    </tr>\n",
       "    <tr>\n",
       "      <th>2</th>\n",
       "      <td>NCN55</td>\n",
       "      <td>14.600</td>\n",
       "      <td>Low Fat</td>\n",
       "      <td>0.099575</td>\n",
       "      <td>Others</td>\n",
       "      <td>241.7538</td>\n",
       "      <td>OUT010</td>\n",
       "      <td>1998</td>\n",
       "      <td>NaN</td>\n",
       "      <td>Tier 3</td>\n",
       "      <td>Grocery Store</td>\n",
       "    </tr>\n",
       "    <tr>\n",
       "      <th>3</th>\n",
       "      <td>FDQ58</td>\n",
       "      <td>7.315</td>\n",
       "      <td>Low Fat</td>\n",
       "      <td>0.015388</td>\n",
       "      <td>Snack Foods</td>\n",
       "      <td>155.0340</td>\n",
       "      <td>OUT017</td>\n",
       "      <td>2007</td>\n",
       "      <td>NaN</td>\n",
       "      <td>Tier 2</td>\n",
       "      <td>Supermarket Type1</td>\n",
       "    </tr>\n",
       "    <tr>\n",
       "      <th>4</th>\n",
       "      <td>FDY38</td>\n",
       "      <td>NaN</td>\n",
       "      <td>Regular</td>\n",
       "      <td>0.118599</td>\n",
       "      <td>Dairy</td>\n",
       "      <td>234.2300</td>\n",
       "      <td>OUT027</td>\n",
       "      <td>1985</td>\n",
       "      <td>Medium</td>\n",
       "      <td>Tier 3</td>\n",
       "      <td>Supermarket Type3</td>\n",
       "    </tr>\n",
       "  </tbody>\n",
       "</table>\n",
       "</div>"
      ],
      "text/plain": [
       "  Item_Identifier  Item_Weight Item_Fat_Content  Item_Visibility    Item_Type  \\\n",
       "0           FDW58       20.750          Low Fat         0.007565  Snack Foods   \n",
       "1           FDW14        8.300          Regular         0.038428        Dairy   \n",
       "2           NCN55       14.600          Low Fat         0.099575       Others   \n",
       "3           FDQ58        7.315          Low Fat         0.015388  Snack Foods   \n",
       "4           FDY38          NaN          Regular         0.118599        Dairy   \n",
       "\n",
       "   Item_MRP Outlet_Identifier  Outlet_Establishment_Year Outlet_Size  \\\n",
       "0  107.8622            OUT049                       1999      Medium   \n",
       "1   87.3198            OUT017                       2007         NaN   \n",
       "2  241.7538            OUT010                       1998         NaN   \n",
       "3  155.0340            OUT017                       2007         NaN   \n",
       "4  234.2300            OUT027                       1985      Medium   \n",
       "\n",
       "  Outlet_Location_Type        Outlet_Type  \n",
       "0               Tier 1  Supermarket Type1  \n",
       "1               Tier 2  Supermarket Type1  \n",
       "2               Tier 3      Grocery Store  \n",
       "3               Tier 2  Supermarket Type1  \n",
       "4               Tier 3  Supermarket Type3  "
      ]
     },
     "execution_count": 9,
     "metadata": {},
     "output_type": "execute_result"
    }
   ],
   "source": [
    "naru.head()"
   ]
  },
  {
   "cell_type": "code",
   "execution_count": 10,
   "id": "9f4cc77a",
   "metadata": {},
   "outputs": [],
   "source": [
    "new = naru.T #Data transpose"
   ]
  },
  {
   "cell_type": "code",
   "execution_count": 11,
   "id": "7a20c79f",
   "metadata": {},
   "outputs": [
    {
     "data": {
      "text/html": [
       "<div>\n",
       "<style scoped>\n",
       "    .dataframe tbody tr th:only-of-type {\n",
       "        vertical-align: middle;\n",
       "    }\n",
       "\n",
       "    .dataframe tbody tr th {\n",
       "        vertical-align: top;\n",
       "    }\n",
       "\n",
       "    .dataframe thead th {\n",
       "        text-align: right;\n",
       "    }\n",
       "</style>\n",
       "<table border=\"1\" class=\"dataframe\">\n",
       "  <thead>\n",
       "    <tr style=\"text-align: right;\">\n",
       "      <th></th>\n",
       "      <th>0</th>\n",
       "      <th>1</th>\n",
       "      <th>2</th>\n",
       "      <th>3</th>\n",
       "      <th>4</th>\n",
       "      <th>5</th>\n",
       "      <th>6</th>\n",
       "      <th>7</th>\n",
       "      <th>8</th>\n",
       "      <th>9</th>\n",
       "      <th>...</th>\n",
       "      <th>5671</th>\n",
       "      <th>5672</th>\n",
       "      <th>5673</th>\n",
       "      <th>5674</th>\n",
       "      <th>5675</th>\n",
       "      <th>5676</th>\n",
       "      <th>5677</th>\n",
       "      <th>5678</th>\n",
       "      <th>5679</th>\n",
       "      <th>5680</th>\n",
       "    </tr>\n",
       "  </thead>\n",
       "  <tbody>\n",
       "    <tr>\n",
       "      <th>Item_Identifier</th>\n",
       "      <td>FDW58</td>\n",
       "      <td>FDW14</td>\n",
       "      <td>NCN55</td>\n",
       "      <td>FDQ58</td>\n",
       "      <td>FDY38</td>\n",
       "      <td>FDH56</td>\n",
       "      <td>FDL48</td>\n",
       "      <td>FDC48</td>\n",
       "      <td>FDN33</td>\n",
       "      <td>FDA36</td>\n",
       "      <td>...</td>\n",
       "      <td>FDA01</td>\n",
       "      <td>NCH42</td>\n",
       "      <td>FDF46</td>\n",
       "      <td>DRL35</td>\n",
       "      <td>FDW46</td>\n",
       "      <td>FDB58</td>\n",
       "      <td>FDD47</td>\n",
       "      <td>NCO17</td>\n",
       "      <td>FDJ26</td>\n",
       "      <td>FDU37</td>\n",
       "    </tr>\n",
       "    <tr>\n",
       "      <th>Item_Weight</th>\n",
       "      <td>20.75</td>\n",
       "      <td>8.3</td>\n",
       "      <td>14.6</td>\n",
       "      <td>7.315</td>\n",
       "      <td>NaN</td>\n",
       "      <td>9.8</td>\n",
       "      <td>19.35</td>\n",
       "      <td>NaN</td>\n",
       "      <td>6.305</td>\n",
       "      <td>5.985</td>\n",
       "      <td>...</td>\n",
       "      <td>15.0</td>\n",
       "      <td>6.86</td>\n",
       "      <td>7.07</td>\n",
       "      <td>15.7</td>\n",
       "      <td>13.0</td>\n",
       "      <td>10.5</td>\n",
       "      <td>7.6</td>\n",
       "      <td>10.0</td>\n",
       "      <td>15.3</td>\n",
       "      <td>9.5</td>\n",
       "    </tr>\n",
       "    <tr>\n",
       "      <th>Item_Fat_Content</th>\n",
       "      <td>Low Fat</td>\n",
       "      <td>Regular</td>\n",
       "      <td>Low Fat</td>\n",
       "      <td>Low Fat</td>\n",
       "      <td>Regular</td>\n",
       "      <td>Regular</td>\n",
       "      <td>Regular</td>\n",
       "      <td>Low Fat</td>\n",
       "      <td>Regular</td>\n",
       "      <td>Low Fat</td>\n",
       "      <td>...</td>\n",
       "      <td>Regular</td>\n",
       "      <td>Low Fat</td>\n",
       "      <td>Low Fat</td>\n",
       "      <td>Low Fat</td>\n",
       "      <td>Regular</td>\n",
       "      <td>Regular</td>\n",
       "      <td>Regular</td>\n",
       "      <td>Low Fat</td>\n",
       "      <td>Regular</td>\n",
       "      <td>Regular</td>\n",
       "    </tr>\n",
       "    <tr>\n",
       "      <th>Item_Visibility</th>\n",
       "      <td>0.007565</td>\n",
       "      <td>0.038428</td>\n",
       "      <td>0.099575</td>\n",
       "      <td>0.015388</td>\n",
       "      <td>0.118599</td>\n",
       "      <td>0.063817</td>\n",
       "      <td>0.082602</td>\n",
       "      <td>0.015782</td>\n",
       "      <td>0.123365</td>\n",
       "      <td>0.005698</td>\n",
       "      <td>...</td>\n",
       "      <td>0.054463</td>\n",
       "      <td>0.036594</td>\n",
       "      <td>0.094053</td>\n",
       "      <td>0.030704</td>\n",
       "      <td>0.070411</td>\n",
       "      <td>0.013496</td>\n",
       "      <td>0.142991</td>\n",
       "      <td>0.073529</td>\n",
       "      <td>0.0</td>\n",
       "      <td>0.10472</td>\n",
       "    </tr>\n",
       "    <tr>\n",
       "      <th>Item_Type</th>\n",
       "      <td>Snack Foods</td>\n",
       "      <td>Dairy</td>\n",
       "      <td>Others</td>\n",
       "      <td>Snack Foods</td>\n",
       "      <td>Dairy</td>\n",
       "      <td>Fruits and Vegetables</td>\n",
       "      <td>Baking Goods</td>\n",
       "      <td>Baking Goods</td>\n",
       "      <td>Snack Foods</td>\n",
       "      <td>Baking Goods</td>\n",
       "      <td>...</td>\n",
       "      <td>Canned</td>\n",
       "      <td>Household</td>\n",
       "      <td>Snack Foods</td>\n",
       "      <td>Hard Drinks</td>\n",
       "      <td>Snack Foods</td>\n",
       "      <td>Snack Foods</td>\n",
       "      <td>Starchy Foods</td>\n",
       "      <td>Health and Hygiene</td>\n",
       "      <td>Canned</td>\n",
       "      <td>Canned</td>\n",
       "    </tr>\n",
       "  </tbody>\n",
       "</table>\n",
       "<p>5 rows × 5681 columns</p>\n",
       "</div>"
      ],
      "text/plain": [
       "                         0         1         2            3         4     \\\n",
       "Item_Identifier         FDW58     FDW14     NCN55        FDQ58     FDY38   \n",
       "Item_Weight             20.75       8.3      14.6        7.315       NaN   \n",
       "Item_Fat_Content      Low Fat   Regular   Low Fat      Low Fat   Regular   \n",
       "Item_Visibility      0.007565  0.038428  0.099575     0.015388  0.118599   \n",
       "Item_Type         Snack Foods     Dairy    Others  Snack Foods     Dairy   \n",
       "\n",
       "                                   5             6             7     \\\n",
       "Item_Identifier                   FDH56         FDL48         FDC48   \n",
       "Item_Weight                         9.8         19.35           NaN   \n",
       "Item_Fat_Content                Regular       Regular       Low Fat   \n",
       "Item_Visibility                0.063817      0.082602      0.015782   \n",
       "Item_Type         Fruits and Vegetables  Baking Goods  Baking Goods   \n",
       "\n",
       "                         8             9     ...      5671       5672  \\\n",
       "Item_Identifier         FDN33         FDA36  ...     FDA01      NCH42   \n",
       "Item_Weight             6.305         5.985  ...      15.0       6.86   \n",
       "Item_Fat_Content      Regular       Low Fat  ...   Regular    Low Fat   \n",
       "Item_Visibility      0.123365      0.005698  ...  0.054463   0.036594   \n",
       "Item_Type         Snack Foods  Baking Goods  ...    Canned  Household   \n",
       "\n",
       "                         5673         5674         5675         5676  \\\n",
       "Item_Identifier         FDF46        DRL35        FDW46        FDB58   \n",
       "Item_Weight              7.07         15.7         13.0         10.5   \n",
       "Item_Fat_Content      Low Fat      Low Fat      Regular      Regular   \n",
       "Item_Visibility      0.094053     0.030704     0.070411     0.013496   \n",
       "Item_Type         Snack Foods  Hard Drinks  Snack Foods  Snack Foods   \n",
       "\n",
       "                           5677                5678     5679     5680  \n",
       "Item_Identifier           FDD47               NCO17    FDJ26    FDU37  \n",
       "Item_Weight                 7.6                10.0     15.3      9.5  \n",
       "Item_Fat_Content        Regular             Low Fat  Regular  Regular  \n",
       "Item_Visibility        0.142991            0.073529      0.0  0.10472  \n",
       "Item_Type         Starchy Foods  Health and Hygiene   Canned   Canned  \n",
       "\n",
       "[5 rows x 5681 columns]"
      ]
     },
     "execution_count": 11,
     "metadata": {},
     "output_type": "execute_result"
    }
   ],
   "source": [
    "new.head()"
   ]
  },
  {
   "cell_type": "code",
   "execution_count": 12,
   "id": "a0eec402",
   "metadata": {},
   "outputs": [
    {
     "name": "stdout",
     "output_type": "stream",
     "text": [
      "     Item_Identifier  Item_Weight Item_Fat_Content  Item_Visibility  \\\n",
      "0              FDW58       20.750          Low Fat         0.007565   \n",
      "1              FDW14        8.300          Regular         0.038428   \n",
      "2              NCN55       14.600          Low Fat         0.099575   \n",
      "3              FDQ58        7.315          Low Fat         0.015388   \n",
      "4              FDY38          NaN          Regular         0.118599   \n",
      "...              ...          ...              ...              ...   \n",
      "5676           FDB58       10.500          Regular         0.013496   \n",
      "5677           FDD47        7.600          Regular         0.142991   \n",
      "5678           NCO17       10.000          Low Fat         0.073529   \n",
      "5679           FDJ26       15.300          Regular         0.000000   \n",
      "5680           FDU37        9.500          Regular         0.104720   \n",
      "\n",
      "               Item_Type  Item_MRP Outlet_Identifier  \\\n",
      "0            Snack Foods  107.8622            OUT049   \n",
      "1                  Dairy   87.3198            OUT017   \n",
      "2                 Others  241.7538            OUT010   \n",
      "3            Snack Foods  155.0340            OUT017   \n",
      "4                  Dairy  234.2300            OUT027   \n",
      "...                  ...       ...               ...   \n",
      "5676         Snack Foods  141.3154            OUT046   \n",
      "5677       Starchy Foods  169.1448            OUT018   \n",
      "5678  Health and Hygiene  118.7440            OUT045   \n",
      "5679              Canned  214.6218            OUT017   \n",
      "5680              Canned   79.7960            OUT045   \n",
      "\n",
      "      Outlet_Establishment_Year Outlet_Size Outlet_Location_Type  \\\n",
      "0                          1999      Medium               Tier 1   \n",
      "1                          2007         NaN               Tier 2   \n",
      "2                          1998         NaN               Tier 3   \n",
      "3                          2007         NaN               Tier 2   \n",
      "4                          1985      Medium               Tier 3   \n",
      "...                         ...         ...                  ...   \n",
      "5676                       1997       Small               Tier 1   \n",
      "5677                       2009      Medium               Tier 3   \n",
      "5678                       2002         NaN               Tier 2   \n",
      "5679                       2007         NaN               Tier 2   \n",
      "5680                       2002         NaN               Tier 2   \n",
      "\n",
      "            Outlet_Type  \n",
      "0     Supermarket Type1  \n",
      "1     Supermarket Type1  \n",
      "2         Grocery Store  \n",
      "3     Supermarket Type1  \n",
      "4     Supermarket Type3  \n",
      "...                 ...  \n",
      "5676  Supermarket Type1  \n",
      "5677  Supermarket Type2  \n",
      "5678  Supermarket Type1  \n",
      "5679  Supermarket Type1  \n",
      "5680  Supermarket Type1  \n",
      "\n",
      "[5681 rows x 11 columns]\n"
     ]
    }
   ],
   "source": [
    "print(naru)"
   ]
  },
  {
   "cell_type": "code",
   "execution_count": 13,
   "id": "f92f62d2",
   "metadata": {},
   "outputs": [
    {
     "data": {
      "text/html": [
       "<div>\n",
       "<style scoped>\n",
       "    .dataframe tbody tr th:only-of-type {\n",
       "        vertical-align: middle;\n",
       "    }\n",
       "\n",
       "    .dataframe tbody tr th {\n",
       "        vertical-align: top;\n",
       "    }\n",
       "\n",
       "    .dataframe thead th {\n",
       "        text-align: right;\n",
       "    }\n",
       "</style>\n",
       "<table border=\"1\" class=\"dataframe\">\n",
       "  <thead>\n",
       "    <tr style=\"text-align: right;\">\n",
       "      <th></th>\n",
       "      <th>Item_Identifier</th>\n",
       "      <th>Item_Weight</th>\n",
       "      <th>Item_Fat_Content</th>\n",
       "      <th>Item_Visibility</th>\n",
       "      <th>Item_Type</th>\n",
       "      <th>Item_MRP</th>\n",
       "      <th>Outlet_Identifier</th>\n",
       "      <th>Outlet_Establishment_Year</th>\n",
       "      <th>Outlet_Size</th>\n",
       "      <th>Outlet_Location_Type</th>\n",
       "      <th>Outlet_Type</th>\n",
       "    </tr>\n",
       "  </thead>\n",
       "  <tbody>\n",
       "    <tr>\n",
       "      <th>2846</th>\n",
       "      <td>FDU10</td>\n",
       "      <td>10.100</td>\n",
       "      <td>Regular</td>\n",
       "      <td>0.045692</td>\n",
       "      <td>Snack Foods</td>\n",
       "      <td>38.3848</td>\n",
       "      <td>OUT046</td>\n",
       "      <td>1997</td>\n",
       "      <td>Small</td>\n",
       "      <td>Tier 1</td>\n",
       "      <td>Supermarket Type1</td>\n",
       "    </tr>\n",
       "    <tr>\n",
       "      <th>1953</th>\n",
       "      <td>FDP39</td>\n",
       "      <td>12.650</td>\n",
       "      <td>Low Fat</td>\n",
       "      <td>0.069425</td>\n",
       "      <td>Meat</td>\n",
       "      <td>52.4324</td>\n",
       "      <td>OUT046</td>\n",
       "      <td>1997</td>\n",
       "      <td>Small</td>\n",
       "      <td>Tier 1</td>\n",
       "      <td>Supermarket Type1</td>\n",
       "    </tr>\n",
       "    <tr>\n",
       "      <th>4288</th>\n",
       "      <td>DRK01</td>\n",
       "      <td>NaN</td>\n",
       "      <td>Low Fat</td>\n",
       "      <td>0.106916</td>\n",
       "      <td>Soft Drinks</td>\n",
       "      <td>93.4436</td>\n",
       "      <td>OUT019</td>\n",
       "      <td>1985</td>\n",
       "      <td>Small</td>\n",
       "      <td>Tier 1</td>\n",
       "      <td>Grocery Store</td>\n",
       "    </tr>\n",
       "    <tr>\n",
       "      <th>4292</th>\n",
       "      <td>FDX60</td>\n",
       "      <td>14.350</td>\n",
       "      <td>Low Fat</td>\n",
       "      <td>0.080579</td>\n",
       "      <td>Baking Goods</td>\n",
       "      <td>77.9960</td>\n",
       "      <td>OUT035</td>\n",
       "      <td>2004</td>\n",
       "      <td>Small</td>\n",
       "      <td>Tier 2</td>\n",
       "      <td>Supermarket Type1</td>\n",
       "    </tr>\n",
       "    <tr>\n",
       "      <th>4295</th>\n",
       "      <td>FDL13</td>\n",
       "      <td>13.850</td>\n",
       "      <td>Regular</td>\n",
       "      <td>0.056308</td>\n",
       "      <td>Breakfast</td>\n",
       "      <td>231.8300</td>\n",
       "      <td>OUT035</td>\n",
       "      <td>2004</td>\n",
       "      <td>Small</td>\n",
       "      <td>Tier 2</td>\n",
       "      <td>Supermarket Type1</td>\n",
       "    </tr>\n",
       "    <tr>\n",
       "      <th>...</th>\n",
       "      <td>...</td>\n",
       "      <td>...</td>\n",
       "      <td>...</td>\n",
       "      <td>...</td>\n",
       "      <td>...</td>\n",
       "      <td>...</td>\n",
       "      <td>...</td>\n",
       "      <td>...</td>\n",
       "      <td>...</td>\n",
       "      <td>...</td>\n",
       "      <td>...</td>\n",
       "    </tr>\n",
       "    <tr>\n",
       "      <th>5668</th>\n",
       "      <td>FDC44</td>\n",
       "      <td>15.600</td>\n",
       "      <td>Low Fat</td>\n",
       "      <td>0.288892</td>\n",
       "      <td>Fruits and Vegetables</td>\n",
       "      <td>115.1518</td>\n",
       "      <td>OUT010</td>\n",
       "      <td>1998</td>\n",
       "      <td>NaN</td>\n",
       "      <td>Tier 3</td>\n",
       "      <td>Grocery Store</td>\n",
       "    </tr>\n",
       "    <tr>\n",
       "      <th>5670</th>\n",
       "      <td>FDO03</td>\n",
       "      <td>10.395</td>\n",
       "      <td>Regular</td>\n",
       "      <td>0.037092</td>\n",
       "      <td>Meat</td>\n",
       "      <td>229.4352</td>\n",
       "      <td>OUT017</td>\n",
       "      <td>2007</td>\n",
       "      <td>NaN</td>\n",
       "      <td>Tier 2</td>\n",
       "      <td>Supermarket Type1</td>\n",
       "    </tr>\n",
       "    <tr>\n",
       "      <th>5678</th>\n",
       "      <td>NCO17</td>\n",
       "      <td>10.000</td>\n",
       "      <td>Low Fat</td>\n",
       "      <td>0.073529</td>\n",
       "      <td>Health and Hygiene</td>\n",
       "      <td>118.7440</td>\n",
       "      <td>OUT045</td>\n",
       "      <td>2002</td>\n",
       "      <td>NaN</td>\n",
       "      <td>Tier 2</td>\n",
       "      <td>Supermarket Type1</td>\n",
       "    </tr>\n",
       "    <tr>\n",
       "      <th>5679</th>\n",
       "      <td>FDJ26</td>\n",
       "      <td>15.300</td>\n",
       "      <td>Regular</td>\n",
       "      <td>0.000000</td>\n",
       "      <td>Canned</td>\n",
       "      <td>214.6218</td>\n",
       "      <td>OUT017</td>\n",
       "      <td>2007</td>\n",
       "      <td>NaN</td>\n",
       "      <td>Tier 2</td>\n",
       "      <td>Supermarket Type1</td>\n",
       "    </tr>\n",
       "    <tr>\n",
       "      <th>5680</th>\n",
       "      <td>FDU37</td>\n",
       "      <td>9.500</td>\n",
       "      <td>Regular</td>\n",
       "      <td>0.104720</td>\n",
       "      <td>Canned</td>\n",
       "      <td>79.7960</td>\n",
       "      <td>OUT045</td>\n",
       "      <td>2002</td>\n",
       "      <td>NaN</td>\n",
       "      <td>Tier 2</td>\n",
       "      <td>Supermarket Type1</td>\n",
       "    </tr>\n",
       "  </tbody>\n",
       "</table>\n",
       "<p>5681 rows × 11 columns</p>\n",
       "</div>"
      ],
      "text/plain": [
       "     Item_Identifier  Item_Weight Item_Fat_Content  Item_Visibility  \\\n",
       "2846           FDU10       10.100          Regular         0.045692   \n",
       "1953           FDP39       12.650          Low Fat         0.069425   \n",
       "4288           DRK01          NaN          Low Fat         0.106916   \n",
       "4292           FDX60       14.350          Low Fat         0.080579   \n",
       "4295           FDL13       13.850          Regular         0.056308   \n",
       "...              ...          ...              ...              ...   \n",
       "5668           FDC44       15.600          Low Fat         0.288892   \n",
       "5670           FDO03       10.395          Regular         0.037092   \n",
       "5678           NCO17       10.000          Low Fat         0.073529   \n",
       "5679           FDJ26       15.300          Regular         0.000000   \n",
       "5680           FDU37        9.500          Regular         0.104720   \n",
       "\n",
       "                  Item_Type  Item_MRP Outlet_Identifier  \\\n",
       "2846            Snack Foods   38.3848            OUT046   \n",
       "1953                   Meat   52.4324            OUT046   \n",
       "4288            Soft Drinks   93.4436            OUT019   \n",
       "4292           Baking Goods   77.9960            OUT035   \n",
       "4295              Breakfast  231.8300            OUT035   \n",
       "...                     ...       ...               ...   \n",
       "5668  Fruits and Vegetables  115.1518            OUT010   \n",
       "5670                   Meat  229.4352            OUT017   \n",
       "5678     Health and Hygiene  118.7440            OUT045   \n",
       "5679                 Canned  214.6218            OUT017   \n",
       "5680                 Canned   79.7960            OUT045   \n",
       "\n",
       "      Outlet_Establishment_Year Outlet_Size Outlet_Location_Type  \\\n",
       "2846                       1997       Small               Tier 1   \n",
       "1953                       1997       Small               Tier 1   \n",
       "4288                       1985       Small               Tier 1   \n",
       "4292                       2004       Small               Tier 2   \n",
       "4295                       2004       Small               Tier 2   \n",
       "...                         ...         ...                  ...   \n",
       "5668                       1998         NaN               Tier 3   \n",
       "5670                       2007         NaN               Tier 2   \n",
       "5678                       2002         NaN               Tier 2   \n",
       "5679                       2007         NaN               Tier 2   \n",
       "5680                       2002         NaN               Tier 2   \n",
       "\n",
       "            Outlet_Type  \n",
       "2846  Supermarket Type1  \n",
       "1953  Supermarket Type1  \n",
       "4288      Grocery Store  \n",
       "4292  Supermarket Type1  \n",
       "4295  Supermarket Type1  \n",
       "...                 ...  \n",
       "5668      Grocery Store  \n",
       "5670  Supermarket Type1  \n",
       "5678  Supermarket Type1  \n",
       "5679  Supermarket Type1  \n",
       "5680  Supermarket Type1  \n",
       "\n",
       "[5681 rows x 11 columns]"
      ]
     },
     "execution_count": 13,
     "metadata": {},
     "output_type": "execute_result"
    }
   ],
   "source": [
    "naru.sort_values(\"Outlet_Size\",ascending = [False])"
   ]
  },
  {
   "cell_type": "code",
   "execution_count": 14,
   "id": "4c008494",
   "metadata": {},
   "outputs": [
    {
     "name": "stdout",
     "output_type": "stream",
     "text": [
      "<class 'pandas.core.frame.DataFrame'>\n",
      "RangeIndex: 5681 entries, 0 to 5680\n",
      "Data columns (total 11 columns):\n",
      " #   Column                     Non-Null Count  Dtype  \n",
      "---  ------                     --------------  -----  \n",
      " 0   Item_Identifier            5681 non-null   object \n",
      " 1   Item_Weight                4705 non-null   float64\n",
      " 2   Item_Fat_Content           5681 non-null   object \n",
      " 3   Item_Visibility            5681 non-null   float64\n",
      " 4   Item_Type                  5681 non-null   object \n",
      " 5   Item_MRP                   5681 non-null   float64\n",
      " 6   Outlet_Identifier          5681 non-null   object \n",
      " 7   Outlet_Establishment_Year  5681 non-null   int64  \n",
      " 8   Outlet_Size                4075 non-null   object \n",
      " 9   Outlet_Location_Type       5681 non-null   object \n",
      " 10  Outlet_Type                5681 non-null   object \n",
      "dtypes: float64(3), int64(1), object(7)\n",
      "memory usage: 488.3+ KB\n"
     ]
    }
   ],
   "source": [
    "naru.info()"
   ]
  },
  {
   "cell_type": "code",
   "execution_count": 15,
   "id": "5796f31e",
   "metadata": {},
   "outputs": [
    {
     "data": {
      "text/html": [
       "<div>\n",
       "<style scoped>\n",
       "    .dataframe tbody tr th:only-of-type {\n",
       "        vertical-align: middle;\n",
       "    }\n",
       "\n",
       "    .dataframe tbody tr th {\n",
       "        vertical-align: top;\n",
       "    }\n",
       "\n",
       "    .dataframe thead th {\n",
       "        text-align: right;\n",
       "    }\n",
       "</style>\n",
       "<table border=\"1\" class=\"dataframe\">\n",
       "  <thead>\n",
       "    <tr style=\"text-align: right;\">\n",
       "      <th></th>\n",
       "      <th>Item_Weight</th>\n",
       "      <th>Item_Visibility</th>\n",
       "      <th>Item_MRP</th>\n",
       "      <th>Outlet_Establishment_Year</th>\n",
       "    </tr>\n",
       "  </thead>\n",
       "  <tbody>\n",
       "    <tr>\n",
       "      <th>count</th>\n",
       "      <td>4705.000000</td>\n",
       "      <td>5681.000000</td>\n",
       "      <td>5681.000000</td>\n",
       "      <td>5681.000000</td>\n",
       "    </tr>\n",
       "    <tr>\n",
       "      <th>mean</th>\n",
       "      <td>12.695633</td>\n",
       "      <td>0.065684</td>\n",
       "      <td>141.023273</td>\n",
       "      <td>1997.828903</td>\n",
       "    </tr>\n",
       "    <tr>\n",
       "      <th>std</th>\n",
       "      <td>4.664849</td>\n",
       "      <td>0.051252</td>\n",
       "      <td>61.809091</td>\n",
       "      <td>8.372256</td>\n",
       "    </tr>\n",
       "    <tr>\n",
       "      <th>min</th>\n",
       "      <td>4.555000</td>\n",
       "      <td>0.000000</td>\n",
       "      <td>31.990000</td>\n",
       "      <td>1985.000000</td>\n",
       "    </tr>\n",
       "    <tr>\n",
       "      <th>25%</th>\n",
       "      <td>8.645000</td>\n",
       "      <td>0.027047</td>\n",
       "      <td>94.412000</td>\n",
       "      <td>1987.000000</td>\n",
       "    </tr>\n",
       "    <tr>\n",
       "      <th>50%</th>\n",
       "      <td>12.500000</td>\n",
       "      <td>0.054154</td>\n",
       "      <td>141.415400</td>\n",
       "      <td>1999.000000</td>\n",
       "    </tr>\n",
       "    <tr>\n",
       "      <th>75%</th>\n",
       "      <td>16.700000</td>\n",
       "      <td>0.093463</td>\n",
       "      <td>186.026600</td>\n",
       "      <td>2004.000000</td>\n",
       "    </tr>\n",
       "    <tr>\n",
       "      <th>max</th>\n",
       "      <td>21.350000</td>\n",
       "      <td>0.323637</td>\n",
       "      <td>266.588400</td>\n",
       "      <td>2009.000000</td>\n",
       "    </tr>\n",
       "  </tbody>\n",
       "</table>\n",
       "</div>"
      ],
      "text/plain": [
       "       Item_Weight  Item_Visibility     Item_MRP  Outlet_Establishment_Year\n",
       "count  4705.000000      5681.000000  5681.000000                5681.000000\n",
       "mean     12.695633         0.065684   141.023273                1997.828903\n",
       "std       4.664849         0.051252    61.809091                   8.372256\n",
       "min       4.555000         0.000000    31.990000                1985.000000\n",
       "25%       8.645000         0.027047    94.412000                1987.000000\n",
       "50%      12.500000         0.054154   141.415400                1999.000000\n",
       "75%      16.700000         0.093463   186.026600                2004.000000\n",
       "max      21.350000         0.323637   266.588400                2009.000000"
      ]
     },
     "execution_count": 15,
     "metadata": {},
     "output_type": "execute_result"
    }
   ],
   "source": [
    "naru.describe()"
   ]
  },
  {
   "cell_type": "code",
   "execution_count": 16,
   "id": "09f1509c",
   "metadata": {},
   "outputs": [
    {
     "data": {
      "text/plain": [
       "[Low Fat    3602\n",
       " Regular    2013\n",
       " low fat      66\n",
       " Name: Item_Fat_Content, dtype: int64,\n",
       " Snack Foods              789\n",
       " Fruits and Vegetables    781\n",
       " Household                638\n",
       " Frozen Foods             570\n",
       " Dairy                    454\n",
       " Baking Goods             438\n",
       " Canned                   435\n",
       " Health and Hygiene       338\n",
       " Meat                     311\n",
       " Soft Drinks              281\n",
       " Breads                   165\n",
       " Hard Drinks              148\n",
       " Starchy Foods            121\n",
       " Others                   111\n",
       " Breakfast                 76\n",
       " Seafood                   25\n",
       " Name: Item_Type, dtype: int64,\n",
       " OUT027    624\n",
       " OUT013    621\n",
       " OUT035    620\n",
       " OUT046    620\n",
       " OUT049    620\n",
       " OUT045    619\n",
       " OUT018    618\n",
       " OUT017    617\n",
       " OUT010    370\n",
       " OUT019    352\n",
       " Name: Outlet_Identifier, dtype: int64,\n",
       " Medium    1862\n",
       " Small     1592\n",
       " High       621\n",
       " Name: Outlet_Size, dtype: int64,\n",
       " Tier 3    2233\n",
       " Tier 2    1856\n",
       " Tier 1    1592\n",
       " Name: Outlet_Location_Type, dtype: int64,\n",
       " Supermarket Type1    3717\n",
       " Grocery Store         722\n",
       " Supermarket Type3     624\n",
       " Supermarket Type2     618\n",
       " Name: Outlet_Type, dtype: int64]"
      ]
     },
     "execution_count": 16,
     "metadata": {},
     "output_type": "execute_result"
    }
   ],
   "source": [
    "#list of all the numeric columns\n",
    "num = naru.select_dtypes('number').columns.to_list()\n",
    "#list of all the categoric columns\n",
    "cat = naru.select_dtypes('object').columns.to_list()\n",
    "\n",
    "#numeric df\n",
    "BM_num =  naru[num]\n",
    "#categoric df\n",
    "BM_cat = naru[cat]\n",
    "\n",
    "#print(num)\n",
    "#print(cat)\n",
    "\n",
    "[naru[category].value_counts() for category in cat[1:]]"
   ]
  },
  {
   "cell_type": "code",
   "execution_count": 17,
   "id": "e7a110de",
   "metadata": {},
   "outputs": [
    {
     "data": {
      "text/plain": [
       "Item_Type\n",
       "Snack Foods              115875.6350\n",
       "Dairy                     65977.9536\n",
       "Others                    14996.7216\n",
       "Fruits and Vegetables    112360.3474\n",
       "Baking Goods              56524.9092\n",
       "Health and Hygiene        46180.8928\n",
       "Breads                    23439.0574\n",
       "Hard Drinks               20366.1246\n",
       "Seafood                    3496.8288\n",
       "Soft Drinks               39788.9400\n",
       "Household                 94267.5778\n",
       "Frozen Foods              76043.6098\n",
       "Meat                      43804.4162\n",
       "Canned                    59558.3676\n",
       "Starchy Foods             18403.2384\n",
       "Breakfast                 10068.5960\n",
       "Name: Item_MRP, dtype: float64"
      ]
     },
     "execution_count": 17,
     "metadata": {},
     "output_type": "execute_result"
    }
   ],
   "source": [
    "naru.groupby(\"Item_Type\",sort=False)[\"Item_MRP\"].sum()"
   ]
  },
  {
   "cell_type": "code",
   "execution_count": 18,
   "id": "7f7cf719",
   "metadata": {},
   "outputs": [],
   "source": [
    "fresh = naru[naru[\"Outlet_Establishment_Year\"] > 2008]\n"
   ]
  },
  {
   "cell_type": "code",
   "execution_count": 19,
   "id": "1f62243f",
   "metadata": {},
   "outputs": [
    {
     "name": "stdout",
     "output_type": "stream",
     "text": [
      "Outlet_Size:\n",
      " Medium    1862\n",
      "Small     1592\n",
      "High       621\n",
      "Name: Outlet_Size, dtype: int64 \n",
      "\n",
      "\n",
      "Item_Weight:\n",
      " 12.150    86\n",
      "17.600    82\n",
      "13.650    77\n",
      "11.800    76\n",
      "15.100    68\n",
      "          ..\n",
      "6.775      2\n",
      "9.420      1\n",
      "6.520      1\n",
      "5.400      1\n",
      "7.685      1\n",
      "Name: Item_Weight, Length: 415, dtype: int64 \n",
      "\n",
      "\n"
     ]
    }
   ],
   "source": [
    "print(\"Outlet_Size:\\n\", naru.Outlet_Size.value_counts(), \"\\n\\n\")\n",
    "print(\"Item_Weight:\\n\", ns.Item_Weight.value_counts(), \"\\n\\n\")"
   ]
  },
  {
   "cell_type": "code",
   "execution_count": 20,
   "id": "935bce52",
   "metadata": {
    "scrolled": true
   },
   "outputs": [
    {
     "data": {
      "text/plain": [
       "(618, 11)"
      ]
     },
     "execution_count": 20,
     "metadata": {},
     "output_type": "execute_result"
    }
   ],
   "source": [
    "fresh.shape"
   ]
  },
  {
   "cell_type": "markdown",
   "id": "b560d2d5",
   "metadata": {},
   "source": [
    "## Cleaning Data"
   ]
  },
  {
   "cell_type": "code",
   "execution_count": 21,
   "id": "88b01647",
   "metadata": {},
   "outputs": [
    {
     "data": {
      "text/html": [
       "<div>\n",
       "<style scoped>\n",
       "    .dataframe tbody tr th:only-of-type {\n",
       "        vertical-align: middle;\n",
       "    }\n",
       "\n",
       "    .dataframe tbody tr th {\n",
       "        vertical-align: top;\n",
       "    }\n",
       "\n",
       "    .dataframe thead th {\n",
       "        text-align: right;\n",
       "    }\n",
       "</style>\n",
       "<table border=\"1\" class=\"dataframe\">\n",
       "  <thead>\n",
       "    <tr style=\"text-align: right;\">\n",
       "      <th></th>\n",
       "      <th>Item_Identifier</th>\n",
       "      <th>Item_Weight</th>\n",
       "      <th>Item_Fat_Content</th>\n",
       "      <th>Item_Visibility</th>\n",
       "      <th>Item_Type</th>\n",
       "      <th>Item_MRP</th>\n",
       "      <th>Outlet_Identifier</th>\n",
       "      <th>Outlet_Establishment_Year</th>\n",
       "      <th>Outlet_Size</th>\n",
       "      <th>Outlet_Location_Type</th>\n",
       "      <th>Outlet_Type</th>\n",
       "    </tr>\n",
       "  </thead>\n",
       "  <tbody>\n",
       "    <tr>\n",
       "      <th>0</th>\n",
       "      <td>False</td>\n",
       "      <td>False</td>\n",
       "      <td>False</td>\n",
       "      <td>False</td>\n",
       "      <td>False</td>\n",
       "      <td>False</td>\n",
       "      <td>False</td>\n",
       "      <td>False</td>\n",
       "      <td>False</td>\n",
       "      <td>False</td>\n",
       "      <td>False</td>\n",
       "    </tr>\n",
       "    <tr>\n",
       "      <th>1</th>\n",
       "      <td>False</td>\n",
       "      <td>False</td>\n",
       "      <td>False</td>\n",
       "      <td>False</td>\n",
       "      <td>False</td>\n",
       "      <td>False</td>\n",
       "      <td>False</td>\n",
       "      <td>False</td>\n",
       "      <td>True</td>\n",
       "      <td>False</td>\n",
       "      <td>False</td>\n",
       "    </tr>\n",
       "    <tr>\n",
       "      <th>2</th>\n",
       "      <td>False</td>\n",
       "      <td>False</td>\n",
       "      <td>False</td>\n",
       "      <td>False</td>\n",
       "      <td>False</td>\n",
       "      <td>False</td>\n",
       "      <td>False</td>\n",
       "      <td>False</td>\n",
       "      <td>True</td>\n",
       "      <td>False</td>\n",
       "      <td>False</td>\n",
       "    </tr>\n",
       "    <tr>\n",
       "      <th>3</th>\n",
       "      <td>False</td>\n",
       "      <td>False</td>\n",
       "      <td>False</td>\n",
       "      <td>False</td>\n",
       "      <td>False</td>\n",
       "      <td>False</td>\n",
       "      <td>False</td>\n",
       "      <td>False</td>\n",
       "      <td>True</td>\n",
       "      <td>False</td>\n",
       "      <td>False</td>\n",
       "    </tr>\n",
       "    <tr>\n",
       "      <th>4</th>\n",
       "      <td>False</td>\n",
       "      <td>True</td>\n",
       "      <td>False</td>\n",
       "      <td>False</td>\n",
       "      <td>False</td>\n",
       "      <td>False</td>\n",
       "      <td>False</td>\n",
       "      <td>False</td>\n",
       "      <td>False</td>\n",
       "      <td>False</td>\n",
       "      <td>False</td>\n",
       "    </tr>\n",
       "    <tr>\n",
       "      <th>...</th>\n",
       "      <td>...</td>\n",
       "      <td>...</td>\n",
       "      <td>...</td>\n",
       "      <td>...</td>\n",
       "      <td>...</td>\n",
       "      <td>...</td>\n",
       "      <td>...</td>\n",
       "      <td>...</td>\n",
       "      <td>...</td>\n",
       "      <td>...</td>\n",
       "      <td>...</td>\n",
       "    </tr>\n",
       "    <tr>\n",
       "      <th>5676</th>\n",
       "      <td>False</td>\n",
       "      <td>False</td>\n",
       "      <td>False</td>\n",
       "      <td>False</td>\n",
       "      <td>False</td>\n",
       "      <td>False</td>\n",
       "      <td>False</td>\n",
       "      <td>False</td>\n",
       "      <td>False</td>\n",
       "      <td>False</td>\n",
       "      <td>False</td>\n",
       "    </tr>\n",
       "    <tr>\n",
       "      <th>5677</th>\n",
       "      <td>False</td>\n",
       "      <td>False</td>\n",
       "      <td>False</td>\n",
       "      <td>False</td>\n",
       "      <td>False</td>\n",
       "      <td>False</td>\n",
       "      <td>False</td>\n",
       "      <td>False</td>\n",
       "      <td>False</td>\n",
       "      <td>False</td>\n",
       "      <td>False</td>\n",
       "    </tr>\n",
       "    <tr>\n",
       "      <th>5678</th>\n",
       "      <td>False</td>\n",
       "      <td>False</td>\n",
       "      <td>False</td>\n",
       "      <td>False</td>\n",
       "      <td>False</td>\n",
       "      <td>False</td>\n",
       "      <td>False</td>\n",
       "      <td>False</td>\n",
       "      <td>True</td>\n",
       "      <td>False</td>\n",
       "      <td>False</td>\n",
       "    </tr>\n",
       "    <tr>\n",
       "      <th>5679</th>\n",
       "      <td>False</td>\n",
       "      <td>False</td>\n",
       "      <td>False</td>\n",
       "      <td>False</td>\n",
       "      <td>False</td>\n",
       "      <td>False</td>\n",
       "      <td>False</td>\n",
       "      <td>False</td>\n",
       "      <td>True</td>\n",
       "      <td>False</td>\n",
       "      <td>False</td>\n",
       "    </tr>\n",
       "    <tr>\n",
       "      <th>5680</th>\n",
       "      <td>False</td>\n",
       "      <td>False</td>\n",
       "      <td>False</td>\n",
       "      <td>False</td>\n",
       "      <td>False</td>\n",
       "      <td>False</td>\n",
       "      <td>False</td>\n",
       "      <td>False</td>\n",
       "      <td>True</td>\n",
       "      <td>False</td>\n",
       "      <td>False</td>\n",
       "    </tr>\n",
       "  </tbody>\n",
       "</table>\n",
       "<p>5681 rows × 11 columns</p>\n",
       "</div>"
      ],
      "text/plain": [
       "      Item_Identifier  Item_Weight  Item_Fat_Content  Item_Visibility  \\\n",
       "0               False        False             False            False   \n",
       "1               False        False             False            False   \n",
       "2               False        False             False            False   \n",
       "3               False        False             False            False   \n",
       "4               False         True             False            False   \n",
       "...               ...          ...               ...              ...   \n",
       "5676            False        False             False            False   \n",
       "5677            False        False             False            False   \n",
       "5678            False        False             False            False   \n",
       "5679            False        False             False            False   \n",
       "5680            False        False             False            False   \n",
       "\n",
       "      Item_Type  Item_MRP  Outlet_Identifier  Outlet_Establishment_Year  \\\n",
       "0         False     False              False                      False   \n",
       "1         False     False              False                      False   \n",
       "2         False     False              False                      False   \n",
       "3         False     False              False                      False   \n",
       "4         False     False              False                      False   \n",
       "...         ...       ...                ...                        ...   \n",
       "5676      False     False              False                      False   \n",
       "5677      False     False              False                      False   \n",
       "5678      False     False              False                      False   \n",
       "5679      False     False              False                      False   \n",
       "5680      False     False              False                      False   \n",
       "\n",
       "      Outlet_Size  Outlet_Location_Type  Outlet_Type  \n",
       "0           False                 False        False  \n",
       "1            True                 False        False  \n",
       "2            True                 False        False  \n",
       "3            True                 False        False  \n",
       "4           False                 False        False  \n",
       "...           ...                   ...          ...  \n",
       "5676        False                 False        False  \n",
       "5677        False                 False        False  \n",
       "5678         True                 False        False  \n",
       "5679         True                 False        False  \n",
       "5680         True                 False        False  \n",
       "\n",
       "[5681 rows x 11 columns]"
      ]
     },
     "execution_count": 21,
     "metadata": {},
     "output_type": "execute_result"
    }
   ],
   "source": [
    "\n",
    "naru.isnull()"
   ]
  },
  {
   "cell_type": "code",
   "execution_count": 22,
   "id": "1237ba26",
   "metadata": {},
   "outputs": [
    {
     "data": {
      "text/plain": [
       "Item_Identifier                 0\n",
       "Item_Weight                   976\n",
       "Item_Fat_Content                0\n",
       "Item_Visibility                 0\n",
       "Item_Type                       0\n",
       "Item_MRP                        0\n",
       "Outlet_Identifier               0\n",
       "Outlet_Establishment_Year       0\n",
       "Outlet_Size                  1606\n",
       "Outlet_Location_Type            0\n",
       "Outlet_Type                     0\n",
       "dtype: int64"
      ]
     },
     "execution_count": 22,
     "metadata": {},
     "output_type": "execute_result"
    }
   ],
   "source": [
    "naru.isnull().sum()"
   ]
  },
  {
   "cell_type": "markdown",
   "id": "4a1f2bb8",
   "metadata": {},
   "source": [
    "## Filling null values"
   ]
  },
  {
   "cell_type": "code",
   "execution_count": 23,
   "id": "ba9dee95",
   "metadata": {},
   "outputs": [],
   "source": [
    "naru2 = naru.fillna(method = \"pad\") #filling null values with previous value"
   ]
  },
  {
   "cell_type": "code",
   "execution_count": 24,
   "id": "0d133579",
   "metadata": {},
   "outputs": [
    {
     "data": {
      "text/plain": [
       "Item_Identifier              0\n",
       "Item_Weight                  0\n",
       "Item_Fat_Content             0\n",
       "Item_Visibility              0\n",
       "Item_Type                    0\n",
       "Item_MRP                     0\n",
       "Outlet_Identifier            0\n",
       "Outlet_Establishment_Year    0\n",
       "Outlet_Size                  0\n",
       "Outlet_Location_Type         0\n",
       "Outlet_Type                  0\n",
       "dtype: int64"
      ]
     },
     "execution_count": 24,
     "metadata": {},
     "output_type": "execute_result"
    }
   ],
   "source": [
    "naru2.isnull().sum()"
   ]
  },
  {
   "cell_type": "code",
   "execution_count": 25,
   "id": "0eb28edc",
   "metadata": {},
   "outputs": [],
   "source": [
    "naru3 = naru2.fillna(value = naru2['Item_Weight'].mean())"
   ]
  },
  {
   "cell_type": "code",
   "execution_count": 26,
   "id": "9c6be229",
   "metadata": {},
   "outputs": [
    {
     "data": {
      "text/html": [
       "<div>\n",
       "<style scoped>\n",
       "    .dataframe tbody tr th:only-of-type {\n",
       "        vertical-align: middle;\n",
       "    }\n",
       "\n",
       "    .dataframe tbody tr th {\n",
       "        vertical-align: top;\n",
       "    }\n",
       "\n",
       "    .dataframe thead th {\n",
       "        text-align: right;\n",
       "    }\n",
       "</style>\n",
       "<table border=\"1\" class=\"dataframe\">\n",
       "  <thead>\n",
       "    <tr style=\"text-align: right;\">\n",
       "      <th></th>\n",
       "      <th>Item_Identifier</th>\n",
       "      <th>Item_Weight</th>\n",
       "      <th>Item_Fat_Content</th>\n",
       "      <th>Item_Visibility</th>\n",
       "      <th>Item_Type</th>\n",
       "      <th>Item_MRP</th>\n",
       "      <th>Outlet_Identifier</th>\n",
       "      <th>Outlet_Establishment_Year</th>\n",
       "      <th>Outlet_Size</th>\n",
       "      <th>Outlet_Location_Type</th>\n",
       "      <th>Outlet_Type</th>\n",
       "    </tr>\n",
       "  </thead>\n",
       "  <tbody>\n",
       "    <tr>\n",
       "      <th>0</th>\n",
       "      <td>FDW58</td>\n",
       "      <td>20.750</td>\n",
       "      <td>Low Fat</td>\n",
       "      <td>0.007565</td>\n",
       "      <td>Snack Foods</td>\n",
       "      <td>107.8622</td>\n",
       "      <td>OUT049</td>\n",
       "      <td>1999</td>\n",
       "      <td>Medium</td>\n",
       "      <td>Tier 1</td>\n",
       "      <td>Supermarket Type1</td>\n",
       "    </tr>\n",
       "    <tr>\n",
       "      <th>1</th>\n",
       "      <td>FDW14</td>\n",
       "      <td>8.300</td>\n",
       "      <td>Regular</td>\n",
       "      <td>0.038428</td>\n",
       "      <td>Dairy</td>\n",
       "      <td>87.3198</td>\n",
       "      <td>OUT017</td>\n",
       "      <td>2007</td>\n",
       "      <td>Medium</td>\n",
       "      <td>Tier 2</td>\n",
       "      <td>Supermarket Type1</td>\n",
       "    </tr>\n",
       "    <tr>\n",
       "      <th>2</th>\n",
       "      <td>NCN55</td>\n",
       "      <td>14.600</td>\n",
       "      <td>Low Fat</td>\n",
       "      <td>0.099575</td>\n",
       "      <td>Others</td>\n",
       "      <td>241.7538</td>\n",
       "      <td>OUT010</td>\n",
       "      <td>1998</td>\n",
       "      <td>Medium</td>\n",
       "      <td>Tier 3</td>\n",
       "      <td>Grocery Store</td>\n",
       "    </tr>\n",
       "    <tr>\n",
       "      <th>3</th>\n",
       "      <td>FDQ58</td>\n",
       "      <td>7.315</td>\n",
       "      <td>Low Fat</td>\n",
       "      <td>0.015388</td>\n",
       "      <td>Snack Foods</td>\n",
       "      <td>155.0340</td>\n",
       "      <td>OUT017</td>\n",
       "      <td>2007</td>\n",
       "      <td>Medium</td>\n",
       "      <td>Tier 2</td>\n",
       "      <td>Supermarket Type1</td>\n",
       "    </tr>\n",
       "    <tr>\n",
       "      <th>4</th>\n",
       "      <td>FDY38</td>\n",
       "      <td>7.315</td>\n",
       "      <td>Regular</td>\n",
       "      <td>0.118599</td>\n",
       "      <td>Dairy</td>\n",
       "      <td>234.2300</td>\n",
       "      <td>OUT027</td>\n",
       "      <td>1985</td>\n",
       "      <td>Medium</td>\n",
       "      <td>Tier 3</td>\n",
       "      <td>Supermarket Type3</td>\n",
       "    </tr>\n",
       "  </tbody>\n",
       "</table>\n",
       "</div>"
      ],
      "text/plain": [
       "  Item_Identifier  Item_Weight Item_Fat_Content  Item_Visibility    Item_Type  \\\n",
       "0           FDW58       20.750          Low Fat         0.007565  Snack Foods   \n",
       "1           FDW14        8.300          Regular         0.038428        Dairy   \n",
       "2           NCN55       14.600          Low Fat         0.099575       Others   \n",
       "3           FDQ58        7.315          Low Fat         0.015388  Snack Foods   \n",
       "4           FDY38        7.315          Regular         0.118599        Dairy   \n",
       "\n",
       "   Item_MRP Outlet_Identifier  Outlet_Establishment_Year Outlet_Size  \\\n",
       "0  107.8622            OUT049                       1999      Medium   \n",
       "1   87.3198            OUT017                       2007      Medium   \n",
       "2  241.7538            OUT010                       1998      Medium   \n",
       "3  155.0340            OUT017                       2007      Medium   \n",
       "4  234.2300            OUT027                       1985      Medium   \n",
       "\n",
       "  Outlet_Location_Type        Outlet_Type  \n",
       "0               Tier 1  Supermarket Type1  \n",
       "1               Tier 2  Supermarket Type1  \n",
       "2               Tier 3      Grocery Store  \n",
       "3               Tier 2  Supermarket Type1  \n",
       "4               Tier 3  Supermarket Type3  "
      ]
     },
     "execution_count": 26,
     "metadata": {},
     "output_type": "execute_result"
    }
   ],
   "source": [
    "naru3.head()"
   ]
  },
  {
   "cell_type": "code",
   "execution_count": 27,
   "id": "dc465409",
   "metadata": {},
   "outputs": [
    {
     "data": {
      "text/html": [
       "<div>\n",
       "<style scoped>\n",
       "    .dataframe tbody tr th:only-of-type {\n",
       "        vertical-align: middle;\n",
       "    }\n",
       "\n",
       "    .dataframe tbody tr th {\n",
       "        vertical-align: top;\n",
       "    }\n",
       "\n",
       "    .dataframe thead th {\n",
       "        text-align: right;\n",
       "    }\n",
       "</style>\n",
       "<table border=\"1\" class=\"dataframe\">\n",
       "  <thead>\n",
       "    <tr style=\"text-align: right;\">\n",
       "      <th></th>\n",
       "      <th>Item_Identifier</th>\n",
       "      <th>Item_Weight</th>\n",
       "      <th>Item_Fat_Content</th>\n",
       "      <th>Item_Visibility</th>\n",
       "      <th>Item_Type</th>\n",
       "      <th>Item_MRP</th>\n",
       "      <th>Outlet_Identifier</th>\n",
       "      <th>Outlet_Establishment_Year</th>\n",
       "      <th>Outlet_Size</th>\n",
       "      <th>Outlet_Location_Type</th>\n",
       "      <th>Outlet_Type</th>\n",
       "    </tr>\n",
       "  </thead>\n",
       "  <tbody>\n",
       "    <tr>\n",
       "      <th>0</th>\n",
       "      <td>FDW58</td>\n",
       "      <td>20.750</td>\n",
       "      <td>Low Fat</td>\n",
       "      <td>0.007565</td>\n",
       "      <td>Snack Foods</td>\n",
       "      <td>107.8622</td>\n",
       "      <td>OUT049</td>\n",
       "      <td>1999</td>\n",
       "      <td>Medium</td>\n",
       "      <td>Tier 1</td>\n",
       "      <td>Supermarket Type1</td>\n",
       "    </tr>\n",
       "    <tr>\n",
       "      <th>1</th>\n",
       "      <td>FDW14</td>\n",
       "      <td>8.300</td>\n",
       "      <td>Regular</td>\n",
       "      <td>0.038428</td>\n",
       "      <td>Dairy</td>\n",
       "      <td>87.3198</td>\n",
       "      <td>OUT017</td>\n",
       "      <td>2007</td>\n",
       "      <td>Medium</td>\n",
       "      <td>Tier 2</td>\n",
       "      <td>Supermarket Type1</td>\n",
       "    </tr>\n",
       "    <tr>\n",
       "      <th>2</th>\n",
       "      <td>NCN55</td>\n",
       "      <td>14.600</td>\n",
       "      <td>Low Fat</td>\n",
       "      <td>0.099575</td>\n",
       "      <td>Others</td>\n",
       "      <td>241.7538</td>\n",
       "      <td>OUT010</td>\n",
       "      <td>1998</td>\n",
       "      <td>Medium</td>\n",
       "      <td>Tier 3</td>\n",
       "      <td>Grocery Store</td>\n",
       "    </tr>\n",
       "    <tr>\n",
       "      <th>3</th>\n",
       "      <td>FDQ58</td>\n",
       "      <td>7.315</td>\n",
       "      <td>Low Fat</td>\n",
       "      <td>0.015388</td>\n",
       "      <td>Snack Foods</td>\n",
       "      <td>155.0340</td>\n",
       "      <td>OUT017</td>\n",
       "      <td>2007</td>\n",
       "      <td>Medium</td>\n",
       "      <td>Tier 2</td>\n",
       "      <td>Supermarket Type1</td>\n",
       "    </tr>\n",
       "    <tr>\n",
       "      <th>4</th>\n",
       "      <td>FDY38</td>\n",
       "      <td>7.315</td>\n",
       "      <td>Regular</td>\n",
       "      <td>0.118599</td>\n",
       "      <td>Dairy</td>\n",
       "      <td>234.2300</td>\n",
       "      <td>OUT027</td>\n",
       "      <td>1985</td>\n",
       "      <td>Medium</td>\n",
       "      <td>Tier 3</td>\n",
       "      <td>Supermarket Type3</td>\n",
       "    </tr>\n",
       "    <tr>\n",
       "      <th>5</th>\n",
       "      <td>FDH56</td>\n",
       "      <td>9.800</td>\n",
       "      <td>Regular</td>\n",
       "      <td>0.063817</td>\n",
       "      <td>Fruits and Vegetables</td>\n",
       "      <td>117.1492</td>\n",
       "      <td>OUT046</td>\n",
       "      <td>1997</td>\n",
       "      <td>Small</td>\n",
       "      <td>Tier 1</td>\n",
       "      <td>Supermarket Type1</td>\n",
       "    </tr>\n",
       "    <tr>\n",
       "      <th>6</th>\n",
       "      <td>FDL48</td>\n",
       "      <td>19.350</td>\n",
       "      <td>Regular</td>\n",
       "      <td>0.082602</td>\n",
       "      <td>Baking Goods</td>\n",
       "      <td>50.1034</td>\n",
       "      <td>OUT018</td>\n",
       "      <td>2009</td>\n",
       "      <td>Medium</td>\n",
       "      <td>Tier 3</td>\n",
       "      <td>Supermarket Type2</td>\n",
       "    </tr>\n",
       "    <tr>\n",
       "      <th>7</th>\n",
       "      <td>FDC48</td>\n",
       "      <td>19.350</td>\n",
       "      <td>Low Fat</td>\n",
       "      <td>0.015782</td>\n",
       "      <td>Baking Goods</td>\n",
       "      <td>81.0592</td>\n",
       "      <td>OUT027</td>\n",
       "      <td>1985</td>\n",
       "      <td>Medium</td>\n",
       "      <td>Tier 3</td>\n",
       "      <td>Supermarket Type3</td>\n",
       "    </tr>\n",
       "    <tr>\n",
       "      <th>8</th>\n",
       "      <td>FDN33</td>\n",
       "      <td>6.305</td>\n",
       "      <td>Regular</td>\n",
       "      <td>0.123365</td>\n",
       "      <td>Snack Foods</td>\n",
       "      <td>95.7436</td>\n",
       "      <td>OUT045</td>\n",
       "      <td>2002</td>\n",
       "      <td>Medium</td>\n",
       "      <td>Tier 2</td>\n",
       "      <td>Supermarket Type1</td>\n",
       "    </tr>\n",
       "    <tr>\n",
       "      <th>9</th>\n",
       "      <td>FDA36</td>\n",
       "      <td>5.985</td>\n",
       "      <td>Low Fat</td>\n",
       "      <td>0.005698</td>\n",
       "      <td>Baking Goods</td>\n",
       "      <td>186.8924</td>\n",
       "      <td>OUT017</td>\n",
       "      <td>2007</td>\n",
       "      <td>Medium</td>\n",
       "      <td>Tier 2</td>\n",
       "      <td>Supermarket Type1</td>\n",
       "    </tr>\n",
       "  </tbody>\n",
       "</table>\n",
       "</div>"
      ],
      "text/plain": [
       "  Item_Identifier  Item_Weight Item_Fat_Content  Item_Visibility  \\\n",
       "0           FDW58       20.750          Low Fat         0.007565   \n",
       "1           FDW14        8.300          Regular         0.038428   \n",
       "2           NCN55       14.600          Low Fat         0.099575   \n",
       "3           FDQ58        7.315          Low Fat         0.015388   \n",
       "4           FDY38        7.315          Regular         0.118599   \n",
       "5           FDH56        9.800          Regular         0.063817   \n",
       "6           FDL48       19.350          Regular         0.082602   \n",
       "7           FDC48       19.350          Low Fat         0.015782   \n",
       "8           FDN33        6.305          Regular         0.123365   \n",
       "9           FDA36        5.985          Low Fat         0.005698   \n",
       "\n",
       "               Item_Type  Item_MRP Outlet_Identifier  \\\n",
       "0            Snack Foods  107.8622            OUT049   \n",
       "1                  Dairy   87.3198            OUT017   \n",
       "2                 Others  241.7538            OUT010   \n",
       "3            Snack Foods  155.0340            OUT017   \n",
       "4                  Dairy  234.2300            OUT027   \n",
       "5  Fruits and Vegetables  117.1492            OUT046   \n",
       "6           Baking Goods   50.1034            OUT018   \n",
       "7           Baking Goods   81.0592            OUT027   \n",
       "8            Snack Foods   95.7436            OUT045   \n",
       "9           Baking Goods  186.8924            OUT017   \n",
       "\n",
       "   Outlet_Establishment_Year Outlet_Size Outlet_Location_Type  \\\n",
       "0                       1999      Medium               Tier 1   \n",
       "1                       2007      Medium               Tier 2   \n",
       "2                       1998      Medium               Tier 3   \n",
       "3                       2007      Medium               Tier 2   \n",
       "4                       1985      Medium               Tier 3   \n",
       "5                       1997       Small               Tier 1   \n",
       "6                       2009      Medium               Tier 3   \n",
       "7                       1985      Medium               Tier 3   \n",
       "8                       2002      Medium               Tier 2   \n",
       "9                       2007      Medium               Tier 2   \n",
       "\n",
       "         Outlet_Type  \n",
       "0  Supermarket Type1  \n",
       "1  Supermarket Type1  \n",
       "2      Grocery Store  \n",
       "3  Supermarket Type1  \n",
       "4  Supermarket Type3  \n",
       "5  Supermarket Type1  \n",
       "6  Supermarket Type2  \n",
       "7  Supermarket Type3  \n",
       "8  Supermarket Type1  \n",
       "9  Supermarket Type1  "
      ]
     },
     "execution_count": 27,
     "metadata": {},
     "output_type": "execute_result"
    }
   ],
   "source": [
    "naru3.head(10)"
   ]
  },
  {
   "cell_type": "code",
   "execution_count": 28,
   "id": "2eb479a5",
   "metadata": {},
   "outputs": [],
   "source": [
    "#Outlet_Establishment_Year is quite useless as it is, making a new column with the age the new name will be Outlet_Age\n",
    "naru['Outlet_Age'], ns['Outlet_Age']= naru['Outlet_Establishment_Year'].apply(lambda year: 2020 - year), ns['Outlet_Establishment_Year'].apply(lambda year: 2020 - year)\n"
   ]
  },
  {
   "cell_type": "code",
   "execution_count": 29,
   "id": "08ee9970",
   "metadata": {},
   "outputs": [
    {
     "name": "stdout",
     "output_type": "stream",
     "text": [
      "test mode, train mode\n",
      " ['Medium', 'Medium']\n"
     ]
    }
   ],
   "source": [
    "print(\"test mode, train mode\\n\",[naru['Outlet_Size'].mode().values[0], ns['Outlet_Size'].mode().values[0]])"
   ]
  },
  {
   "cell_type": "code",
   "execution_count": 30,
   "id": "8a9ab3be",
   "metadata": {},
   "outputs": [
    {
     "data": {
      "text/plain": [
       "(0, 0)"
      ]
     },
     "execution_count": 30,
     "metadata": {},
     "output_type": "execute_result"
    }
   ],
   "source": [
    "naru['Outlet_Size'] = naru['Outlet_Size'].fillna(\n",
    "naru['Outlet_Size'].dropna().mode().values[0])\n",
    "\n",
    "#test\n",
    "ns['Outlet_Size'] = ns['Outlet_Size'].fillna(\n",
    "ns['Outlet_Size'].dropna().mode().values[0])\n",
    "\n",
    "#checking if we filled missing values\n",
    "naru['Outlet_Size'].isnull().sum(),ns['Outlet_Size'].isnull().sum()"
   ]
  },
  {
   "cell_type": "code",
   "execution_count": 31,
   "id": "d688d21e",
   "metadata": {},
   "outputs": [
    {
     "data": {
      "text/plain": [
       "(0, 0)"
      ]
     },
     "execution_count": 31,
     "metadata": {},
     "output_type": "execute_result"
    }
   ],
   "source": [
    "naru['Item_Weight'] = naru['Item_Weight'].fillna(\n",
    "naru['Item_Weight'].dropna().mean())\n",
    "\n",
    "#test\n",
    "ns['Item_Weight'] = ns['Item_Weight'].fillna(\n",
    "ns['Item_Weight'].dropna().mean())\n",
    "\n",
    "#checking if we filled missing values\n",
    "naru['Item_Weight'].isnull().sum(),ns['Item_Weight'].isnull().sum()"
   ]
  },
  {
   "cell_type": "markdown",
   "id": "c9a7212e",
   "metadata": {},
   "source": [
    "## Exploratory Data Analysis "
   ]
  },
  {
   "cell_type": "code",
   "execution_count": 32,
   "id": "437744eb",
   "metadata": {},
   "outputs": [],
   "source": [
    "# Handling duplicates "
   ]
  },
  {
   "cell_type": "code",
   "execution_count": 33,
   "id": "5022a5a5",
   "metadata": {},
   "outputs": [],
   "source": [
    "Dupli = naru.duplicated()"
   ]
  },
  {
   "cell_type": "code",
   "execution_count": 34,
   "id": "4f09cb0e",
   "metadata": {},
   "outputs": [
    {
     "name": "stdout",
     "output_type": "stream",
     "text": [
      "0\n"
     ]
    }
   ],
   "source": [
    "print(Dupli.sum())"
   ]
  },
  {
   "cell_type": "code",
   "execution_count": 35,
   "id": "1f760433",
   "metadata": {},
   "outputs": [
    {
     "data": {
      "image/png": "[encoded data removed]",
      "text/plain": [
       "<Figure size 432x288 with 1 Axes>"
      ]
     },
     "metadata": {},
     "output_type": "display_data"
    }
   ],
   "source": [
    "['Item_Identifier', 'Item_Fat_Content', 'Item_Type', 'Outlet_Identifier',\n",
    " 'Outlet_Size', 'Outlet_Location_Type', 'Outlet_Type']\n",
    "\n",
    "plt.figure(figsize=(6,4))\n",
    "sns.countplot(x='Item_Fat_Content' , data=naru ,palette='mako')\n",
    "plt.xlabel('Item_Fat_Content', fontsize=14)\n",
    "plt.show()"
   ]
  },
  {
   "cell_type": "code",
   "execution_count": 36,
   "id": "dc3bfb1c",
   "metadata": {},
   "outputs": [
    {
     "data": {
      "image/png": "[encoded data removed]",
      "text/plain": [
       "<Figure size 1944x720 with 1 Axes>"
      ]
     },
     "metadata": {},
     "output_type": "display_data"
    }
   ],
   "source": [
    "plt.figure(figsize=(27,10))\n",
    "sns.countplot(x='Item_Type' , data=naru ,palette='summer')\n",
    "plt.xlabel('Item_Type', fontsize=16)\n",
    "plt.show()"
   ]
  },
  {
   "cell_type": "code",
   "execution_count": 37,
   "id": "f2ef858c",
   "metadata": {},
   "outputs": [
    {
     "data": {
      "image/png": "[encoded data removed]",
      "text/plain": [
       "<Figure size 1080x288 with 1 Axes>"
      ]
     },
     "metadata": {},
     "output_type": "display_data"
    }
   ],
   "source": [
    "plt.figure(figsize=(15,4))\n",
    "sns.countplot(x='Outlet_Identifier' , data=naru ,palette='winter')\n",
    "plt.xlabel('Outlet_Identifier', fontsize=14)\n",
    "plt.show()"
   ]
  },
  {
   "cell_type": "code",
   "execution_count": 38,
   "id": "3d80fd7a",
   "metadata": {},
   "outputs": [
    {
     "data": {
      "image/png": "[encoded data removed]",
      "text/plain": [
       "<Figure size 720x288 with 1 Axes>"
      ]
     },
     "metadata": {},
     "output_type": "display_data"
    }
   ],
   "source": [
    "plt.figure(figsize=(10,4))\n",
    "sns.countplot(x='Outlet_Size' , data=naru ,palette='autumn')\n",
    "plt.xlabel('Outlet_Size', fontsize=14)\n",
    "plt.show()"
   ]
  },
  {
   "cell_type": "code",
   "execution_count": 39,
   "id": "3820a115",
   "metadata": {},
   "outputs": [
    {
     "data": {
      "image/png": "[encoded data removed]",
      "text/plain": [
       "<Figure size 720x288 with 1 Axes>"
      ]
     },
     "metadata": {},
     "output_type": "display_data"
    }
   ],
   "source": [
    "plt.figure(figsize=(10,4))\n",
    "sns.countplot(x='Outlet_Location_Type' , data=naru ,palette='twilight_shifted')\n",
    "plt.xlabel('Outlet_Location_Type', fontsize=14)\n",
    "plt.show()"
   ]
  },
  {
   "cell_type": "code",
   "execution_count": 40,
   "id": "bcf69348",
   "metadata": {},
   "outputs": [
    {
     "data": {
      "image/png": "[encoded data removed]",
      "text/plain": [
       "<Figure size 720x288 with 1 Axes>"
      ]
     },
     "metadata": {},
     "output_type": "display_data"
    }
   ],
   "source": [
    "plt.figure(figsize=(10,4))\n",
    "sns.countplot(x='Outlet_Type' , data=naru ,palette='rocket')\n",
    "plt.xlabel('Outlet_Type', fontsize=14)\n",
    "plt.show()"
   ]
  },
  {
   "cell_type": "markdown",
   "id": "2b330d60",
   "metadata": {},
   "source": [
    "#### Realizations from Categorical columns"
   ]
  },
  {
   "cell_type": "code",
   "execution_count": 41,
   "id": "16875273",
   "metadata": {},
   "outputs": [],
   "source": [
    "#1.Item_Fat_Content - Most items sold are low fat.\n",
    "#2.Item_Type - Item types that are distictly popular are fruits and vegetables and snack foods.\n",
    "#3.Outlet_Identifier - Sold items are ditributed evenly among outlets excluding OUT010 and OUT019 that are significanly lower.\n",
    "#4.Outlet_Size - Bigmart outlets are mostly medium sized in our data.\n",
    "#5.Outlet_Location_Type - The most common type is Tier3.\n",
    "#6.Outlet_Type - By a wide margin the mode outlet type is Supermarket Type1."
   ]
  },
  {
   "cell_type": "code",
   "execution_count": 42,
   "id": "23c86ad5",
   "metadata": {},
   "outputs": [
    {
     "data": {
      "image/png": "[encoded data removed]",
      "text/plain": [
       "<Figure size 432x288 with 1 Axes>"
      ]
     },
     "metadata": {},
     "output_type": "display_data"
    }
   ],
   "source": [
    "num = ns.select_dtypes('number').columns.to_list()\n",
    "BM_num =  ns[num]\n",
    "\n",
    "plt.hist(ns['Outlet_Age'])\n",
    "plt.title(\"Outlet_Age\")\n",
    "plt.show()"
   ]
  },
  {
   "cell_type": "code",
   "execution_count": 43,
   "id": "70e54784",
   "metadata": {},
   "outputs": [
    {
     "data": {
      "image/png": "[encoded data removed]",
      "text/plain": [
       "<Figure size 432x288 with 1 Axes>"
      ]
     },
     "metadata": {},
     "output_type": "display_data"
    },
    {
     "data": {
      "image/png": "[encoded data removed]",
      "text/plain": [
       "<Figure size 432x288 with 1 Axes>"
      ]
     },
     "metadata": {},
     "output_type": "display_data"
    },
    {
     "data": {
      "image/png": "[encoded data removed]",
      "text/plain": [
       "<Figure size 432x288 with 1 Axes>"
      ]
     },
     "metadata": {},
     "output_type": "display_data"
    }
   ],
   "source": [
    "for numeric in BM_num[num[:3]]:\n",
    "    plt.scatter(BM_num[numeric], BM_num['Item_Outlet_Sales'])\n",
    "    plt.title(numeric)\n",
    "    plt.ylabel('Item_Outlet_Sales')\n",
    "    plt.show()"
   ]
  },
  {
   "cell_type": "code",
   "execution_count": 44,
   "id": "fd1df83c",
   "metadata": {},
   "outputs": [
    {
     "data": {
      "image/png": "[encoded data removed]",
      "text/plain": [
       "<Figure size 432x288 with 1 Axes>"
      ]
     },
     "metadata": {},
     "output_type": "display_data"
    }
   ],
   "source": [
    "naru.boxplot(column=[\"Item_Weight\"])\n",
    "plt.show() #There is no outlier in this column"
   ]
  },
  {
   "cell_type": "code",
   "execution_count": 45,
   "id": "ed35f9a8",
   "metadata": {},
   "outputs": [
    {
     "data": {
      "image/png": "[encoded data removed]",
      "text/plain": [
       "<Figure size 432x288 with 1 Axes>"
      ]
     },
     "metadata": {},
     "output_type": "display_data"
    }
   ],
   "source": [
    "naru.boxplot(column=[\"Item_MRP\"])\n",
    "plt.show()"
   ]
  },
  {
   "cell_type": "code",
   "execution_count": 46,
   "id": "df86d5fc",
   "metadata": {},
   "outputs": [
    {
     "data": {
      "image/png": "[encoded data removed]",
      "text/plain": [
       "<Figure size 432x288 with 1 Axes>"
      ]
     },
     "metadata": {},
     "output_type": "display_data"
    }
   ],
   "source": [
    "naru.boxplot(column=[\"Item_Visibility\"])\n",
    "plt.show() #There are outliers in this column"
   ]
  },
  {
   "cell_type": "markdown",
   "id": "f31c85ab",
   "metadata": {},
   "source": [
    "## Removing outliers"
   ]
  },
  {
   "cell_type": "code",
   "execution_count": 47,
   "id": "97862c18",
   "metadata": {},
   "outputs": [
    {
     "data": {
      "text/plain": [
       "0.06568385968808292"
      ]
     },
     "execution_count": 47,
     "metadata": {},
     "output_type": "execute_result"
    }
   ],
   "source": [
    "naru[\"Item_Visibility\"].mean()"
   ]
  },
  {
   "cell_type": "code",
   "execution_count": 48,
   "id": "b8d3d520",
   "metadata": {},
   "outputs": [],
   "source": [
    "out = naru[naru[\"Item_Visibility\"]<0.18]"
   ]
  },
  {
   "cell_type": "code",
   "execution_count": 49,
   "id": "f177aadd",
   "metadata": {},
   "outputs": [
    {
     "data": {
      "image/png": "[encoded data removed]",
      "text/plain": [
       "<Figure size 432x288 with 1 Axes>"
      ]
     },
     "metadata": {},
     "output_type": "display_data"
    }
   ],
   "source": [
    "out.boxplot(column=[\"Item_Visibility\"])\n",
    "plt.show() #Successfully removed outliers"
   ]
  },
  {
   "cell_type": "code",
   "execution_count": 50,
   "id": "d3dbc993",
   "metadata": {},
   "outputs": [
    {
     "data": {
      "text/plain": [
       "0.0612341265667268"
      ]
     },
     "execution_count": 50,
     "metadata": {},
     "output_type": "execute_result"
    }
   ],
   "source": [
    "out[\"Item_Visibility\"].mean()"
   ]
  },
  {
   "cell_type": "markdown",
   "id": "ca27a02c",
   "metadata": {},
   "source": [
    "### Univariate analysis for outlet type"
   ]
  },
  {
   "cell_type": "code",
   "execution_count": 51,
   "id": "0a7f0652",
   "metadata": {},
   "outputs": [],
   "source": [
    "out_Sf = naru3.loc[naru['Item_Type'] == 'Snack Foods']"
   ]
  },
  {
   "cell_type": "code",
   "execution_count": 52,
   "id": "717ec411",
   "metadata": {},
   "outputs": [],
   "source": [
    "out_Da = naru3.loc[naru['Item_Type'] == 'Dairy']"
   ]
  },
  {
   "cell_type": "code",
   "execution_count": 53,
   "id": "9a53687f",
   "metadata": {},
   "outputs": [],
   "source": [
    "out_ot = naru3.loc[naru['Item_Type'] == 'Other']"
   ]
  },
  {
   "cell_type": "code",
   "execution_count": 54,
   "id": "0a94dd8c",
   "metadata": {},
   "outputs": [],
   "source": [
    "out_fv = naru3.loc[naru['Item_Type'] == 'Fruits and Vegetables']"
   ]
  },
  {
   "cell_type": "code",
   "execution_count": 55,
   "id": "7cf62953",
   "metadata": {},
   "outputs": [
    {
     "data": {
      "image/png": "[encoded data removed]",
      "text/plain": [
       "<Figure size 432x288 with 1 Axes>"
      ]
     },
     "metadata": {},
     "output_type": "display_data"
    }
   ],
   "source": [
    "plt.plot(out_Sf['Item_Visibility'],np.zeros_like(out_Sf['Item_Visibility']),'o')\n",
    "plt.plot(out_Da['Item_Visibility'],np.zeros_like(out_Da['Item_Visibility']),'o')\n",
    "plt.plot(out_ot['Item_Visibility'],np.zeros_like(out_ot['Item_Visibility']),'o')\n",
    "plt.plot(out_fv['Item_Visibility'],np.zeros_like(out_fv['Item_Visibility']),'o')\n",
    "plt.xlabel('Item_Visibility')\n",
    "plt.show()"
   ]
  },
  {
   "cell_type": "markdown",
   "id": "3f5687d4",
   "metadata": {},
   "source": [
    "## Bivariate analysis"
   ]
  },
  {
   "cell_type": "code",
   "execution_count": 56,
   "id": "8bfd3234",
   "metadata": {},
   "outputs": [
    {
     "data": {
      "image/png": "[encoded data removed]",
      "text/plain": [
       "<Figure size 506.1x360 with 1 Axes>"
      ]
     },
     "metadata": {},
     "output_type": "display_data"
    }
   ],
   "source": [
    "sns.FacetGrid(naru3,hue='Item_Type',size=5).map(plt.scatter,'Item_Visibility','Item_Fat_Content').add_legend();\n",
    "plt.show()"
   ]
  },
  {
   "cell_type": "markdown",
   "id": "6ba88824",
   "metadata": {},
   "source": [
    "### Corraltion Matrix"
   ]
  },
  {
   "cell_type": "code",
   "execution_count": 57,
   "id": "96fee0a1",
   "metadata": {},
   "outputs": [
    {
     "data": {
      "text/plain": [
       "<AxesSubplot:>"
      ]
     },
     "execution_count": 57,
     "metadata": {},
     "output_type": "execute_result"
    },
    {
     "data": {
      "image/png": "[encoded data removed]",
      "text/plain": [
       "<Figure size 432x288 with 2 Axes>"
      ]
     },
     "metadata": {},
     "output_type": "display_data"
    }
   ],
   "source": [
    "sns.heatmap(naru.corr() ,cmap='rocket')"
   ]
  },
  {
   "cell_type": "markdown",
   "id": "65932881",
   "metadata": {},
   "source": [
    "### Feature Engineering\n",
    "**Categorical values**:\n",
    "\n",
    "We have 7 columns we need to delete or encode.\n",
    "\n",
    "* Ordinal variables:\n",
    "    * `Item_Fat_Content`  \n",
    "    * `Outlet_Size`  \n",
    "    * `Outlet_Location_Type`\n",
    "    \n",
    "* Nominal variables:\n",
    "    * `Item_Identifier `  \n",
    "    * `Item_Type`\n",
    "    * `Outlet_Identifier`\n",
    "    * `Outlet_Type`\n",
    "\n",
    "**Numeric values**:\n",
    "\n",
    "* From the numeric variables `Outlet_Establishment_Year` is no longer needed\n",
    "\n",
    "**Conclusion:**\n",
    "\n",
    "In my FE process i have decided:\n",
    "\n",
    "1. The columns `Outlet_Establishment_Year`, `Item_Identifier ` and `Outlet_Identifier` don't have significant values so we will drop them.\n",
    "2. All Ordinal variables will be Label encoded.\n",
    "3. The columns `Outlet_Type` and `Item_Type`  will be One Hot encoded.\n",
    "\n"
   ]
  },
  {
   "cell_type": "code",
   "execution_count": 58,
   "id": "e50f84a0",
   "metadata": {},
   "outputs": [
    {
     "data": {
      "text/plain": [
       "Item_Identifier         1543\n",
       "Item_Fat_Content           3\n",
       "Item_Type                 16\n",
       "Outlet_Identifier         10\n",
       "Outlet_Size                3\n",
       "Outlet_Location_Type       3\n",
       "Outlet_Type                4\n",
       "dtype: int64"
      ]
     },
     "execution_count": 58,
     "metadata": {},
     "output_type": "execute_result"
    }
   ],
   "source": [
    "BM_cat.apply(lambda x: x.nunique()) #checking the number of unique values in each column"
   ]
  },
  {
   "cell_type": "code",
   "execution_count": 59,
   "id": "f0778d54",
   "metadata": {},
   "outputs": [
    {
     "data": {
      "text/html": [
       "<div>\n",
       "<style scoped>\n",
       "    .dataframe tbody tr th:only-of-type {\n",
       "        vertical-align: middle;\n",
       "    }\n",
       "\n",
       "    .dataframe tbody tr th {\n",
       "        vertical-align: top;\n",
       "    }\n",
       "\n",
       "    .dataframe thead th {\n",
       "        text-align: right;\n",
       "    }\n",
       "</style>\n",
       "<table border=\"1\" class=\"dataframe\">\n",
       "  <thead>\n",
       "    <tr style=\"text-align: right;\">\n",
       "      <th></th>\n",
       "      <th>Item_Identifier</th>\n",
       "      <th>Item_Weight</th>\n",
       "      <th>Item_Fat_Content</th>\n",
       "      <th>Item_Visibility</th>\n",
       "      <th>Item_Type</th>\n",
       "      <th>Item_MRP</th>\n",
       "      <th>Outlet_Identifier</th>\n",
       "      <th>Outlet_Establishment_Year</th>\n",
       "      <th>Outlet_Size</th>\n",
       "      <th>Outlet_Location_Type</th>\n",
       "      <th>Outlet_Type</th>\n",
       "      <th>Outlet_Age</th>\n",
       "    </tr>\n",
       "  </thead>\n",
       "  <tbody>\n",
       "    <tr>\n",
       "      <th>0</th>\n",
       "      <td>FDW58</td>\n",
       "      <td>20.750000</td>\n",
       "      <td>0</td>\n",
       "      <td>0.007565</td>\n",
       "      <td>Snack Foods</td>\n",
       "      <td>107.8622</td>\n",
       "      <td>OUT049</td>\n",
       "      <td>1999</td>\n",
       "      <td>1</td>\n",
       "      <td>0</td>\n",
       "      <td>Supermarket Type1</td>\n",
       "      <td>21</td>\n",
       "    </tr>\n",
       "    <tr>\n",
       "      <th>1</th>\n",
       "      <td>FDW14</td>\n",
       "      <td>8.300000</td>\n",
       "      <td>1</td>\n",
       "      <td>0.038428</td>\n",
       "      <td>Dairy</td>\n",
       "      <td>87.3198</td>\n",
       "      <td>OUT017</td>\n",
       "      <td>2007</td>\n",
       "      <td>1</td>\n",
       "      <td>1</td>\n",
       "      <td>Supermarket Type1</td>\n",
       "      <td>13</td>\n",
       "    </tr>\n",
       "    <tr>\n",
       "      <th>2</th>\n",
       "      <td>NCN55</td>\n",
       "      <td>14.600000</td>\n",
       "      <td>0</td>\n",
       "      <td>0.099575</td>\n",
       "      <td>Others</td>\n",
       "      <td>241.7538</td>\n",
       "      <td>OUT010</td>\n",
       "      <td>1998</td>\n",
       "      <td>1</td>\n",
       "      <td>2</td>\n",
       "      <td>Grocery Store</td>\n",
       "      <td>22</td>\n",
       "    </tr>\n",
       "    <tr>\n",
       "      <th>3</th>\n",
       "      <td>FDQ58</td>\n",
       "      <td>7.315000</td>\n",
       "      <td>0</td>\n",
       "      <td>0.015388</td>\n",
       "      <td>Snack Foods</td>\n",
       "      <td>155.0340</td>\n",
       "      <td>OUT017</td>\n",
       "      <td>2007</td>\n",
       "      <td>1</td>\n",
       "      <td>1</td>\n",
       "      <td>Supermarket Type1</td>\n",
       "      <td>13</td>\n",
       "    </tr>\n",
       "    <tr>\n",
       "      <th>4</th>\n",
       "      <td>FDY38</td>\n",
       "      <td>12.695633</td>\n",
       "      <td>1</td>\n",
       "      <td>0.118599</td>\n",
       "      <td>Dairy</td>\n",
       "      <td>234.2300</td>\n",
       "      <td>OUT027</td>\n",
       "      <td>1985</td>\n",
       "      <td>1</td>\n",
       "      <td>2</td>\n",
       "      <td>Supermarket Type3</td>\n",
       "      <td>35</td>\n",
       "    </tr>\n",
       "  </tbody>\n",
       "</table>\n",
       "</div>"
      ],
      "text/plain": [
       "  Item_Identifier  Item_Weight  Item_Fat_Content  Item_Visibility  \\\n",
       "0           FDW58    20.750000                 0         0.007565   \n",
       "1           FDW14     8.300000                 1         0.038428   \n",
       "2           NCN55    14.600000                 0         0.099575   \n",
       "3           FDQ58     7.315000                 0         0.015388   \n",
       "4           FDY38    12.695633                 1         0.118599   \n",
       "\n",
       "     Item_Type  Item_MRP Outlet_Identifier  Outlet_Establishment_Year  \\\n",
       "0  Snack Foods  107.8622            OUT049                       1999   \n",
       "1        Dairy   87.3198            OUT017                       2007   \n",
       "2       Others  241.7538            OUT010                       1998   \n",
       "3  Snack Foods  155.0340            OUT017                       2007   \n",
       "4        Dairy  234.2300            OUT027                       1985   \n",
       "\n",
       "   Outlet_Size  Outlet_Location_Type        Outlet_Type  Outlet_Age  \n",
       "0            1                     0  Supermarket Type1          21  \n",
       "1            1                     1  Supermarket Type1          13  \n",
       "2            1                     2      Grocery Store          22  \n",
       "3            1                     1  Supermarket Type1          13  \n",
       "4            1                     2  Supermarket Type3          35  "
      ]
     },
     "execution_count": 59,
     "metadata": {},
     "output_type": "execute_result"
    }
   ],
   "source": [
    "#lable encoding\n",
    "\n",
    "le = LabelEncoder()\n",
    "Label = ['Item_Fat_Content','Outlet_Size','Outlet_Location_Type']\n",
    "\n",
    "for i in Label:\n",
    "    naru[i] = le.fit_transform(naru[i])\n",
    "    ns[i] = le.fit_transform(ns[i])\n",
    "\n",
    "naru.head()"
   ]
  },
  {
   "cell_type": "code",
   "execution_count": 60,
   "id": "e5de4a50",
   "metadata": {},
   "outputs": [],
   "source": [
    "#one hot encoding\n",
    "cols = ['Item_Type','Outlet_Type']\n",
    "# Apply one-hot encoder\n",
    "OH_encoder = OneHotEncoder(handle_unknown='ignore', sparse=False)\n",
    "naru_oh = pd.DataFrame(OH_encoder.fit_transform(naru[cols])).astype('int64')\n",
    "ns_oh = pd.DataFrame(OH_encoder.fit_transform(ns[cols])).astype('int64')\n",
    "\n",
    "\n",
    "#get feature columns\n",
    "naru_oh.columns = OH_encoder.get_feature_names(cols)\n",
    "ns_oh.columns = OH_encoder.get_feature_names(cols)\n",
    "\n",
    "# One-hot encoding removed index; put it back\n",
    "naru_oh.index = naru.index\n",
    "ns_oh.index = ns.index\n",
    "\n",
    "# Add one-hot encoded columns to our main df new name: tr_fe, te_fe (means feature engeenired)\n",
    "naru_fe = pd.concat([naru, naru_oh], axis=1)\n",
    "ns_fe = pd.concat([ns, ns_oh], axis=1)"
   ]
  },
  {
   "cell_type": "code",
   "execution_count": 61,
   "id": "03dc773c",
   "metadata": {},
   "outputs": [],
   "source": [
    "# Dropping irrelevant columns\n",
    "\n",
    "naru_fe  = naru_fe.drop(['Item_Identifier','Outlet_Identifier','Outlet_Establishment_Year','Outlet_Type','Item_Type'],axis=1)\n",
    "ns_fe = ns_fe.drop(['Item_Identifier','Outlet_Identifier','Outlet_Establishment_Year','Outlet_Type','Item_Type'],axis=1)"
   ]
  },
  {
   "cell_type": "code",
   "execution_count": 62,
   "id": "1c2247e1",
   "metadata": {},
   "outputs": [
    {
     "data": {
      "text/html": [
       "<div>\n",
       "<style scoped>\n",
       "    .dataframe tbody tr th:only-of-type {\n",
       "        vertical-align: middle;\n",
       "    }\n",
       "\n",
       "    .dataframe tbody tr th {\n",
       "        vertical-align: top;\n",
       "    }\n",
       "\n",
       "    .dataframe thead th {\n",
       "        text-align: right;\n",
       "    }\n",
       "</style>\n",
       "<table border=\"1\" class=\"dataframe\">\n",
       "  <thead>\n",
       "    <tr style=\"text-align: right;\">\n",
       "      <th></th>\n",
       "      <th>Item_Weight</th>\n",
       "      <th>Item_Fat_Content</th>\n",
       "      <th>Item_Visibility</th>\n",
       "      <th>Item_MRP</th>\n",
       "      <th>Outlet_Size</th>\n",
       "      <th>Outlet_Location_Type</th>\n",
       "      <th>Outlet_Age</th>\n",
       "      <th>Item_Type_Baking Goods</th>\n",
       "      <th>Item_Type_Breads</th>\n",
       "      <th>Item_Type_Breakfast</th>\n",
       "      <th>...</th>\n",
       "      <th>Item_Type_Meat</th>\n",
       "      <th>Item_Type_Others</th>\n",
       "      <th>Item_Type_Seafood</th>\n",
       "      <th>Item_Type_Snack Foods</th>\n",
       "      <th>Item_Type_Soft Drinks</th>\n",
       "      <th>Item_Type_Starchy Foods</th>\n",
       "      <th>Outlet_Type_Grocery Store</th>\n",
       "      <th>Outlet_Type_Supermarket Type1</th>\n",
       "      <th>Outlet_Type_Supermarket Type2</th>\n",
       "      <th>Outlet_Type_Supermarket Type3</th>\n",
       "    </tr>\n",
       "  </thead>\n",
       "  <tbody>\n",
       "    <tr>\n",
       "      <th>0</th>\n",
       "      <td>20.750000</td>\n",
       "      <td>0</td>\n",
       "      <td>0.007565</td>\n",
       "      <td>107.8622</td>\n",
       "      <td>1</td>\n",
       "      <td>0</td>\n",
       "      <td>21</td>\n",
       "      <td>0</td>\n",
       "      <td>0</td>\n",
       "      <td>0</td>\n",
       "      <td>...</td>\n",
       "      <td>0</td>\n",
       "      <td>0</td>\n",
       "      <td>0</td>\n",
       "      <td>1</td>\n",
       "      <td>0</td>\n",
       "      <td>0</td>\n",
       "      <td>0</td>\n",
       "      <td>1</td>\n",
       "      <td>0</td>\n",
       "      <td>0</td>\n",
       "    </tr>\n",
       "    <tr>\n",
       "      <th>1</th>\n",
       "      <td>8.300000</td>\n",
       "      <td>1</td>\n",
       "      <td>0.038428</td>\n",
       "      <td>87.3198</td>\n",
       "      <td>1</td>\n",
       "      <td>1</td>\n",
       "      <td>13</td>\n",
       "      <td>0</td>\n",
       "      <td>0</td>\n",
       "      <td>0</td>\n",
       "      <td>...</td>\n",
       "      <td>0</td>\n",
       "      <td>0</td>\n",
       "      <td>0</td>\n",
       "      <td>0</td>\n",
       "      <td>0</td>\n",
       "      <td>0</td>\n",
       "      <td>0</td>\n",
       "      <td>1</td>\n",
       "      <td>0</td>\n",
       "      <td>0</td>\n",
       "    </tr>\n",
       "    <tr>\n",
       "      <th>2</th>\n",
       "      <td>14.600000</td>\n",
       "      <td>0</td>\n",
       "      <td>0.099575</td>\n",
       "      <td>241.7538</td>\n",
       "      <td>1</td>\n",
       "      <td>2</td>\n",
       "      <td>22</td>\n",
       "      <td>0</td>\n",
       "      <td>0</td>\n",
       "      <td>0</td>\n",
       "      <td>...</td>\n",
       "      <td>0</td>\n",
       "      <td>1</td>\n",
       "      <td>0</td>\n",
       "      <td>0</td>\n",
       "      <td>0</td>\n",
       "      <td>0</td>\n",
       "      <td>1</td>\n",
       "      <td>0</td>\n",
       "      <td>0</td>\n",
       "      <td>0</td>\n",
       "    </tr>\n",
       "    <tr>\n",
       "      <th>3</th>\n",
       "      <td>7.315000</td>\n",
       "      <td>0</td>\n",
       "      <td>0.015388</td>\n",
       "      <td>155.0340</td>\n",
       "      <td>1</td>\n",
       "      <td>1</td>\n",
       "      <td>13</td>\n",
       "      <td>0</td>\n",
       "      <td>0</td>\n",
       "      <td>0</td>\n",
       "      <td>...</td>\n",
       "      <td>0</td>\n",
       "      <td>0</td>\n",
       "      <td>0</td>\n",
       "      <td>1</td>\n",
       "      <td>0</td>\n",
       "      <td>0</td>\n",
       "      <td>0</td>\n",
       "      <td>1</td>\n",
       "      <td>0</td>\n",
       "      <td>0</td>\n",
       "    </tr>\n",
       "    <tr>\n",
       "      <th>4</th>\n",
       "      <td>12.695633</td>\n",
       "      <td>1</td>\n",
       "      <td>0.118599</td>\n",
       "      <td>234.2300</td>\n",
       "      <td>1</td>\n",
       "      <td>2</td>\n",
       "      <td>35</td>\n",
       "      <td>0</td>\n",
       "      <td>0</td>\n",
       "      <td>0</td>\n",
       "      <td>...</td>\n",
       "      <td>0</td>\n",
       "      <td>0</td>\n",
       "      <td>0</td>\n",
       "      <td>0</td>\n",
       "      <td>0</td>\n",
       "      <td>0</td>\n",
       "      <td>0</td>\n",
       "      <td>0</td>\n",
       "      <td>0</td>\n",
       "      <td>1</td>\n",
       "    </tr>\n",
       "  </tbody>\n",
       "</table>\n",
       "<p>5 rows × 27 columns</p>\n",
       "</div>"
      ],
      "text/plain": [
       "   Item_Weight  Item_Fat_Content  Item_Visibility  Item_MRP  Outlet_Size  \\\n",
       "0    20.750000                 0         0.007565  107.8622            1   \n",
       "1     8.300000                 1         0.038428   87.3198            1   \n",
       "2    14.600000                 0         0.099575  241.7538            1   \n",
       "3     7.315000                 0         0.015388  155.0340            1   \n",
       "4    12.695633                 1         0.118599  234.2300            1   \n",
       "\n",
       "   Outlet_Location_Type  Outlet_Age  Item_Type_Baking Goods  Item_Type_Breads  \\\n",
       "0                     0          21                       0                 0   \n",
       "1                     1          13                       0                 0   \n",
       "2                     2          22                       0                 0   \n",
       "3                     1          13                       0                 0   \n",
       "4                     2          35                       0                 0   \n",
       "\n",
       "   Item_Type_Breakfast  ...  Item_Type_Meat  Item_Type_Others  \\\n",
       "0                    0  ...               0                 0   \n",
       "1                    0  ...               0                 0   \n",
       "2                    0  ...               0                 1   \n",
       "3                    0  ...               0                 0   \n",
       "4                    0  ...               0                 0   \n",
       "\n",
       "   Item_Type_Seafood  Item_Type_Snack Foods  Item_Type_Soft Drinks  \\\n",
       "0                  0                      1                      0   \n",
       "1                  0                      0                      0   \n",
       "2                  0                      0                      0   \n",
       "3                  0                      1                      0   \n",
       "4                  0                      0                      0   \n",
       "\n",
       "   Item_Type_Starchy Foods  Outlet_Type_Grocery Store  \\\n",
       "0                        0                          0   \n",
       "1                        0                          0   \n",
       "2                        0                          1   \n",
       "3                        0                          0   \n",
       "4                        0                          0   \n",
       "\n",
       "   Outlet_Type_Supermarket Type1  Outlet_Type_Supermarket Type2  \\\n",
       "0                              1                              0   \n",
       "1                              1                              0   \n",
       "2                              0                              0   \n",
       "3                              1                              0   \n",
       "4                              0                              0   \n",
       "\n",
       "   Outlet_Type_Supermarket Type3  \n",
       "0                              0  \n",
       "1                              0  \n",
       "2                              0  \n",
       "3                              0  \n",
       "4                              1  \n",
       "\n",
       "[5 rows x 27 columns]"
      ]
     },
     "execution_count": 62,
     "metadata": {},
     "output_type": "execute_result"
    }
   ],
   "source": [
    "naru_fe.head()"
   ]
  },
  {
   "cell_type": "code",
   "execution_count": 63,
   "id": "d7e1b8af",
   "metadata": {},
   "outputs": [],
   "source": [
    "naru_fe = naru.fillna(method = \"pad\")"
   ]
  },
  {
   "cell_type": "code",
   "execution_count": 64,
   "id": "b742aba1",
   "metadata": {},
   "outputs": [
    {
     "data": {
      "text/plain": [
       "Item_Identifier              0\n",
       "Item_Weight                  0\n",
       "Item_Fat_Content             0\n",
       "Item_Visibility              0\n",
       "Item_Type                    0\n",
       "Item_MRP                     0\n",
       "Outlet_Identifier            0\n",
       "Outlet_Establishment_Year    0\n",
       "Outlet_Size                  0\n",
       "Outlet_Location_Type         0\n",
       "Outlet_Type                  0\n",
       "Outlet_Age                   0\n",
       "dtype: int64"
      ]
     },
     "execution_count": 64,
     "metadata": {},
     "output_type": "execute_result"
    }
   ],
   "source": [
    "naru_fe.isnull().sum()"
   ]
  },
  {
   "cell_type": "code",
   "execution_count": 65,
   "id": "b3589733",
   "metadata": {},
   "outputs": [
    {
     "data": {
      "text/plain": [
       "Item_Weight                        0\n",
       "Item_Fat_Content                   0\n",
       "Item_Visibility                    0\n",
       "Item_MRP                           0\n",
       "Outlet_Size                        0\n",
       "Outlet_Location_Type               0\n",
       "Item_Outlet_Sales                  0\n",
       "Outlet_Age                         0\n",
       "Item_Type_Baking Goods             0\n",
       "Item_Type_Breads                   0\n",
       "Item_Type_Breakfast                0\n",
       "Item_Type_Canned                   0\n",
       "Item_Type_Dairy                    0\n",
       "Item_Type_Frozen Foods             0\n",
       "Item_Type_Fruits and Vegetables    0\n",
       "Item_Type_Hard Drinks              0\n",
       "Item_Type_Health and Hygiene       0\n",
       "Item_Type_Household                0\n",
       "Item_Type_Meat                     0\n",
       "Item_Type_Others                   0\n",
       "Item_Type_Seafood                  0\n",
       "Item_Type_Snack Foods              0\n",
       "Item_Type_Soft Drinks              0\n",
       "Item_Type_Starchy Foods            0\n",
       "Outlet_Type_Grocery Store          0\n",
       "Outlet_Type_Supermarket Type1      0\n",
       "Outlet_Type_Supermarket Type2      0\n",
       "Outlet_Type_Supermarket Type3      0\n",
       "dtype: int64"
      ]
     },
     "execution_count": 65,
     "metadata": {},
     "output_type": "execute_result"
    }
   ],
   "source": [
    "ns_fe.isnull().sum()"
   ]
  },
  {
   "cell_type": "markdown",
   "id": "0a13fee6",
   "metadata": {},
   "source": [
    "### Machine learning models\n",
    "\n",
    "\n",
    "First of all we will divide our dataset into two variables X as the features we defined earlier and y as the Item_Outlet_Sales the target value we want to predict.\n",
    "\n",
    "Assumptions:\n",
    "\n",
    "This is a regression problem so we will use Regression methods.\n",
    "\n",
    "Train test split will be a 8:2 ratio respectively.\n",
    "\n",
    "Models we will use:\n",
    "Linear Regression\n",
    "Random Forest Regressor\n",
    "Lasso Regressor\n",
    "The Process of Modeling the Data:\n",
    "Importing the model\n",
    "\n",
    "Fitting the model\n",
    "\n",
    "Predicting Item Outlet Sales\n",
    "\n",
    "Regression metrics\n",
    "\n",
    "Score Metrics for Regression:\n",
    "Mean Absolute Error (MAE) - Mean of the absolute value of errors (absolute distance from true value): \n",
    "\n",
    "Mean Squared Error (MSE) - Mean of the squared value of errors (squared distance from true value): \n",
    "\n",
    "R^2 (coefficient of determination) - Regression score function.: "
   ]
  },
  {
   "cell_type": "code",
   "execution_count": 66,
   "id": "175a8ef3",
   "metadata": {},
   "outputs": [],
   "source": [
    "y = ns_fe['Item_Outlet_Sales']\n",
    "X = ns_fe.drop('Item_Outlet_Sales', axis = 1)\n",
    "X_train, X_test, y_train, y_test = train_test_split(X, y, test_size = 0.8, random_state = 0)"
   ]
  },
  {
   "cell_type": "code",
   "execution_count": 67,
   "id": "14b5cecb",
   "metadata": {},
   "outputs": [],
   "source": [
    "def cross_val(model_name,model,X,y,cv):\n",
    "\n",
    "    scores = CVS(model, X, y, cv=cv)\n",
    "    print(f'{model_name} Scores:')\n",
    "    for i in scores:\n",
    "        print(round(i,2))\n",
    "    print(f'Average {model_name} score: {round(scores.mean(),4)}')"
   ]
  },
  {
   "cell_type": "markdown",
   "id": "4fd6b9d1",
   "metadata": {},
   "source": [
    "### Linear Regression\n",
    "\n",
    "\n",
    "In statistics, linear regression is a linear approach to modelling the relationship between a scalar response (or dependent variable) and one or more explanatory variables (or independent variables).\n",
    "\n",
    "Linear regression was the first type of regression analysis to be studied rigorously, and to be used extensively in practical applications. This is because models which depend linearly on their unknown parameters are easier to fit than models which are non-linearly related to their parameters and because the statistical properties of the resulting estimators are easier to determine (more info on wikipedia)."
   ]
  },
  {
   "cell_type": "code",
   "execution_count": 68,
   "id": "d01eb92b",
   "metadata": {},
   "outputs": [
    {
     "name": "stdout",
     "output_type": "stream",
     "text": [
      " Mean Absolute Error: 838.15\n",
      "\n",
      " Mean Squared Error: 1285773.84\n",
      "\n",
      " R^2 Score: 0.5593\n",
      "\n",
      "LinearRegression(normalize=True) Scores:\n",
      "0.57\n",
      "0.55\n",
      "0.55\n",
      "0.56\n",
      "0.56\n",
      "Average LinearRegression(normalize=True) score: 0.558\n"
     ]
    }
   ],
   "source": [
    "LR = LinearRegression(normalize=True)\n",
    "\n",
    "#fit\n",
    "LR.fit(X_train, y_train)\n",
    "\n",
    "#predict\n",
    "y_predict = LR.predict(X_test)\n",
    "\n",
    "#score variables\n",
    "LR_MAE = round(MAE(y_test, y_predict),2)\n",
    "LR_MSE = round(MSE(y_test, y_predict),2)\n",
    "LR_R_2 = round(R2(y_test, y_predict),4)\n",
    "LR_CS  = round(CVS(LR, X, y, cv=5).mean(),4)\n",
    "\n",
    "print(f\" Mean Absolute Error: {LR_MAE}\\n\")\n",
    "print(f\" Mean Squared Error: {LR_MSE}\\n\")\n",
    "print(f\" R^2 Score: {LR_R_2}\\n\")\n",
    "cross_val(LR,LinearRegression(),X,y,5)"
   ]
  },
  {
   "cell_type": "markdown",
   "id": "62bcc63e",
   "metadata": {},
   "source": [
    "### Random Forest Regressor\n",
    "\n",
    "\n",
    "Random forest is a Supervised Learning algorithm which uses ensemble learning method for classification and regression. It operates by constructing a multitude of decision trees at training time and outputting the class that is the mode of the classes (classification) or mean prediction (regression) of the individual trees."
   ]
  },
  {
   "cell_type": "code",
   "execution_count": 70,
   "id": "a6fb937c",
   "metadata": {},
   "outputs": [
    {
     "name": "stdout",
     "output_type": "stream",
     "text": [
      " Mean Absolute Error: 1030.25\n",
      "\n",
      " Mean Squared Error: 1963936.78\n",
      "\n",
      " R^2 Score: 0.3268\n",
      "\n",
      "RandomForestRegressor(max_depth=5, min_samples_leaf=100, n_estimators=200,\n",
      "                      n_jobs=4, random_state=101) Scores:\n",
      "0.57\n",
      "0.53\n",
      "0.53\n",
      "0.56\n",
      "0.56\n",
      "Average RandomForestRegressor(max_depth=5, min_samples_leaf=100, n_estimators=200,\n",
      "                      n_jobs=4, random_state=101) score: 0.5495\n"
     ]
    }
   ],
   "source": [
    "RFR= RandomForestRegressor(n_estimators=200,max_depth=5, min_samples_leaf=100,n_jobs=4,random_state=101)\n",
    "#fit\n",
    "RFR.fit(X_train, y_train)\n",
    "#predict\n",
    "y_predict = RFR.predict(X_test)\n",
    "\n",
    "#score variables\n",
    "RFR_MAE = round(MAE(y_test, y_predict),2)\n",
    "RFR_MSE = round(MSE(y_test, y_predict),2)\n",
    "RFR_R_2 = round(R2(y_test, y_predict),4)\n",
    "RFR_CS  = round(CVS(RFR, X, y, cv=5).mean(),4)\n",
    "\n",
    "\n",
    "\n",
    "print(f\" Mean Absolute Error: {RFR_MAE}\\n\")\n",
    "print(f\" Mean Squared Error: {RFR_MSE}\\n\")\n",
    "print(f\" R^2 Score: {RFR_R_2}\\n\")\n",
    "cross_val(RFR,RandomForestRegressor(),X,y,5)\n"
   ]
  },
  {
   "cell_type": "markdown",
   "id": "d57f92bb",
   "metadata": {},
   "source": [
    "### Lasso Regressor\n",
    "\n",
    "\n",
    "In statistics and machine learning, lasso (least absolute shrinkage and selection operator; also Lasso or LASSO) is a regression analysis method that performs both variable selection and regularization in order to enhance the prediction accuracy and interpretability of the statistical model it produces "
   ]
  },
  {
   "cell_type": "code",
   "execution_count": 71,
   "id": "02ea7c19",
   "metadata": {},
   "outputs": [
    {
     "name": "stdout",
     "output_type": "stream",
     "text": [
      " Mean Absolute Error: 838.04\n",
      "\n",
      " Mean Squared Error: 1285537.19\n",
      "\n",
      " R^2 Score: 0.5594\n",
      "\n",
      "Lasso(alpha=0.05) Scores:\n",
      "0.57\n",
      "0.55\n",
      "0.55\n",
      "0.56\n",
      "0.56\n",
      "Average Lasso(alpha=0.05) score: 0.5581\n"
     ]
    }
   ],
   "source": [
    "LS = Lasso(alpha = 0.05)\n",
    "#fit\n",
    "LS.fit(X_train,y_train)\n",
    "\n",
    "#predict\n",
    "y_predict = LS.predict(X_test)\n",
    "\n",
    "#score variables\n",
    "LS_MAE = round(MAE(y_test, y_predict),2)\n",
    "LS_MSE = round(MSE(y_test, y_predict),2)\n",
    "LS_R_2 = round(R2(y_test, y_predict),4)\n",
    "LS_CS  = round(CVS(LS, X, y, cv=5).mean(),4)\n",
    "\n",
    "print(f\" Mean Absolute Error: {LS_MAE}\\n\")\n",
    "print(f\" Mean Squared Error: {LS_MSE}\\n\")\n",
    "print(f\" R^2 Score: {LS_R_2}\\n\")\n",
    "cross_val(LS,Lasso(alpha = 0.05),X,y,5)"
   ]
  },
  {
   "cell_type": "code",
   "execution_count": 72,
   "id": "cd54bc03",
   "metadata": {},
   "outputs": [
    {
     "data": {
      "text/html": [
       "<div>\n",
       "<style scoped>\n",
       "    .dataframe tbody tr th:only-of-type {\n",
       "        vertical-align: middle;\n",
       "    }\n",
       "\n",
       "    .dataframe tbody tr th {\n",
       "        vertical-align: top;\n",
       "    }\n",
       "\n",
       "    .dataframe thead th {\n",
       "        text-align: right;\n",
       "    }\n",
       "</style>\n",
       "<table border=\"1\" class=\"dataframe\">\n",
       "  <thead>\n",
       "    <tr style=\"text-align: right;\">\n",
       "      <th></th>\n",
       "      <th>models</th>\n",
       "      <th>MAE</th>\n",
       "      <th>MSE</th>\n",
       "      <th>R^2</th>\n",
       "      <th>Cross Validation Score</th>\n",
       "    </tr>\n",
       "  </thead>\n",
       "  <tbody>\n",
       "    <tr>\n",
       "      <th>2</th>\n",
       "      <td>Lasso Regressor</td>\n",
       "      <td>838.04</td>\n",
       "      <td>1285537.19</td>\n",
       "      <td>0.5594</td>\n",
       "      <td>0.5581</td>\n",
       "    </tr>\n",
       "    <tr>\n",
       "      <th>0</th>\n",
       "      <td>Linear Regression</td>\n",
       "      <td>838.15</td>\n",
       "      <td>1285773.84</td>\n",
       "      <td>0.5593</td>\n",
       "      <td>0.5579</td>\n",
       "    </tr>\n",
       "    <tr>\n",
       "      <th>1</th>\n",
       "      <td>Random Forest Regressor</td>\n",
       "      <td>1030.25</td>\n",
       "      <td>1963936.78</td>\n",
       "      <td>0.3268</td>\n",
       "      <td>0.5920</td>\n",
       "    </tr>\n",
       "  </tbody>\n",
       "</table>\n",
       "</div>"
      ],
      "text/plain": [
       "                    models      MAE         MSE     R^2  \\\n",
       "2          Lasso Regressor   838.04  1285537.19  0.5594   \n",
       "0        Linear Regression   838.15  1285773.84  0.5593   \n",
       "1  Random Forest Regressor  1030.25  1963936.78  0.3268   \n",
       "\n",
       "   Cross Validation Score  \n",
       "2                  0.5581  \n",
       "0                  0.5579  \n",
       "1                  0.5920  "
      ]
     },
     "execution_count": 72,
     "metadata": {},
     "output_type": "execute_result"
    }
   ],
   "source": [
    "#comparing the algorithms based on scores\n",
    "MAE= [LR_MAE,RFR_MAE,LS_MAE]\n",
    "MSE= [LR_MSE,RFR_MSE,LS_MSE]\n",
    "R_2= [LR_R_2,RFR_R_2,LS_R_2]\n",
    "Cross_score= [LR_CS,RFR_CS,LS_CS]\n",
    "\n",
    "Models = pd.DataFrame({\n",
    "    'models': [\"Linear Regression\",\"Random Forest Regressor\",\"Lasso Regressor\"],\n",
    "    'MAE': MAE, 'MSE': MSE, 'R^2':R_2, 'Cross Validation Score':Cross_score})\n",
    "Models.sort_values(by='MAE', ascending=True)"
   ]
  },
  {
   "cell_type": "markdown",
   "id": "e8a4475c",
   "metadata": {},
   "source": [
    "### Conclusion"
   ]
  },
  {
   "cell_type": "markdown",
   "id": "82afe580",
   "metadata": {},
   "source": [
    "\n",
    "* `Item_MRP`  optimizes Maximum Outlet sales (positive correlation with the target).\n",
    "* Linear Regression\tand Lasso Regressor have the best perfomance in most categories.\n",
    "* only a third of the observed variation can be explained by the model's inputs of Random Forest Regressor, there for it's performance is not optimal even though his cross validation is the highest.\n",
    "* For better peformance this models need tuning e.g. Grid Search."
   ]
  },
  {
   "cell_type": "code",
   "execution_count": null,
   "id": "12ba19eb",
   "metadata": {},
   "outputs": [],
   "source": []
  }
 ],
 "metadata": {
  "kernelspec": {
   "display_name": "Python 3",
   "language": "python",
   "name": "python3"
  },
  "language_info": {
   "codemirror_mode": {
    "name": "ipython",
    "version": 3
   },
   "file_extension": ".py",
   "mimetype": "text/x-python",
   "name": "python",
   "nbconvert_exporter": "python",
   "pygments_lexer": "ipython3",
   "version": "3.8.8"
  }
 },
 "nbformat": 4,
 "nbformat_minor": 5
}
